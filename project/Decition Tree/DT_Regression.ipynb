{
  "nbformat": 4,
  "nbformat_minor": 0,
  "metadata": {
    "colab": {
      "provenance": [],
      "collapsed_sections": []
    },
    "kernelspec": {
      "name": "python3",
      "display_name": "Python 3"
    },
    "language_info": {
      "name": "python"
    }
  },
  "cells": [
    {
      "cell_type": "markdown",
      "source": [
        "<div dir=\"rtl\">\n",
        "<li>نام و نام خانودگی : امیرحسین جراره</li>\n",
        "<li>شماره دانشجویی : 400616004 </li>\n",
        "<li>عنوان پروژه : پیاده سازی درخت تصمیم برای تقریب تابع </li>\n",
        "<li>نام استاد : دکتر عبدی هجراندوست </li>\n",
        "</div>"
      ],
      "metadata": {
        "id": "aro9d7ZgfpK6"
      }
    },
    {
      "cell_type": "markdown",
      "source": [
        "<div dir=\"rtl\">\n",
        "  <h1>پروژه درخت تصمیم تقریب داده (Regression)</h1>\n",
        "  <p>\n",
        "    ابتدا همه ی دیتاست ها و فایل های نصبی لازم را برای نصب پکیج های پایتون از گیتهاب شخصی اینجانب برای پروژه درخت تصمیم دریافت می کنیم.همچنین برای اجرای هرچه بهتر پروژه بهتر است از محیط گوگل کلب استفاده نمایید.\n",
        "  </p>\n",
        "  \n",
        "  \n",
        "  <b> توجه : برای استفاده کافیست که در محیط گوگل کلب فقط سلول ها را اجرا نمایید ، همه ی پیشنیاز ها و دانلود ها خود انجام خواهند شد و احتیاج به هیچ فرآیند جانبی نمی باشد</b>\n",
        "\n",
        "  <h3>موارد اجرا شده در این دستورالعمل و کد</h3>\n",
        "  <li>پیاده سازی دستی درخت تصمیم مطابق با الگوریتم مطرح شده در کلاس</li>\n",
        "\n",
        "  <li>تقسیم بندی به بازه دلخواه مساوی مطرح شده در کلاس و تعیین حد بالاتر و پایین تر برای داده های خارج از بازه</li>\n",
        "  <li>مقایسه با پکیج آماده درخت تصمیم در  sickit learn</li>\n",
        "  <li>مقایسه خطا در واریانس خروجی</li>\n",
        "  <li>استفاده از دیتاست airfoil noise dataset به همراه توضیحات دیتاست در لحظه ی استفاده از آن</li>\n",
        "  <li>بررسی نتایج فوق در انتها </li>\n",
        "</div>"
      ],
      "metadata": {
        "id": "7zxdH_mkJuVl"
      }
    },
    {
      "cell_type": "code",
      "execution_count": null,
      "metadata": {
        "colab": {
          "base_uri": "https://localhost:8080/"
        },
        "id": "kcAetRgpxclK",
        "outputId": "52672a1a-c142-48e9-9dd2-75acab5b18d1"
      },
      "outputs": [
        {
          "output_type": "stream",
          "name": "stdout",
          "text": [
            "/content\n",
            "Reading package lists... Done\n",
            "Building dependency tree       \n",
            "Reading state information... Done\n",
            "git is already the newest version (1:2.17.1-1ubuntu0.13).\n",
            "The following package was automatically installed and is no longer required:\n",
            "  libnvidia-common-460\n",
            "Use 'apt autoremove' to remove it.\n",
            "0 upgraded, 0 newly installed, 0 to remove and 5 not upgraded.\n"
          ]
        }
      ],
      "source": [
        "# remove and install defualt package , just use inn google colab\n",
        "%cd /content/\n",
        "!rm -rf * #remove defualt folders and file in google colab\n",
        "!apt install git -y #install git"
      ]
    },
    {
      "cell_type": "markdown",
      "source": [
        "<div dir=\"rtl\">\n",
        "  <h2>توضیحات و اطلاعات دیتاست مورد استفاده</h2>\n",
        "</div>\n",
        "\n",
        "The NASA data set comprises different size NACA 0012 airfoils at various wind tunnel speeds and angles of attack. The span of the airfoil and the observer position were the same in all of the experiments.\n",
        "\n",
        "\n",
        "Attribute Information:\n",
        "\n",
        "This problem has the following inputs:\n",
        "1. Frequency, in Hertzs.\n",
        "2. Angle of attack, in degrees.\n",
        "3. Chord length, in meters.\n",
        "4. Free-stream velocity, in meters per second.\n",
        "5. Suction side displacement thickness, in meters.\n",
        "\n",
        "The only output is:\n",
        "6. Scaled sound pressure level, in decibels.\n",
        "\n",
        "<div dir=\"rtl\">\n",
        "  <b>برای اطلاعات بیشتر راجع به دیتاست به سایت مرجع مراجعه فرمایید</b>\n",
        "</div>\n",
        "\n",
        "[Dataset Link](https://archive.ics.uci.edu/ml/datasets/Airfoil+Self-Noise)"
      ],
      "metadata": {
        "id": "bV3vXo_V0S_F"
      }
    },
    {
      "cell_type": "code",
      "source": [
        "# clone dataset and requirment files and install python packages\n",
        "%cd /content/\n",
        "!git clone https://github.com/amirjarareh/dt_regression\n",
        "\n",
        "%mv /content/dt_regression/* /content/\n",
        "%rm -rf /content/dt_regression/\n",
        "!pip install -r requirment.txt"
      ],
      "metadata": {
        "colab": {
          "base_uri": "https://localhost:8080/"
        },
        "id": "XSxfXZbCz09t",
        "outputId": "22bbace9-03a2-4583-d720-0099f61e87d0"
      },
      "execution_count": null,
      "outputs": [
        {
          "output_type": "stream",
          "name": "stdout",
          "text": [
            "/content\n",
            "Cloning into 'dt_regression'...\n",
            "remote: Enumerating objects: 8, done.\u001b[K\n",
            "remote: Counting objects: 100% (8/8), done.\u001b[K\n",
            "remote: Compressing objects: 100% (8/8), done.\u001b[K\n",
            "remote: Total 8 (delta 1), reused 0 (delta 0), pack-reused 0\u001b[K\n",
            "Unpacking objects: 100% (8/8), done.\n",
            "Looking in indexes: https://pypi.org/simple, https://us-python.pkg.dev/colab-wheels/public/simple/\n",
            "Requirement already satisfied: numpy in /usr/local/lib/python3.7/dist-packages (from -r requirment.txt (line 1)) (1.21.6)\n",
            "Requirement already satisfied: idx2numpy in /usr/local/lib/python3.7/dist-packages (from -r requirment.txt (line 2)) (1.2.3)\n",
            "Requirement already satisfied: seaborn in /usr/local/lib/python3.7/dist-packages (from -r requirment.txt (line 3)) (0.11.2)\n",
            "Requirement already satisfied: matplotlib in /usr/local/lib/python3.7/dist-packages (from -r requirment.txt (line 4)) (3.2.2)\n",
            "Requirement already satisfied: sklearn in /usr/local/lib/python3.7/dist-packages (from -r requirment.txt (line 5)) (0.0.post1)\n",
            "Requirement already satisfied: pandas in /usr/local/lib/python3.7/dist-packages (from -r requirment.txt (line 6)) (1.3.5)\n",
            "Requirement already satisfied: six in /usr/local/lib/python3.7/dist-packages (from idx2numpy->-r requirment.txt (line 2)) (1.15.0)\n",
            "Requirement already satisfied: scipy>=1.0 in /usr/local/lib/python3.7/dist-packages (from seaborn->-r requirment.txt (line 3)) (1.7.3)\n",
            "Requirement already satisfied: kiwisolver>=1.0.1 in /usr/local/lib/python3.7/dist-packages (from matplotlib->-r requirment.txt (line 4)) (1.4.4)\n",
            "Requirement already satisfied: pyparsing!=2.0.4,!=2.1.2,!=2.1.6,>=2.0.1 in /usr/local/lib/python3.7/dist-packages (from matplotlib->-r requirment.txt (line 4)) (3.0.9)\n",
            "Requirement already satisfied: cycler>=0.10 in /usr/local/lib/python3.7/dist-packages (from matplotlib->-r requirment.txt (line 4)) (0.11.0)\n",
            "Requirement already satisfied: python-dateutil>=2.1 in /usr/local/lib/python3.7/dist-packages (from matplotlib->-r requirment.txt (line 4)) (2.8.2)\n",
            "Requirement already satisfied: pytz>=2017.3 in /usr/local/lib/python3.7/dist-packages (from pandas->-r requirment.txt (line 6)) (2022.6)\n",
            "Requirement already satisfied: typing-extensions in /usr/local/lib/python3.7/dist-packages (from kiwisolver>=1.0.1->matplotlib->-r requirment.txt (line 4)) (4.1.1)\n"
          ]
        }
      ]
    },
    {
      "cell_type": "markdown",
      "source": [
        "<div dir=\"rtl\">\n",
        "  <h3>آماده سازی دیتاست</h3>\n",
        "  <p>\n",
        "    در این قسمت دیتاست را متناسب با ورودی درخت آماده کرده و سپس آن را بررسی می کنیم. این امکان در کتابخانه پانداس به خوبی و قابل بیان مهیا شده است.\n",
        "  </p>"
      ],
      "metadata": {
        "id": "XiEqPTn_MO7D"
      }
    },
    {
      "cell_type": "code",
      "source": [
        "import numpy as np\n",
        "import pandas as pd"
      ],
      "metadata": {
        "id": "DOnNayQ_2G4-"
      },
      "execution_count": null,
      "outputs": []
    },
    {
      "cell_type": "code",
      "source": [
        "\n",
        "data = pd.read_csv(\"airfoil_noise_data.csv\")\n",
        "print(\"data number and shape is {} \\n\\nexample 3 data : \".format(data.shape))\n",
        "data.head(3)"
      ],
      "metadata": {
        "colab": {
          "base_uri": "https://localhost:8080/",
          "height": 196
        },
        "id": "LdAF_LjA00O2",
        "outputId": "823f5d66-b30a-40e2-82bb-ca043ce877df"
      },
      "execution_count": null,
      "outputs": [
        {
          "output_type": "stream",
          "name": "stdout",
          "text": [
            "data number and shape is (1503, 6) \n",
            "\n",
            "example 3 data : \n"
          ]
        },
        {
          "output_type": "execute_result",
          "data": {
            "text/plain": [
              "     x0   x1      x2    x3        x4        y\n",
              "0   800  0.0  0.3048  71.3  0.002663  126.201\n",
              "1  1000  0.0  0.3048  71.3  0.002663  125.201\n",
              "2  1250  0.0  0.3048  71.3  0.002663  125.951"
            ],
            "text/html": [
              "\n",
              "  <div id=\"df-38cbe42c-664a-4d35-a45f-8bffaa6e6c5d\">\n",
              "    <div class=\"colab-df-container\">\n",
              "      <div>\n",
              "<style scoped>\n",
              "    .dataframe tbody tr th:only-of-type {\n",
              "        vertical-align: middle;\n",
              "    }\n",
              "\n",
              "    .dataframe tbody tr th {\n",
              "        vertical-align: top;\n",
              "    }\n",
              "\n",
              "    .dataframe thead th {\n",
              "        text-align: right;\n",
              "    }\n",
              "</style>\n",
              "<table border=\"1\" class=\"dataframe\">\n",
              "  <thead>\n",
              "    <tr style=\"text-align: right;\">\n",
              "      <th></th>\n",
              "      <th>x0</th>\n",
              "      <th>x1</th>\n",
              "      <th>x2</th>\n",
              "      <th>x3</th>\n",
              "      <th>x4</th>\n",
              "      <th>y</th>\n",
              "    </tr>\n",
              "  </thead>\n",
              "  <tbody>\n",
              "    <tr>\n",
              "      <th>0</th>\n",
              "      <td>800</td>\n",
              "      <td>0.0</td>\n",
              "      <td>0.3048</td>\n",
              "      <td>71.3</td>\n",
              "      <td>0.002663</td>\n",
              "      <td>126.201</td>\n",
              "    </tr>\n",
              "    <tr>\n",
              "      <th>1</th>\n",
              "      <td>1000</td>\n",
              "      <td>0.0</td>\n",
              "      <td>0.3048</td>\n",
              "      <td>71.3</td>\n",
              "      <td>0.002663</td>\n",
              "      <td>125.201</td>\n",
              "    </tr>\n",
              "    <tr>\n",
              "      <th>2</th>\n",
              "      <td>1250</td>\n",
              "      <td>0.0</td>\n",
              "      <td>0.3048</td>\n",
              "      <td>71.3</td>\n",
              "      <td>0.002663</td>\n",
              "      <td>125.951</td>\n",
              "    </tr>\n",
              "  </tbody>\n",
              "</table>\n",
              "</div>\n",
              "      <button class=\"colab-df-convert\" onclick=\"convertToInteractive('df-38cbe42c-664a-4d35-a45f-8bffaa6e6c5d')\"\n",
              "              title=\"Convert this dataframe to an interactive table.\"\n",
              "              style=\"display:none;\">\n",
              "        \n",
              "  <svg xmlns=\"http://www.w3.org/2000/svg\" height=\"24px\"viewBox=\"0 0 24 24\"\n",
              "       width=\"24px\">\n",
              "    <path d=\"M0 0h24v24H0V0z\" fill=\"none\"/>\n",
              "    <path d=\"M18.56 5.44l.94 2.06.94-2.06 2.06-.94-2.06-.94-.94-2.06-.94 2.06-2.06.94zm-11 1L8.5 8.5l.94-2.06 2.06-.94-2.06-.94L8.5 2.5l-.94 2.06-2.06.94zm10 10l.94 2.06.94-2.06 2.06-.94-2.06-.94-.94-2.06-.94 2.06-2.06.94z\"/><path d=\"M17.41 7.96l-1.37-1.37c-.4-.4-.92-.59-1.43-.59-.52 0-1.04.2-1.43.59L10.3 9.45l-7.72 7.72c-.78.78-.78 2.05 0 2.83L4 21.41c.39.39.9.59 1.41.59.51 0 1.02-.2 1.41-.59l7.78-7.78 2.81-2.81c.8-.78.8-2.07 0-2.86zM5.41 20L4 18.59l7.72-7.72 1.47 1.35L5.41 20z\"/>\n",
              "  </svg>\n",
              "      </button>\n",
              "      \n",
              "  <style>\n",
              "    .colab-df-container {\n",
              "      display:flex;\n",
              "      flex-wrap:wrap;\n",
              "      gap: 12px;\n",
              "    }\n",
              "\n",
              "    .colab-df-convert {\n",
              "      background-color: #E8F0FE;\n",
              "      border: none;\n",
              "      border-radius: 50%;\n",
              "      cursor: pointer;\n",
              "      display: none;\n",
              "      fill: #1967D2;\n",
              "      height: 32px;\n",
              "      padding: 0 0 0 0;\n",
              "      width: 32px;\n",
              "    }\n",
              "\n",
              "    .colab-df-convert:hover {\n",
              "      background-color: #E2EBFA;\n",
              "      box-shadow: 0px 1px 2px rgba(60, 64, 67, 0.3), 0px 1px 3px 1px rgba(60, 64, 67, 0.15);\n",
              "      fill: #174EA6;\n",
              "    }\n",
              "\n",
              "    [theme=dark] .colab-df-convert {\n",
              "      background-color: #3B4455;\n",
              "      fill: #D2E3FC;\n",
              "    }\n",
              "\n",
              "    [theme=dark] .colab-df-convert:hover {\n",
              "      background-color: #434B5C;\n",
              "      box-shadow: 0px 1px 3px 1px rgba(0, 0, 0, 0.15);\n",
              "      filter: drop-shadow(0px 1px 2px rgba(0, 0, 0, 0.3));\n",
              "      fill: #FFFFFF;\n",
              "    }\n",
              "  </style>\n",
              "\n",
              "      <script>\n",
              "        const buttonEl =\n",
              "          document.querySelector('#df-38cbe42c-664a-4d35-a45f-8bffaa6e6c5d button.colab-df-convert');\n",
              "        buttonEl.style.display =\n",
              "          google.colab.kernel.accessAllowed ? 'block' : 'none';\n",
              "\n",
              "        async function convertToInteractive(key) {\n",
              "          const element = document.querySelector('#df-38cbe42c-664a-4d35-a45f-8bffaa6e6c5d');\n",
              "          const dataTable =\n",
              "            await google.colab.kernel.invokeFunction('convertToInteractive',\n",
              "                                                     [key], {});\n",
              "          if (!dataTable) return;\n",
              "\n",
              "          const docLinkHtml = 'Like what you see? Visit the ' +\n",
              "            '<a target=\"_blank\" href=https://colab.research.google.com/notebooks/data_table.ipynb>data table notebook</a>'\n",
              "            + ' to learn more about interactive tables.';\n",
              "          element.innerHTML = '';\n",
              "          dataTable['output_type'] = 'display_data';\n",
              "          await google.colab.output.renderOutput(dataTable, element);\n",
              "          const docLink = document.createElement('div');\n",
              "          docLink.innerHTML = docLinkHtml;\n",
              "          element.appendChild(docLink);\n",
              "        }\n",
              "      </script>\n",
              "    </div>\n",
              "  </div>\n",
              "  "
            ]
          },
          "metadata": {},
          "execution_count": 152
        }
      ]
    },
    {
      "cell_type": "markdown",
      "source": [
        "<div dir=\"rtl\">\n",
        "  <h2>ساخت درخت تصمیم</h2>\n",
        "  <p>\n",
        "مطابق با مباحث مطرح شده در کلاس و شبه کد بیان شده در اسلاید ها به پیاده سازی درخت تصمیم می پردازیم با توجه به اینکه الگوریتم مطرح شده ریکیرسیو یا بازگشتی می باشد از ساختار کلاس در پایتون استفاده می نماییم . برای این منظور ابتدا یک کلاس گره درست کرده و سپس درخت مورد نظر خود را متناسب با آن تشکیل می دهیم ، با توجه به اینکه نمی توان درمحیط ژوپیتر و یا گوگل کلب نمی توان کلاس را تکه کرد و مستقلا توضیح داد در بالای هر توضیح مختصری راجع به آن فانکشن را بیان می کنیم.توجه فرمایید که اگر نامگذاری ها را متناسب با پکیج scikit learn انجام دهیم می توانیم از فانکشن های متناظر با آن نیز استفاده نماییم.\n",
        "  </p>\n",
        "  <\n",
        "  <b>\n",
        "  برای ساخت درخت مطابق با روند زیر عمل می کنیم.\n",
        "\n",
        "  <li>ساخت کلاس درخت و نود اصلی برای کلیت درخت</li>\n",
        "  <li>ساخت تابع fit شبیه پکیج scikit learn  و فراخوانی فانکشن train</li>\n",
        "  <li>نوشتن تابع یازگشتی Decision_Tree_Learning </li>\n",
        "  <li>نوشتن تابع یازگشتی importance برای پیدا کردن بهترین ویژگی </li>\n",
        "\n",
        "  <li>محاسبه واریانس در فانکشن variance_reduction</li>\n",
        "  <li>محاسبه مقدار برگ با استفاده میانه یا میانگین تعیین شده توسط کاربر</li>\n",
        "  </b>\n",
        "</div>"
      ],
      "metadata": {
        "id": "jIUBDuuGMhck"
      }
    },
    {
      "cell_type": "code",
      "source": [
        "class Decision_Tree_Regressoion():\n",
        "    def __init__(self, leaf_solver=\"median\", max_depth=5):\n",
        "      self.root = None      \n",
        "      self.leaf_solver = leaf_solver # median or mean\n",
        "      self.max_depth = max_depth\n",
        "    \n",
        "    #class node for tree\n",
        "    class Node():\n",
        "      def __init__(self, feature_index=None, threshold=None,\n",
        "                  left=None, right=None, info_gain=None, value=None):\n",
        "        self.feature_index = feature_index\n",
        "        self.threshold = threshold\n",
        "        self.left = left\n",
        "        self.right = right\n",
        "        self.info_gain = info_gain\n",
        "        self.value = value\n",
        "        \n",
        "    def Decision_Tree_Learning(self, dataset, current_depth=0):\n",
        "\n",
        "      X, Y = dataset[:,:-1], dataset[:,-1]\n",
        "      num_samples, num_features = np.shape(X)\n",
        "      importance_features = []\n",
        "      if num_samples> 2 and current_depth<=self.max_depth:\n",
        "        importance_features = self.Importance(dataset, num_samples, num_features)\n",
        "        if importance_features[4]>0:\n",
        "          l_tree = self.Decision_Tree_Learning(importance_features[2], current_depth+1)\n",
        "          r_tree = self.Decision_Tree_Learning(importance_features[3], current_depth+1)\n",
        "          return self.Node(importance_features[0], importance_features[1], \n",
        "                      l_tree, r_tree, importance_features[4])\n",
        "      \n",
        "      if self.leaf_solver == \"median\":\n",
        "        val = np.median(Y)\n",
        "      else:\n",
        "        val = np.mean(Y)\n",
        "      return self.Node(value=val)\n",
        "    \n",
        "    def Importance(self, dataset, num_samples, num_features):\n",
        "\n",
        "      importance = []\n",
        "      max_var_red = -float(\"inf\")\n",
        "      i = 0\n",
        "      while i < num_features:\n",
        "        feature_values = dataset[:, i]\n",
        "        tr_main = np.unique(feature_values)\n",
        "        for tr in tr_main:\n",
        "\n",
        "          dataset_left = np.array([row for row in dataset if row[i]<=tr])\n",
        "          dataset_right = np.array([row for row in dataset if row[i]>tr])\n",
        "\n",
        "          if len(dataset_left)>0 and len(dataset_right)>0:\n",
        "            y, left_y, right_y = dataset[:, -1], dataset_left[:, -1], dataset_right[:, -1]\n",
        "            current_var_red = self.variance_reduction(y, left_y, right_y)\n",
        "            if current_var_red>max_var_red:\n",
        "              importance = []\n",
        "              importance.extend([i,tr,\n",
        "                                  dataset_left,dataset_right,\n",
        "                                  current_var_red])\n",
        "              max_var_red = current_var_red\n",
        "        i +=1       \n",
        "      return importance\n",
        "    \n",
        "    def variance_reduction(self, parent, l_child, r_child):        \n",
        "      weight_l = len(l_child) / len(parent)\n",
        "      weight_r = len(r_child) / len(parent)\n",
        "      reduction = np.var(parent) - (weight_l * np.var(l_child) + weight_r * np.var(r_child))\n",
        "      return reduction  \n",
        "    \n",
        "    def fit(self, X, Y):        \n",
        "      dataset = np.concatenate((X, Y), axis=1)\n",
        "      self.root = self.Decision_Tree_Learning(dataset)\n",
        "    \n",
        "    def predict(self, X):        \n",
        "      preditions = [self.prediction_sample_data(x, self.root) for x in X]\n",
        "      return preditions\n",
        "    \n",
        "    def prediction_sample_data(self, x, tree):        \n",
        "      if tree.value!=None: return tree.value\n",
        "      feature_val = x[tree.feature_index]\n",
        "      if feature_val<=tree.threshold:\n",
        "          return self.prediction_sample_data(x, tree.left)\n",
        "      else:\n",
        "          return self.prediction_sample_data(x, tree.right)\n",
        "\n",
        "    def export_text(self, tree=None, indent=\"-\"):        \n",
        "      if not tree:\n",
        "        tree = self.root\n",
        "      if tree.value is not None:\n",
        "        value = int(tree.value *1e3)/1e3\n",
        "        print(value)\n",
        "      else:\n",
        "        print(\"X_\"+str(tree.feature_index), \"<=\", tree.threshold)\n",
        "        print(\"{}left:\".format(indent), end=\"\")\n",
        "        self.export_text(tree.left, indent + indent)\n",
        "        print(\"{}right:\".format(indent), end=\"\")\n",
        "        self.export_text(tree.right, indent + indent)"
      ],
      "metadata": {
        "id": "6s-QpbKy2NkW"
      },
      "execution_count": null,
      "outputs": []
    },
    {
      "cell_type": "markdown",
      "source": [
        "<div dir=\"rtl\">\n",
        "  <h3>آماده سازی داده های آموزش و تست</h3>\n",
        "  <p>\n",
        "    آماده سازی داده های آموزش و تست برای آموزش و ارزیابی درخت تصمیم\n",
        "  </p>"
      ],
      "metadata": {
        "id": "Z1BzeHIeanAA"
      }
    },
    {
      "cell_type": "code",
      "source": [
        "from sklearn.model_selection import train_test_split\n",
        "\n",
        "X_All_Data = data.iloc[:, :-1].values\n",
        "Y_All_Data = data.iloc[:, -1].values.reshape(-1,1)\n",
        "\n",
        "X_train, X_test, Y_train, Y_test = train_test_split(X_All_Data, Y_All_Data, test_size=.25, random_state=None)"
      ],
      "metadata": {
        "id": "GWgUGqYM2Zs-"
      },
      "execution_count": null,
      "outputs": []
    },
    {
      "cell_type": "code",
      "source": [
        "X_train.shape"
      ],
      "metadata": {
        "colab": {
          "base_uri": "https://localhost:8080/"
        },
        "id": "FsnWvBD0_PUx",
        "outputId": "1fac58cc-f475-4bda-df66-9657efb09f60"
      },
      "execution_count": null,
      "outputs": [
        {
          "output_type": "execute_result",
          "data": {
            "text/plain": [
              "(1127, 5)"
            ]
          },
          "metadata": {},
          "execution_count": 155
        }
      ]
    },
    {
      "cell_type": "markdown",
      "source": [
        "<div dir=\"rtl\">\n",
        "  <h3>آموزش درخت تصمیم</h3>\n",
        "  <p>\n",
        "    با استفاده از داده های آموزش و برچسب آن با خروجی میانه درخت تصمیم را با ماکزیمم عمق 5 برای درخت آموزش می دهیم.و پس از آن درخت را رسم می نماییم\n",
        "  </p>"
      ],
      "metadata": {
        "id": "WRq7jKPia1Y_"
      }
    },
    {
      "cell_type": "code",
      "source": [
        "dt_reg = Decision_Tree_Regressoion(leaf_solver=\"median\", max_depth=5)\n",
        "dt_reg.fit(X_train,Y_train)\n",
        "dt_reg.export_text()"
      ],
      "metadata": {
        "colab": {
          "base_uri": "https://localhost:8080/"
        },
        "id": "0EPsKLl879Io",
        "outputId": "ba5d3ffc-b1bb-473b-f64f-aad6cd28245c"
      },
      "execution_count": null,
      "outputs": [
        {
          "output_type": "stream",
          "name": "stdout",
          "text": [
            "X_0 <= 3150.0\n",
            "-left:X_4 <= 0.0150478\n",
            "--left:X_2 <= 0.1016\n",
            "----left:X_0 <= 630.0\n",
            "--------left:X_4 <= 0.00580776\n",
            "----------------left:X_2 <= 0.0508\n",
            "--------------------------------left:122.274\n",
            "--------------------------------right:128.294\n",
            "----------------right:X_1 <= 11.2\n",
            "--------------------------------left:132.116\n",
            "--------------------------------right:123.537\n",
            "--------right:X_4 <= 0.0121808\n",
            "----------------left:X_4 <= 0.00142788\n",
            "--------------------------------left:129.824\n",
            "--------------------------------right:131.458\n",
            "----------------right:X_1 <= 8.9\n",
            "--------------------------------left:119.27\n",
            "--------------------------------right:129.808\n",
            "----right:X_0 <= 1600.0\n",
            "--------left:X_1 <= 4.0\n",
            "----------------left:X_0 <= 400.0\n",
            "--------------------------------left:123.312\n",
            "--------------------------------right:128.676\n",
            "----------------right:X_0 <= 800.0\n",
            "--------------------------------left:131.645\n",
            "--------------------------------right:125.724\n",
            "--------right:X_4 <= 0.00452492\n",
            "----------------left:X_4 <= 0.00293031\n",
            "--------------------------------left:126.896\n",
            "--------------------------------right:123.311\n",
            "----------------right:X_4 <= 0.0111706\n",
            "--------------------------------left:120.228\n",
            "--------------------------------right:114.709\n",
            "--right:X_4 <= 0.0483159\n",
            "----left:X_0 <= 1250.0\n",
            "--------left:X_4 <= 0.0172206\n",
            "----------------left:X_0 <= 500.0\n",
            "--------------------------------left:115.144\n",
            "--------------------------------right:125.816\n",
            "----------------right:X_3 <= 39.6\n",
            "--------------------------------left:124.621\n",
            "--------------------------------right:127.928\n",
            "--------right:X_2 <= 0.0508\n",
            "----------------left:X_4 <= 0.0271925\n",
            "--------------------------------left:125.715\n",
            "--------------------------------right:119.279\n",
            "----------------right:X_3 <= 39.6\n",
            "--------------------------------left:114.281\n",
            "--------------------------------right:119.639\n",
            "----right:X_0 <= 1250.0\n",
            "--------left:X_1 <= 12.6\n",
            "----------------left:X_0 <= 1000.0\n",
            "--------------------------------left:115.395\n",
            "--------------------------------right:112.16\n",
            "----------------right:X_0 <= 315.0\n",
            "--------------------------------left:123.514\n",
            "--------------------------------right:118.964\n",
            "--------right:X_0 <= 2000.0\n",
            "----------------left:X_1 <= 12.6\n",
            "--------------------------------left:110.15\n",
            "--------------------------------right:110.894\n",
            "----------------right:X_1 <= 12.6\n",
            "--------------------------------left:106.88\n",
            "--------------------------------right:109.759\n",
            "-right:X_4 <= 0.00142788\n",
            "--left:X_0 <= 6300.0\n",
            "----left:X_4 <= 0.000930789\n",
            "--------left:X_4 <= 0.000439472\n",
            "----------------left:X_0 <= 5000.0\n",
            "--------------------------------left:136.942\n",
            "--------------------------------right:135.906\n",
            "----------------right:X_0 <= 5000.0\n",
            "--------------------------------left:134.937\n",
            "--------------------------------right:132.796\n",
            "--------right:X_0 <= 5000.0\n",
            "----------------left:X_1 <= 0.0\n",
            "--------------------------------left:130.147\n",
            "--------------------------------right:133.598\n",
            "----------------right:X_3 <= 55.5\n",
            "--------------------------------left:127.73\n",
            "--------------------------------right:129.351\n",
            "----right:X_4 <= 0.00076193\n",
            "--------left:X_0 <= 10000.0\n",
            "----------------left:X_2 <= 0.0254\n",
            "--------------------------------left:134.227\n",
            "--------------------------------right:129.448\n",
            "----------------right:X_0 <= 16000.0\n",
            "--------------------------------left:128.977\n",
            "--------------------------------right:122.575\n",
            "--------right:X_0 <= 8000.0\n",
            "----------------left:X_4 <= 0.000907475\n",
            "--------------------------------left:129.932\n",
            "--------------------------------right:125.268\n",
            "----------------right:X_4 <= 0.000907475\n",
            "--------------------------------left:124.301\n",
            "--------------------------------right:121.238\n",
            "--right:X_4 <= 0.0282593\n",
            "----left:X_0 <= 5000.0\n",
            "--------left:X_4 <= 0.00461377\n",
            "----------------left:X_2 <= 0.1016\n",
            "--------------------------------left:126.895\n",
            "--------------------------------right:121.465\n",
            "----------------right:X_2 <= 0.0508\n",
            "--------------------------------left:119.854\n",
            "--------------------------------right:115.453\n",
            "--------right:X_2 <= 0.1016\n",
            "----------------left:X_4 <= 0.0214178\n",
            "--------------------------------left:120.36\n",
            "--------------------------------right:112.802\n",
            "----------------right:X_4 <= 0.00253511\n",
            "--------------------------------left:118.271\n",
            "--------------------------------right:113.129\n",
            "----right:X_4 <= 0.0437259\n",
            "--------left:X_3 <= 39.6\n",
            "----------------left:X_4 <= 0.0408268\n",
            "--------------------------------left:108.654\n",
            "--------------------------------right:107.267\n",
            "----------------right:X_4 <= 0.0337792\n",
            "--------------------------------left:115.033\n",
            "--------------------------------right:113.171\n",
            "--------right:X_3 <= 39.6\n",
            "----------------left:X_1 <= 12.6\n",
            "--------------------------------left:104.13\n",
            "--------------------------------right:105.214\n",
            "----------------right:X_0 <= 5000.0\n",
            "--------------------------------left:108.034\n",
            "--------------------------------right:107.284\n"
          ]
        }
      ]
    },
    {
      "cell_type": "markdown",
      "source": [
        "<div dir=\"rtl\">\n",
        "  <h3>ارزیابی درخت تصمیم</h3>\n",
        "  <p>\n",
        "    درخت تصمیم را ابتدا برای داده های آموزشی و سپس برای داده های تست ارزیابی می نماییم\n",
        "  </p>"
      ],
      "metadata": {
        "id": "x6Z0CugqbRNo"
      }
    },
    {
      "cell_type": "code",
      "source": [
        "from sklearn.metrics import mean_squared_error\n",
        "\n",
        "Y_train_pred = dt_reg.predict(X_train) \n",
        "np.sqrt(mean_squared_error(Y_train, Y_train_pred))"
      ],
      "metadata": {
        "colab": {
          "base_uri": "https://localhost:8080/"
        },
        "id": "zhJjX6a4bbOH",
        "outputId": "7025ecd4-2b64-47c3-9f14-4f044998a08d"
      },
      "execution_count": null,
      "outputs": [
        {
          "output_type": "execute_result",
          "data": {
            "text/plain": [
              "3.234943581517139"
            ]
          },
          "metadata": {},
          "execution_count": 165
        }
      ]
    },
    {
      "cell_type": "code",
      "source": [
        "from sklearn.metrics import mean_squared_error\n",
        "\n",
        "Y_test_pred = dt_reg.predict(X_test) \n",
        "np.sqrt(mean_squared_error(Y_test, Y_test_pred))"
      ],
      "metadata": {
        "colab": {
          "base_uri": "https://localhost:8080/"
        },
        "id": "WcEUeszu8Md4",
        "outputId": "edf9085d-424a-4af9-faa3-84b4b4d92294"
      },
      "execution_count": null,
      "outputs": [
        {
          "output_type": "execute_result",
          "data": {
            "text/plain": [
              "3.846486837711286"
            ]
          },
          "metadata": {},
          "execution_count": 158
        }
      ]
    },
    {
      "cell_type": "markdown",
      "source": [
        "<div dir=\"rtl\">\n",
        "  <h3>\n",
        "  آموزش با استفاده از cross validation\n",
        "  </h3>\n",
        "  <p>\n",
        "  در این بخش با استفاده از روش K-FOLD  به cross validation داده ها و آموزش درخت می پردازیم.\n",
        "  </p>\n",
        "</div>"
      ],
      "metadata": {
        "id": "h5TKMWKRhnMj"
      }
    },
    {
      "cell_type": "code",
      "source": [
        "# convert to cv to 3 files\n",
        "def preprocess_k_fold_data(x,y,cv = 3):\n",
        "  len_feature = len(x)\n",
        "  x_train_all = list(x)\n",
        "  y_train_all = list(y)\n",
        "  cv_cnt = 0\n",
        "  k_fold_cnt = 0\n",
        "  x_out = []\n",
        "  y_out = []\n",
        "\n",
        "  for i in range(cv):\n",
        "    x_out.append([])\n",
        "    y_out.append([])\n",
        "\n",
        "  for i in range(len_feature):\n",
        "    x_buffer = x_train_all[i]\n",
        "    y_buffer = y_train_all[i]\n",
        "    x_out[cv_cnt].append(x_buffer)\n",
        "    y_out[cv_cnt].append(y_buffer)\n",
        "    k_fold_cnt +=1\n",
        "    if k_fold_cnt == int(len_feature/cv):\n",
        "      cv_cnt +=1\n",
        "      k_fold_cnt =0\n",
        "\n",
        "    if cv_cnt >= cv:\n",
        "      break \n",
        "\n",
        "  return x_out,y_out"
      ],
      "metadata": {
        "id": "xVeXodBnh6As"
      },
      "execution_count": null,
      "outputs": []
    },
    {
      "cell_type": "code",
      "source": [
        "num_cv = 5\n",
        "x_cv_train ,y_cv_train = preprocess_k_fold_data(X_train,Y_train,cv=num_cv)"
      ],
      "metadata": {
        "id": "KWgPM8a0ohbq"
      },
      "execution_count": null,
      "outputs": []
    },
    {
      "cell_type": "code",
      "source": [
        "from sklearn.metrics import mean_squared_error\n",
        "scores = []\n",
        "\n",
        "dt_reg = Decision_Tree_Regressoion(leaf_solver=\"median\", max_depth=5)\n",
        "\n",
        "for i in range(num_cv):\n",
        "  x_train ,y_train ,x_test,y_test = [],[],[],[]\n",
        "  for j in range(len(x_cv_train)):\n",
        "    if i == j:\n",
        "       x_test += x_cv_train[j]\n",
        "       y_test += y_cv_train[j]\n",
        "    else:\n",
        "      x_train += x_cv_train[j]\n",
        "      y_train += y_cv_train[j]\n",
        "\n",
        "  dt_reg.fit(x_train,y_train)\n",
        "\n",
        "  y_pred = dt_reg.predict(x_test) \n",
        "  score = np.sqrt(mean_squared_error(y_test, y_pred))\n",
        "  scores.append(score)\n"
      ],
      "metadata": {
        "id": "0vWg2MfunrjD"
      },
      "execution_count": null,
      "outputs": []
    },
    {
      "cell_type": "code",
      "source": [
        "print( \"show all scores from cross validation K = {} :\\n\\n{}\".format(num_cv,scores))"
      ],
      "metadata": {
        "colab": {
          "base_uri": "https://localhost:8080/"
        },
        "id": "ArZX-J3Js-xU",
        "outputId": "e15badcb-7bf7-47c1-c440-d6d156edaa59"
      },
      "execution_count": null,
      "outputs": [
        {
          "output_type": "stream",
          "name": "stdout",
          "text": [
            "show all scores from cross validation K = 5 :\n",
            "\n",
            "[4.447434928760122, 4.127297214885306, 3.7961796794789477, 4.061032059984534, 3.5433617425954256]\n"
          ]
        }
      ]
    },
    {
      "cell_type": "markdown",
      "source": [
        "<div dir=\"rtl\">\n",
        "  <h3>\n",
        "  بررسی درخت تولید شده با پکیج آماده scikit_learn\n",
        "  </h3>\n",
        "  <p>\n",
        "  در این قسمت از پکیج آماده sklearn.tree برای بررسی درخت تصمیم و نحوه درستی و دقیت عملکرد بهره می بریم .\n",
        "  </p>\n",
        "</div>"
      ],
      "metadata": {
        "id": "ZOVCUNVScbLx"
      }
    },
    {
      "cell_type": "code",
      "source": [
        "from sklearn import tree\n",
        "\n",
        "clf = tree.DecisionTreeRegressor(max_depth=5)\n",
        "clf = clf.fit(X_train,Y_train)"
      ],
      "metadata": {
        "id": "ovec0QDrceB4"
      },
      "execution_count": null,
      "outputs": []
    },
    {
      "cell_type": "markdown",
      "source": [
        "<div dir=\"rtl\">\n",
        "  <h3>ارزیابی درخت تصمیم پکیج آماده sickit learn</h3>\n",
        "  <p>\n",
        "    درخت تصمیم را ابتدا برای داده های آموزشی و سپس برای داده های تست ارزیابی می نماییم\n",
        "  </p>"
      ],
      "metadata": {
        "id": "kePjLyr9dTMY"
      }
    },
    {
      "cell_type": "code",
      "source": [
        "from sklearn.metrics import mean_squared_error\n",
        "\n",
        "Y_train_pred = clf.predict(X_train) \n",
        "np.sqrt(mean_squared_error(Y_train, Y_train_pred))"
      ],
      "metadata": {
        "colab": {
          "base_uri": "https://localhost:8080/"
        },
        "id": "OD4wksEBdQ-R",
        "outputId": "bbd17c30-79ee-409f-e767-26aa40188dde"
      },
      "execution_count": null,
      "outputs": [
        {
          "output_type": "execute_result",
          "data": {
            "text/plain": [
              "3.878144205466675"
            ]
          },
          "metadata": {},
          "execution_count": 169
        }
      ]
    },
    {
      "cell_type": "code",
      "source": [
        "from sklearn.metrics import mean_squared_error\n",
        "\n",
        "Y_test_pred = clf.predict(X_test) \n",
        "np.sqrt(mean_squared_error(Y_test, Y_test_pred))"
      ],
      "metadata": {
        "colab": {
          "base_uri": "https://localhost:8080/"
        },
        "id": "aLf0tATEddyB",
        "outputId": "f0882312-ed96-4166-dc50-e3bd204587b7"
      },
      "execution_count": null,
      "outputs": [
        {
          "output_type": "execute_result",
          "data": {
            "text/plain": [
              "4.196529698005929"
            ]
          },
          "metadata": {},
          "execution_count": 170
        }
      ]
    },
    {
      "cell_type": "markdown",
      "source": [
        "<div dir=\"rtl\">\n",
        "  <h1>نتیجه گیری</h1>\n",
        "  <p>\n",
        "در این قسمت به چالش ها مقایسه روش های مختلف با یکدیگر و ارزیابی آن ها نسبت به یکدیگر را می پردازیم. همچنین در هر پیاده سازی درخت موارد زیر مستقلا برای داد های آموزش و تست برای هر کدام رسم یا پرینت شده اند.\n",
        "  </p>\n",
        "  <li> mean_squared_error</li>\n",
        "\n",
        "  <h3>مقایسه درخت طراحی شده با پکیج آماده</h3>\n",
        "  <p>\n",
        "  همانطور که مشاهده می نمایید درخت طراحی شده در این سیستم با اعمال میانه به عنوان گزینه نماینده برگ باعث عملکرد بهتر در خروجی درخت شده است. برای دیتاست های کوچک مانند دیتاست airfoil_noise_data سرعت نیز بسیار نزدیک است که البته برای دیتاست های بزرگتر در مقایسه با پکیج آماده سرعت قابل قیاس نیست و سرعت پکیج آماده به شدت بیشتر است\n",
        "  </p>\n",
        "\n",
        "\n",
        "  <h3>استفاده از cross validation با روش K-FOLD</h3>\n",
        "  <p>\n",
        "  با استفاده از cross validation با روش K-FOLD که از ساده ترین روش های تقسیم می باشد می بینیم که دقت در داده های تست نیز به طرز چشمگیرتری افزایش می یابد که قابل توجه است.برای مثال در قسمت مثال اجرا شده همانطور که می بینید با در نظر گرفتن 4 داده اولیه به عنوان داده ترین و گرفتن داده آخر به عنوان تست می بینیم که دقت از حالت معمولی واریانس 0.2 کاهش یافته است.\n",
        "  </p>\n",
        "\n",
        "  \n",
        "\n",
        "  </div>\n",
        "\n"
      ],
      "metadata": {
        "id": "7i3pcGY_d3jQ"
      }
    },
    {
      "cell_type": "markdown",
      "source": [
        "<div dir=\"rtl\">\n",
        "  <h1>چالش ها</h1>\n",
        "  <p>\n",
        "  <li>تابع importance</li>\n",
        "  در درخت تصمیم چالش برانگیز ترین قسمت پیاده سازی تابع importance می باشد. که این تابع که به صورت بازگشتی در تابع آموزش درخت فراخوانی می شود علاوه بر پیچیدگی درک در ابتدا کار با ابزار ها و المان های پایتون را نیز به چالش می کشد.\n",
        "  </p>\n",
        "\n",
        "  <li>PreProcess Dataset</li>\n",
        "  آماده سازی دیتا ست و تعیین ورودی و خروجی درخت متناسب با تابع های کتابخانه numpy سومین بخش چالش بر انگیز پروژه بود.همچنین به دلیل سنگینی دیتاست پیشنهادی با داده های آن که حدود 20 هزار داده بود از دیتاست فعلی که حجم و ویژگی کمتری داشت استفاده شده است تا بتوان عملکرد سیستم را راحتر و در زمان کمتر به چالش کشید.\n",
        "  </p>\n",
        "\n",
        "  <p>\n",
        "  <li>نمایش بصری درخت تصمیم</li>\n",
        "  با توجه به اینکه نمی توان برای ترسیم درخت از پکیج آماده استفاده کرد باید فرآیند نمایش درخت را خود انجام دهیم که باعث پیچیدگی های خاص خود و استفاده از مفهوم بازگشتی را داراست.\n",
        "  </p>\n",
        "  </div>"
      ],
      "metadata": {
        "id": "LCGu6xiteovh"
      }
    },
    {
      "cell_type": "markdown",
      "source": [
        "<div dir=\"rtl\">\n",
        "  <h1>پشنهادات</h1>\n",
        "  <p>\n",
        "  <li>ذخیره سازی درخت برای جلوگیری از آموزش هرباره ی درخت که با کتابخانه sklearn-onnx قابل انجام است.</li>\n",
        "همچنین برای دریافت و نمایش کده و دیتاست می توانید به گیتهاب شخصی این جانب با لینک زیر مراعه فرمایید.\n",
        "</div>\n",
        "\n",
        "[github : amirjarareh/dt_regression](https://github.com/amirjarareh/dt_regression)"
      ],
      "metadata": {
        "id": "_BIkmtYce0mQ"
      }
    }
  ]
}