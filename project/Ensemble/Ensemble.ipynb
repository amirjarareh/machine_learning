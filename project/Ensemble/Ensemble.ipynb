{
  "nbformat": 4,
  "nbformat_minor": 0,
  "metadata": {
    "colab": {
      "provenance": [],
      "collapsed_sections": [
        "gH0VMJGP-Kdi",
        "7Gvz9pxwwP5X",
        "psIOa_mmgdPO",
        "9Dxm_sSthslu",
        "v6aitmypihYG",
        "B8OwDqOY6Ego"
      ]
    },
    "kernelspec": {
      "name": "python3",
      "display_name": "Python 3"
    },
    "language_info": {
      "name": "python"
    }
  },
  "cells": [
    {
      "cell_type": "markdown",
      "source": [
        "# XGBoost MNIST TEST"
      ],
      "metadata": {
        "id": "gH0VMJGP-Kdi"
      }
    },
    {
      "cell_type": "code",
      "execution_count": null,
      "metadata": {
        "colab": {
          "base_uri": "https://localhost:8080/"
        },
        "id": "UBvZrhRa8YPM",
        "outputId": "0c9a473d-52fe-4517-aca3-05d922ba6e6d"
      },
      "outputs": [
        {
          "output_type": "stream",
          "name": "stdout",
          "text": [
            "Looking in indexes: https://pypi.org/simple, https://us-python.pkg.dev/colab-wheels/public/simple/\n",
            "Requirement already satisfied: xgboost in /usr/local/lib/python3.8/dist-packages (0.90)\n",
            "Requirement already satisfied: numpy in /usr/local/lib/python3.8/dist-packages (from xgboost) (1.21.6)\n",
            "Requirement already satisfied: scipy in /usr/local/lib/python3.8/dist-packages (from xgboost) (1.7.3)\n",
            "Looking in indexes: https://pypi.org/simple, https://us-python.pkg.dev/colab-wheels/public/simple/\n",
            "Requirement already satisfied: xgboost in /usr/local/lib/python3.8/dist-packages (0.90)\n",
            "Requirement already satisfied: scipy in /usr/local/lib/python3.8/dist-packages (from xgboost) (1.7.3)\n",
            "Requirement already satisfied: numpy in /usr/local/lib/python3.8/dist-packages (from xgboost) (1.21.6)\n"
          ]
        }
      ],
      "source": [
        "!pip install xgboost"
      ]
    },
    {
      "cell_type": "code",
      "source": [
        "import xgboost\n",
        "from sklearn.datasets import load_digits\n",
        "from sklearn import datasets\n",
        "from sklearn.model_selection import train_test_split\n",
        "\n",
        "digits = load_digits()\n",
        "X = digits.data\n",
        "y = digits.target\n",
        "\n",
        "print(X.shape)\n",
        "print(y.shape)"
      ],
      "metadata": {
        "colab": {
          "base_uri": "https://localhost:8080/"
        },
        "id": "qnWpxGpf9DYo",
        "outputId": "8808fb97-e271-4816-c94f-68f99b7ed365"
      },
      "execution_count": null,
      "outputs": [
        {
          "output_type": "stream",
          "name": "stdout",
          "text": [
            "(1797, 64)\n",
            "(1797,)\n"
          ]
        }
      ]
    },
    {
      "cell_type": "code",
      "source": [
        "%matplotlib inline\n",
        "\n",
        "print(digits.data.shape)\n",
        "\n",
        "import matplotlib.pyplot as plt \n",
        "plt.gray() \n",
        "plt.matshow(digits.images[0]) \n",
        "plt.show() "
      ],
      "metadata": {
        "colab": {
          "base_uri": "https://localhost:8080/",
          "height": 312
        },
        "id": "S_Hgr21n9G95",
        "outputId": "298da1d3-bb4e-4209-88fe-b7163d838cf1"
      },
      "execution_count": null,
      "outputs": [
        {
          "output_type": "stream",
          "name": "stdout",
          "text": [
            "(1797, 64)\n"
          ]
        },
        {
          "output_type": "display_data",
          "data": {
            "text/plain": [
              "<Figure size 432x288 with 0 Axes>"
            ]
          },
          "metadata": {}
        },
        {
          "output_type": "display_data",
          "data": {
            "text/plain": [
              "<Figure size 288x288 with 1 Axes>"
            ],
            "image/png": "[encoded data removed]"
          },
          "metadata": {
            "needs_background": "light"
          }
        }
      ]
    },
    {
      "cell_type": "code",
      "source": [
        "X_train, X_test, y_train, y_test = train_test_split(X, y, test_size=0.2, random_state=42)\n",
        "\n",
        "print(X_train.shape)\n",
        "print(y_train.shape)\n",
        "\n",
        "print(X_test.shape)\n",
        "print(y_test.shape)"
      ],
      "metadata": {
        "colab": {
          "base_uri": "https://localhost:8080/"
        },
        "id": "ocdtrMbD9KLA",
        "outputId": "a2b129e3-1962-4cd8-fead-ea0855826680"
      },
      "execution_count": null,
      "outputs": [
        {
          "output_type": "stream",
          "name": "stdout",
          "text": [
            "(1437, 64)\n",
            "(1437,)\n",
            "(360, 64)\n",
            "(360,)\n"
          ]
        }
      ]
    },
    {
      "cell_type": "code",
      "source": [
        "dtrain = xgboost.DMatrix(X_train, label=y_train)\n",
        "dtest = xgboost.DMatrix(X_test, label=y_test)\n",
        "\n",
        "param = {\n",
        "    'max_depth': 5,                 # the maximum depth of each tree\n",
        "    'eta': 0.3,                     # the training step for each iteration\n",
        "    'silent': 1,                    # logging mode - quiet\n",
        "    'objective': 'multi:softmax',   # multiclass classification using the softmax objective\n",
        "    'num_class': 10                 # the number of classes that exist in this datset\n",
        "}  \n",
        "num_round = 500  # the number of training iterations"
      ],
      "metadata": {
        "id": "hIbIDg4u9OPn"
      },
      "execution_count": null,
      "outputs": []
    },
    {
      "cell_type": "code",
      "source": [
        "bstmodel = xgboost.train(param, dtrain, num_round)\n",
        "\n",
        "#Save as human readable model\n",
        "bstmodel.dump_model('dump.raw.txt')"
      ],
      "metadata": {
        "id": "GJ-jdRiX9X7W"
      },
      "execution_count": null,
      "outputs": []
    },
    {
      "cell_type": "code",
      "source": [
        "preds = bstmodel.predict(dtest)"
      ],
      "metadata": {
        "id": "S9WuvC0k9ZWG"
      },
      "execution_count": null,
      "outputs": []
    },
    {
      "cell_type": "code",
      "source": [
        "preds.shape"
      ],
      "metadata": {
        "colab": {
          "base_uri": "https://localhost:8080/"
        },
        "id": "kbkive9N9eWm",
        "outputId": "f5df497d-81c5-47c8-9861-974f8ab31af5"
      },
      "execution_count": null,
      "outputs": [
        {
          "output_type": "execute_result",
          "data": {
            "text/plain": [
              "(360,)"
            ]
          },
          "metadata": {},
          "execution_count": 8
        }
      ]
    },
    {
      "cell_type": "code",
      "source": [
        "preds"
      ],
      "metadata": {
        "colab": {
          "base_uri": "https://localhost:8080/"
        },
        "id": "yeVxU1Rw9hw3",
        "outputId": "7afccf1c-7762-4319-be6b-c84f617651bf"
      },
      "execution_count": null,
      "outputs": [
        {
          "output_type": "execute_result",
          "data": {
            "text/plain": [
              "array([6., 9., 3., 7., 2., 1., 5., 2., 5., 2., 1., 9., 4., 0., 4., 2., 3.,\n",
              "       7., 8., 8., 4., 3., 9., 7., 5., 6., 3., 5., 6., 3., 4., 9., 1., 4.,\n",
              "       4., 6., 9., 4., 7., 6., 6., 9., 1., 3., 6., 1., 3., 0., 6., 5., 5.,\n",
              "       1., 9., 5., 6., 0., 9., 0., 0., 1., 0., 4., 5., 2., 4., 5., 7., 0.,\n",
              "       7., 5., 9., 5., 5., 4., 7., 0., 1., 5., 5., 9., 9., 0., 2., 3., 8.,\n",
              "       0., 6., 4., 4., 9., 1., 2., 8., 3., 5., 2., 9., 4., 4., 4., 4., 3.,\n",
              "       5., 3., 1., 3., 5., 9., 4., 2., 7., 7., 4., 4., 1., 9., 2., 7., 8.,\n",
              "       7., 2., 6., 9., 4., 0., 7., 2., 7., 5., 8., 7., 5., 7., 9., 0., 6.,\n",
              "       6., 4., 2., 8., 0., 9., 4., 6., 9., 9., 6., 9., 0., 5., 5., 6., 6.,\n",
              "       0., 6., 4., 3., 9., 3., 7., 7., 2., 9., 0., 4., 5., 3., 6., 5., 8.,\n",
              "       9., 8., 4., 2., 1., 3., 7., 7., 2., 2., 3., 9., 8., 0., 3., 2., 2.,\n",
              "       5., 6., 9., 9., 4., 1., 5., 4., 2., 3., 6., 4., 8., 5., 9., 5., 7.,\n",
              "       8., 9., 4., 8., 1., 5., 4., 4., 9., 6., 1., 8., 6., 0., 4., 5., 2.,\n",
              "       7., 4., 6., 4., 5., 6., 0., 3., 2., 3., 6., 7., 1., 5., 1., 4., 7.,\n",
              "       6., 5., 8., 5., 5., 1., 5., 2., 8., 8., 9., 9., 7., 6., 2., 2., 2.,\n",
              "       3., 4., 8., 8., 3., 6., 0., 9., 7., 7., 0., 1., 0., 4., 5., 1., 5.,\n",
              "       3., 6., 0., 4., 1., 0., 0., 3., 6., 5., 9., 7., 3., 5., 5., 9., 9.,\n",
              "       8., 5., 3., 3., 2., 0., 5., 8., 3., 4., 0., 2., 4., 6., 4., 3., 4.,\n",
              "       5., 0., 5., 2., 1., 3., 1., 4., 1., 1., 7., 0., 1., 5., 2., 1., 2.,\n",
              "       8., 7., 0., 6., 4., 8., 8., 5., 1., 8., 4., 5., 8., 7., 9., 8., 6.,\n",
              "       0., 8., 2., 0., 7., 9., 8., 9., 5., 2., 7., 7., 1., 8., 7., 4., 3.,\n",
              "       8., 3., 5.], dtype=float32)"
            ]
          },
          "metadata": {},
          "execution_count": 9
        }
      ]
    },
    {
      "cell_type": "code",
      "source": [
        "from sklearn import metrics\n",
        "acc = metrics.accuracy_score(y_test, preds)\n",
        "\n",
        "print('Accuracy: %f' % acc)"
      ],
      "metadata": {
        "colab": {
          "base_uri": "https://localhost:8080/"
        },
        "id": "FLBugtkO9lc-",
        "outputId": "5699258e-a5f4-4afd-91e7-51bbde11d64f"
      },
      "execution_count": null,
      "outputs": [
        {
          "output_type": "stream",
          "name": "stdout",
          "text": [
            "Accuracy: 0.972222\n"
          ]
        }
      ]
    },
    {
      "cell_type": "code",
      "source": [
        "#Plotting tree does not work yet\n",
        "#xgboost.plot_tree(bstmodel, num_trees=2)\n",
        "\n",
        "xgboost.plot_importance(bstmodel)"
      ],
      "metadata": {
        "colab": {
          "base_uri": "https://localhost:8080/",
          "height": 313
        },
        "id": "XRUqQEnD9o7A",
        "outputId": "de18277b-1cba-4dbd-b03a-a3e023d6d8a5"
      },
      "execution_count": null,
      "outputs": [
        {
          "output_type": "execute_result",
          "data": {
            "text/plain": [
              "<matplotlib.axes._subplots.AxesSubplot at 0x7fc37dd78f70>"
            ]
          },
          "metadata": {},
          "execution_count": 11
        },
        {
          "output_type": "display_data",
          "data": {
            "text/plain": [
              "<Figure size 432x288 with 1 Axes>"
            ],
            "image/png": "[encoded data removed]"
          },
          "metadata": {
            "needs_background": "light"
          }
        }
      ]
    },
    {
      "cell_type": "markdown",
      "source": [
        "#XGBoost Persian LPR"
      ],
      "metadata": {
        "id": "7Gvz9pxwwP5X"
      }
    },
    {
      "cell_type": "code",
      "source": [
        "!pip install xgboost"
      ],
      "metadata": {
        "colab": {
          "base_uri": "https://localhost:8080/"
        },
        "id": "Pc-jdViqx0Ac",
        "outputId": "8188fd8d-5e17-42a0-96f3-71bec37971d9"
      },
      "execution_count": null,
      "outputs": [
        {
          "output_type": "stream",
          "name": "stdout",
          "text": [
            "Looking in indexes: https://pypi.org/simple, https://us-python.pkg.dev/colab-wheels/public/simple/\n",
            "Requirement already satisfied: xgboost in /usr/local/lib/python3.8/dist-packages (0.90)\n",
            "Requirement already satisfied: numpy in /usr/local/lib/python3.8/dist-packages (from xgboost) (1.21.6)\n",
            "Requirement already satisfied: scipy in /usr/local/lib/python3.8/dist-packages (from xgboost) (1.7.3)\n"
          ]
        }
      ]
    },
    {
      "cell_type": "code",
      "source": [
        "%rm -rf *\n",
        "!git clone https://github.com/amirjarareh/xgboost\n",
        "%mv /content/xgboost/* /content/\n",
        "!unzip persian_LPR.zip\n",
        "%rm -rf xgboost/ persian_LPR.zip\n",
        "%mkdir persian_LPR\n",
        "%mv /content/*/ persian_LPR/"
      ],
      "metadata": {
        "colab": {
          "base_uri": "https://localhost:8080/"
        },
        "id": "Fn2erTlRwhSM",
        "outputId": "2879e176-bbad-44ee-ab49-e69621eb0e83"
      },
      "execution_count": null,
      "outputs": [
        {
          "output_type": "stream",
          "name": "stdout",
          "text": [
            "Cloning into 'xgboost'...\n",
            "remote: Enumerating objects: 5, done.\u001b[K\n",
            "remote: Counting objects:  20% (1/5)\u001b[K\rremote: Counting objects:  40% (2/5)\u001b[K\rremote: Counting objects:  60% (3/5)\u001b[K\rremote: Counting objects:  80% (4/5)\u001b[K\rremote: Counting objects: 100% (5/5)\u001b[K\rremote: Counting objects: 100% (5/5), done.\u001b[K\n",
            "remote: Compressing objects: 100% (5/5), done.\u001b[K\n",
            "remote: Total 5 (delta 0), reused 0 (delta 0), pack-reused 0\u001b[K\n",
            "Unpacking objects: 100% (5/5), 1.45 MiB | 8.27 MiB/s, done.\n",
            "Archive:  persian_LPR.zip\n",
            "   creating: 7/\n",
            "  inflating: 7/100_29D57768_894_6_0.79_7_60337 - Copy.bmp  \n",
            "  inflating: 7/101_26W25357_1438_8_0.80_7_62780 - Copy.bmp  \n",
            "  inflating: 7/102_21D27468_4541_0_0.83_2_55582 - Copy.bmp  \n",
            "  inflating: 7/103_72[83672_1361_1_0.86_7_55062 - Copy.bmp  \n",
            "  inflating: 7/104_29S28378_1713_7_0.76_7_54820 - Copy.bmp  \n",
            "  inflating: 7/105_76G97577_3298_8_0.76_7_62570 - Copy.bmp  \n",
            "  inflating: 7/106_12S74144_2269_4_0.89_7_58999.bmp  \n",
            "  inflating: 7/107_91J99733_202_0_0.83_7_54974.bmp  \n",
            "  inflating: 7/108_16L78966_10786_4_0.85_7_58592.bmp  \n",
            "  inflating: 7/109_74[94711_2639_6_0.83_7_54726 - Copy.bmp  \n",
            "  inflating: 7/10_29I95768_1385_6_0.86_7_60912 - Copy.bmp  \n",
            "  inflating: 7/110_87L15368_1873_2_0.85_7_57327.bmp  \n",
            "  inflating: 7/111_16L78966_10717_4_0.89_7_59017.bmp  \n",
            "  inflating: 7/112_96F89719_772_6_0.87_7_60987.bmp  \n",
            "  inflating: 7/113_17J47222_3777_5_0.78_7_59322.bmp  \n",
            "  inflating: 7/114_22X56678_3986_7_0.79_7_61801 - Copy.bmp  \n",
            "  inflating: 7/115_27,28768_1646_2_0.82_7_57035 - Copy.bmp  \n",
            "  inflating: 7/116_18D17877_1235_7_0.72_7_54798 - Copy.bmp  \n",
            "  inflating: 7/117_16L78966_10690_4_0.85_7_58544.bmp  \n",
            "  inflating: 7/118_76G97577_3298_1_0.86_7_56240 - Copy.bmp  \n",
            "  inflating: 7/119_11S79421_1173_4_0.73_7_58147 - Copy.bmp  \n",
            "  inflating: 7/11_17N51168_309_2_0.88_7_57652 - Copy.bmp  \n",
            "  inflating: 7/120_72[83672_1365_7_0.81_7_62020 - Copy.bmp  \n",
            "  inflating: 7/121_13N57468_9837_5_0.84_7_59475.bmp  \n",
            "  inflating: 7/122_18G17233_5390_5_0.83_7_55174 - Copy.bmp  \n",
            "  inflating: 7/123_15,87668_4316_5_0.87_7_59802 - Copy.bmp  \n",
            "  inflating: 7/124_11@75368_5067_4_0.85_7_58594.bmp  \n",
            "  inflating: 7/125_15I27768_4252_6_0.89_7_61169 - Copy.bmp  \n",
            "  inflating: 7/126_12,16177_810_8_0.80_7_62848.bmp  \n",
            "  inflating: 7/127_13D76368_1829_4_0.85_7_58638.bmp  \n",
            "  inflating: 7/128_77F22478_3057_1_0.86_7_56235.bmp  \n",
            "  inflating: 7/129_91R43677_1370_7_0.77_7_61677.bmp  \n",
            "  inflating: 7/12_18G17233_5394_5_0.82_7_59394 - Copy.bmp  \n",
            "  inflating: 7/130_18U58744_1261_6_0.75_4_55349 - Copy.bmp  \n",
            "  inflating: 7/131_74[94711_2650_6_0.87_7_61004 - Copy.bmp  \n",
            "  inflating: 7/132_17K86568_1584_0_0.80_7_55549 - Copy.bmp  \n",
            "  inflating: 7/133_18D17877_1238_5_0.77_2_55151 - Copy.bmp  \n",
            "  inflating: 7/134_11U92733_1597_6_0.82_7_60515.bmp  \n",
            "  inflating: 7/135_17N51168_266_2_0.85_7_57236 - Copy.bmp  \n",
            "  inflating: 7/136_17I23768_871_2_0.90_7_57911.bmp  \n",
            "  inflating: 7/137_31K36768_3262_6_0.87_7_61016 - Copy.bmp  \n",
            "  inflating: 7/138_91J99733_192_6_0.81_7_55236.bmp  \n",
            "  inflating: 7/139_29S28378_1724_7_0.77_7_61705 - Copy.bmp  \n",
            "  inflating: 7/13_17N51168_219_2_0.85_7_57324 - Copy.bmp  \n",
            "  inflating: 7/140_96F89719_762_6_0.84_7_60616.bmp  \n",
            "  inflating: 7/141_87L15368_1877_2_0.85_7_57335.bmp  \n",
            "  inflating: 7/142_29S28378_1749_7_0.75_7_54816 - Copy.bmp  \n",
            "  inflating: 7/143_17K42622_4603_2_0.92_7_58059.bmp  \n",
            "  inflating: 7/144_11@75368_5075_4_0.84_7_58527.bmp  \n",
            "  inflating: 7/145_12S74144_2312_4_0.87_7_58848.bmp  \n",
            "  inflating: 7/146_15I46733_4738_6_0.84_7_60712.bmp  \n",
            "  inflating: 7/147_12S74144_2307_4_0.86_7_58750.bmp  \n",
            "  inflating: 7/148_91R43677_1365_7_0.77_7_61666.bmp  \n",
            "  inflating: 7/149_13N57468_9738_5_0.85_7_59587.bmp  \n",
            "  inflating: 7/14_74[23887_1507_0_0.73_7_55435 - Copy.bmp  \n",
            "  inflating: 7/150_15I27768_4265_5_0.89_7_55209 - Copy.bmp  \n",
            "  inflating: 7/151_17K21268_5213_2_0.91_7_57969 - Copy.bmp  \n",
            "  inflating: 7/152_13L97455_1429_5_0.76_7_59294.bmp  \n",
            "  inflating: 7/153_11@75368_5072_4_0.89_7_59069.bmp  \n",
            "  inflating: 7/154_98R12977_61_7_0.69_7_61481.bmp  \n",
            "  inflating: 7/155_14S17419_1432_5_0.83_7_59455.bmp  \n",
            "  inflating: 7/156_11U92733_1614_6_0.83_7_60569.bmp  \n",
            "  inflating: 7/157_13N57468_9843_5_0.86_7_59716.bmp  \n",
            "  inflating: 7/158_27L94422_2992_2_0.89_7_57785 - Copy.bmp  \n",
            "  inflating: 7/159_31K36768_3263_6_0.89_7_61185 - Copy.bmp  \n",
            "  inflating: 7/15_18G17233_5391_5_0.81_7_59366 - Copy.bmp  \n",
            "  inflating: 7/160_26W25357_1433_8_0.79_7_62717 - Copy.bmp  \n",
            "  inflating: 7/161_96F89719_790_6_0.90_7_61280.bmp  \n",
            "  inflating: 7/162_12S74144_2272_4_0.90_7_59074.bmp  \n",
            "  inflating: 7/163_11S79421_1180_4_0.73_7_54565 - Copy.bmp  \n",
            "  inflating: 7/164_11U92733_1594_6_0.80_7_60395.bmp  \n",
            "  inflating: 7/165_13D76368_1854_4_0.85_7_58574.bmp  \n",
            "  inflating: 7/166_17I23768_873_2_0.93_7_58101.bmp  \n",
            "  inflating: 7/167_17J47222_3755_2_0.85_7_57313 - Copy.bmp  \n",
            "  inflating: 7/168_74[23887_1501_8_0.75_7_62528 - Copy.bmp  \n",
            "  inflating: 7/169_12,16177_804_8_0.85_7_63150.bmp  \n",
            "  inflating: 7/16_17K42622_4605_2_0.87_7_57622.bmp  \n",
            "  inflating: 7/170_81X89477_3742_7_0.80_7_61885.bmp  \n",
            "  inflating: 7/171_29S28378_1720_7_0.75_7_61621 - Copy.bmp  \n",
            "  inflating: 7/172_11@75368_5059_4_0.82_7_58364.bmp  \n",
            "  inflating: 7/173_17K46668_12898_2_0.86_7_57446 - Copy.bmp  \n",
            "  inflating: 7/174_12S74144_2274_4_0.88_7_58908.bmp  \n",
            "  inflating: 7/175_15I46733_4764_6_0.81_7_60434.bmp  \n",
            "  inflating: 7/176_23D26777_1223_6_0.81_7_54716 - Copy.bmp  \n",
            "  inflating: 7/177_29S28378_1774_7_0.68_2_61480 - Copy.bmp  \n",
            "  inflating: 7/178_74X45378_3716_6_0.76_7_60270 - Copy.bmp  \n",
            "  inflating: 7/179_18G17233_5381_5_0.86_7_59711 - Copy.bmp  \n",
            "  inflating: 7/17_77F22478_3051_7_0.73_7_61532.bmp  \n",
            "  inflating: 7/180_16L78966_10756_4_0.87_7_58840.bmp  \n",
            "  inflating: 7/181_15I46733_4763_6_0.84_7_60684.bmp  \n",
            "  inflating: 7/182_13N57468_9823_5_0.85_7_59552.bmp  \n",
            "  inflating: 7/183_28N67515_1526_5_0.83_7_59450 - Copy.bmp  \n",
            "  inflating: 7/184_13N57468_9808_5_0.85_7_59635.bmp  \n",
            "  inflating: 7/185_17K46668_12895_2_0.88_7_57661 - Copy.bmp  \n",
            "  inflating: 7/186_11S79421_1164_0_0.81_7_55552.bmp  \n",
            "  inflating: 7/187_76G97577_3294_8_0.75_7_62513 - Copy.bmp  \n",
            "  inflating: 7/188_15I27768_4252_5_0.89_7_59949.bmp  \n",
            "  inflating: 7/189_15W41877_425_8_0.80_7_62805.bmp  \n",
            "  inflating: 7/18_45N71868_1157_4_0.86_7_58719.bmp  \n",
            "  inflating: 7/190_96F89719_770_6_0.84_7_60620.bmp  \n",
            "  inflating: 7/191_14W67768_3199_5_0.93_7_60200.bmp  \n",
            "  inflating: 7/192_45N71868_1167_4_0.87_7_58819.bmp  \n",
            "  inflating: 7/193_15I27768_4265_6_0.90_7_61244 - Copy.bmp  \n",
            "  inflating: 7/194_15,87668_4332_5_0.71_7_59269.bmp  \n",
            "  inflating: 7/195_12S74144_2281_4_0.91_7_59151.bmp  \n",
            "  inflating: 7/196_77,89768_4266_1_0.83_7_55029 - Copy.bmp  \n",
            "  inflating: 7/197_15I27768_4252_6_0.89_7_61169.bmp  \n",
            "  inflating: 7/198_11@75368_5074_4_0.88_7_58991.bmp  \n",
            "  inflating: 7/199_12,16177_852_8_0.81_7_62906.bmp  \n",
            "  inflating: 7/19_74[94711_2639_1_0.85_7_56071 - Copy.bmp  \n",
            "  inflating: 7/1_91R43677_1397_7_0.77_7_54831.bmp  \n",
            "  inflating: 7/200_14F78868_166_4_0.91_7_59188.bmp  \n",
            "  inflating: 7/201_15I71868_8175_4_0.92_7_59203.bmp  \n",
            "  inflating: 7/202_74[79688_2552_1_0.83_7_55028 - Copy.bmp  \n",
            "  inflating: 7/203_28N67515_1525_5_0.84_7_59497 - Copy.bmp  \n",
            "  inflating: 7/204_17N69777_3157_6_0.85_7_60836 - Copy.bmp  \n",
            "  inflating: 7/205_29S28378_1769_7_0.73_2_61545 - Copy.bmp  \n",
            "  inflating: 7/206_91R43677_1393_7_0.82_7_62081.bmp  \n",
            "  inflating: 7/207_18F31741_5069_6_0.91_7_54773 - Copy.bmp  \n",
            "  inflating: 7/208_27,28768_1646_6_0.83_7_60538 - Copy.bmp  \n",
            "  inflating: 7/209_29I95768_1387_6_0.87_7_60992 - Copy.bmp  \n",
            "  inflating: 7/20_96F89719_775_6_0.87_7_54750.bmp  \n",
            "  inflating: 7/210_91R43677_1370_8_0.79_7_62698.bmp  \n",
            "  inflating: 7/211_13D76368_1859_4_0.75_7_58155.bmp  \n",
            "  inflating: 7/212_77F22478_3061_7_0.76_7_61637.bmp  \n",
            "  inflating: 7/213_15,87668_4324_5_0.89_7_59957 - Copy.bmp  \n",
            "  inflating: 7/214_45N71868_1148_4_0.86_7_58711.bmp  \n",
            "  inflating: 7/215_72[83672_1382_7_0.81_7_62006 - Copy.bmp  \n",
            "  inflating: 7/216_15I71868_8228_4_0.86_7_58690.bmp  \n",
            "  inflating: 7/217_96F89719_777_6_0.91_7_61301.bmp  \n",
            "  inflating: 7/218_28N67515_1530_5_0.79_7_59335 - Copy.bmp  \n",
            "  inflating: 7/219_29S28378_1696_7_0.75_7_61620 - Copy.bmp  \n",
            "  inflating: 7/21_91R43677_1397_8_0.77_7_62631.bmp  \n",
            "  inflating: 7/220_77,89768_4266_6_0.82_7_60467 - Copy.bmp  \n",
            "  inflating: 7/221_77,89768_4266_2_0.78_7_55077 - Copy.bmp  \n",
            "  inflating: 7/222_71X77977_5021_5_0.78_7_59315 - Copy.bmp  \n",
            "  inflating: 7/223_29S28378_1706_7_0.78_7_61753 - Copy.bmp  \n",
            "  inflating: 7/224_28N67515_1528_5_0.79_7_59338 - Copy.bmp  \n",
            "  inflating: 7/225_29D57768_890_6_0.79_7_60332 - Copy.bmp  \n",
            "  inflating: 7/226_17N51168_393_2_0.90_7_57885 - Copy.bmp  \n",
            "  inflating: 7/227_17N51168_209_2_0.82_7_57028 - Copy.bmp  \n",
            "  inflating: 7/228_21D27468_4533_5_0.85_7_55194 - Copy.bmp  \n",
            "  inflating: 7/229_96F89719_779_6_0.87_7_61008.bmp  \n",
            "  inflating: 7/22_13L97455_1426_5_0.80_7_59351.bmp  \n",
            "  inflating: 7/230_96F89719_786_6_0.92_7_61366.bmp  \n",
            "  inflating: 7/231_15I71868_8201_4_0.91_7_59145.bmp  \n",
            "  inflating: 7/232_96F89719_765_6_0.84_7_60618.bmp  \n",
            "  inflating: 7/233_77F22478_3062_7_0.76_7_61643 - Copy.bmp  \n",
            "  inflating: 7/234_87L15368_1890_2_0.87_7_57614.bmp  \n",
            "  inflating: 7/235_74[23887_1495_0_0.83_2_55588 - Copy.bmp  \n",
            "  inflating: 7/236_14F78868_194_4_0.87_7_58865.bmp  \n",
            "  inflating: 7/237_17J47222_3760_2_0.85_7_57414 - Copy.bmp  \n",
            "  inflating: 7/238_12S74144_2271_4_0.89_7_59002.bmp  \n",
            "  inflating: 7/239_15,87668_4332_5_0.71_7_59269 - Copy.bmp  \n",
            "  inflating: 7/23_11@75368_5064_4_0.84_7_58523.bmp  \n",
            "  inflating: 7/240_29S28378_1735_7_0.78_7_61766 - Copy.bmp  \n",
            "  inflating: 7/241_96F89719_767_6_0.84_7_60617.bmp  \n",
            "  inflating: 7/242_18D17877_1223_8_0.75_7_62535 - Copy.bmp  \n",
            "  inflating: 7/243_84D48766_1679_6_0.75_3_60261.bmp  \n",
            "  inflating: 7/244_17J47222_3755_5_0.76_7_59297 - Copy.bmp  \n",
            "  inflating: 7/245_74X45378_3739_7_0.69_7_61485 - Copy.bmp  \n",
            "  inflating: 7/246_29S28378_1732_7_0.78_7_61759 - Copy.bmp  \n",
            "  inflating: 7/247_12S74144_2302_4_0.90_7_59107.bmp  \n",
            "  inflating: 7/248_16L78966_10684_4_0.85_7_58541.bmp  \n",
            "  inflating: 7/249_98R12977_61_8_0.74_7_62489.bmp  \n",
            "  inflating: 7/24_15,87668_4311_5_0.84_7_59495 - Copy.bmp  \n",
            "  inflating: 7/250_74[79688_2552_4_0.81_7_58278 - Copy.bmp  \n",
            "  inflating: 7/251_26W25357_1448_8_0.81_7_62881 - Copy.bmp  \n",
            "  inflating: 7/252_13N57468_9790_5_0.83_7_59443.bmp  \n",
            "  inflating: 7/253_29D57768_885_5_0.79_7_59333 - Copy.bmp  \n",
            "  inflating: 7/254_17I32468_448_0_0.79_9_63169 - Copy.bmp  \n",
            "  inflating: 7/255_18U58744_1246_6_0.82_7_60461 - Copy.bmp  \n",
            "  inflating: 7/256_19G67666_9704_5_0.78_7_59309 - Copy.bmp  \n",
            "  inflating: 7/257_18D17877_1235_5_0.82_2_59417 - Copy.bmp  \n",
            "  inflating: 7/258_16L78966_10735_4_0.87_7_58823.bmp  \n",
            "  inflating: 7/259_14F78868_127_4_0.86_7_58782.bmp  \n",
            "  inflating: 7/25_73W45568_1788_1_0.86_7_56247 - Copy.bmp  \n",
            "  inflating: 7/260_11S79421_1177_4_0.75_7_54566 - Copy.bmp  \n",
            "  inflating: 7/261_11@75368_5073_4_0.88_7_58990.bmp  \n",
            "  inflating: 7/262_17N51168_302_2_0.85_7_57246 - Copy.bmp  \n",
            "  inflating: 7/263_96F89719_773_6_0.84_7_60626.bmp  \n",
            "  inflating: 7/264_16L78966_10788_4_0.78_7_58212.bmp  \n",
            "  inflating: 7/265_76G97577_3294_7_0.77_7_61668 - Copy.bmp  \n",
            "  inflating: 7/266_15I27768_4252_5_0.89_7_59949 - Copy.bmp  \n",
            "  inflating: 7/267_17N69777_3153_8_0.78_7_62656 - Copy.bmp  \n",
            "  inflating: 7/268_96F89719_781_6_0.87_7_61045.bmp  \n",
            "  inflating: 7/269_14W67768_3190_5_0.91_7_60132.bmp  \n",
            "  inflating: 7/26_18U58744_1276_0_0.79_7_54960 - Copy.bmp  \n",
            "  inflating: 7/270_16L78966_10793_4_0.81_7_58314.bmp  \n",
            "  inflating: 7/271_45U48978_994_7_0.79_7_61779.bmp  \n",
            "  inflating: 7/272_12,16177_822_8_0.85_7_63137.bmp  \n",
            "  inflating: 7/273_13D76368_1824_4_0.84_7_58478.bmp  \n",
            "  inflating: 7/274_26W25357_1452_8_0.77_7_62634 - Copy.bmp  \n",
            "  inflating: 7/275_18F31741_5140_6_0.90_7_61240 - Copy.bmp  \n",
            "  inflating: 7/276_11@75368_5055_4_0.83_7_58440.bmp  \n",
            "  inflating: 7/277_18D17877_1235_8_0.72_7_62468 - Copy.bmp  \n",
            "  inflating: 7/278_27L94422_2984_2_0.84_7_57166 - Copy.bmp  \n",
            "  inflating: 7/279_72[83672_1389_7_0.83_7_62186 - Copy.bmp  \n",
            "  inflating: 7/27_15I27768_4265_5_0.89_7_55209.bmp  \n",
            "  inflating: 7/280_96F89719_788_6_0.91_7_61322.bmp  \n",
            "  inflating: 7/281_18F31741_5148_6_0.89_7_61166 - Copy.bmp  \n",
            "  inflating: 7/282_18G17233_5385_5_0.85_7_55199 - Copy.bmp  \n",
            "  inflating: 7/283_18D17877_1226_5_0.81_7_59386 - Copy.bmp  \n",
            "  inflating: 7/284_45U48978_980_7_0.75_7_61576.bmp  \n",
            "  inflating: 7/285_15I27768_4265_6_0.90_7_61244.bmp  \n",
            "  inflating: 7/286_77D56568_3769_1_0.82_7_55899.bmp  \n",
            "  inflating: 7/287_29I95768_1392_6_0.89_7_61178 - Copy.bmp  \n",
            "  inflating: 7/288_96I99768_5151_6_0.88_7_61125.bmp  \n",
            "  inflating: 7/289_45U48978_1003_7_0.79_7_61782.bmp  \n",
            "  inflating: 7/28_11S79421_1144_4_0.82_7_58352.bmp  \n",
            "  inflating: 7/290_75,98668_2021_1_0.78_7_55707 - Copy.bmp  \n",
            "  inflating: 7/291_11S79421_1158_4_0.80_7_58256.bmp  \n",
            "  inflating: 7/292_96I99768_5159_6_0.87_7_61036.bmp  \n",
            "  inflating: 7/293_45N71868_1152_4_0.87_7_58812.bmp  \n",
            "  inflating: 7/294_12S74144_2282_4_0.90_7_59086.bmp  \n",
            "  inflating: 7/295_28N67515_1529_5_0.77_7_59304 - Copy.bmp  \n",
            "  inflating: 7/296_84D48766_1644_6_0.77_7_60288.bmp  \n",
            "  inflating: 7/297_45N71868_1109_4_0.85_7_58612.bmp  \n",
            "  inflating: 7/298_29D57768_888_5_0.82_7_55172 - Copy.bmp  \n",
            "  inflating: 7/299_11@75368_5071_4_0.88_7_58983.bmp  \n",
            "  inflating: 7/29_15,87668_4329_5_0.81_7_59370 - Copy.bmp  \n",
            "  inflating: 7/2_84D48766_1637_6_0.78_7_60302.bmp  \n",
            "  inflating: 7/300_17N51168_257_2_0.82_7_57031 - Copy.bmp  \n",
            "  inflating: 7/30_12S74144_2287_4_0.89_7_59024.bmp  \n",
            "  inflating: 7/31_12S74144_2279_4_0.90_7_59080.bmp  \n",
            "  inflating: 7/32_16L78966_10696_4_0.86_7_58698.bmp  \n",
            "  inflating: 7/33_71X77977_5023_4_0.75_7_58161 - Copy.bmp  \n",
            "  inflating: 7/34_14W67768_3190_6_0.88_7_61149.bmp  \n",
            "  inflating: 7/35_87L15368_1881_2_0.85_7_57245.bmp  \n",
            "  inflating: 7/36_17N51168_317_2_0.84_7_57162 - Copy.bmp  \n",
            "  inflating: 7/37_13N57468_9814_5_0.87_7_59797.bmp  \n",
            "  inflating: 7/38_29S28378_1803_0_0.57_4_54927 - Copy.bmp  \n",
            "  inflating: 7/39_14S17419_1430_5_0.85_7_59673.bmp  \n",
            "  inflating: 7/3_77F22478_3061_2_0.90_7_57874.bmp  \n",
            "  inflating: 7/40_76G97577_3294_1_0.86_7_56233 - Copy.bmp  \n",
            "  inflating: 7/41_29S28378_1782_8_0.69_2_54883 - Copy.bmp  \n",
            "  inflating: 7/42_17L16168_1796_2_0.85_7_57376 - Copy.bmp  \n",
            "  inflating: 7/43_19G67666_9676_5_0.89_7_59955 - Copy.bmp  \n",
            "  inflating: 7/44_29D57768_894_5_0.77_7_54627 - Copy.bmp  \n",
            "  inflating: 7/45_17N51168_299_2_0.86_7_57443 - Copy.bmp  \n",
            "  inflating: 7/46_11S79421_1170_0_0.71_7_55420 - Copy.bmp  \n",
            "  inflating: 7/47_15I71868_8191_4_0.91_7_59147.bmp  \n",
            "  inflating: 7/48_18D17877_1240_0_0.73_1_54944 - Copy.bmp  \n",
            "  inflating: 7/49_15W41877_425_7_0.80_7_54846.bmp  \n",
            "  inflating: 7/4_12S74144_2297_4_0.90_7_59100.bmp  \n",
            "  inflating: 7/50_13N57468_9832_5_0.84_7_59481.bmp  \n",
            "  inflating: 7/51_17I32468_471_0_0.66_1_63162 - Copy.bmp  \n",
            "  inflating: 7/52_15I71868_8218_4_0.85_7_58536.bmp  \n",
            "  inflating: 7/53_29S28378_1708_7_0.76_7_61657 - Copy.bmp  \n",
            "  inflating: 7/54_71X77977_5023_1_0.74_7_55653 - Copy.bmp  \n",
            "  inflating: 7/55_17I32468_438_2_0.71_7_56888 - Copy.bmp  \n",
            "  inflating: 7/56_11@75368_5070_4_0.82_7_58374.bmp  \n",
            "  inflating: 7/57_11U92733_1599_6_0.77_7_60291.bmp  \n",
            "  inflating: 7/58_12S74144_2292_4_0.90_7_59092.bmp  \n",
            "  inflating: 7/59_16L78966_10705_4_0.89_7_59005.bmp  \n",
            "  inflating: 7/5_29S28378_1784_7_0.67_7_54785 - Copy.bmp  \n",
            "  inflating: 7/60_71X77977_5021_4_0.79_7_58225 - Copy.bmp  \n",
            "  inflating: 7/61_84D48766_1675_6_0.76_3_60268.bmp  \n",
            "  inflating: 7/62_15I71868_8209_4_0.91_7_59142.bmp  \n",
            "  inflating: 7/63_76G97577_3294_5_0.84_7_59477 - Copy.bmp  \n",
            "  inflating: 7/64_19G67666_9689_5_0.85_7_59540 - Copy.bmp  \n",
            "  inflating: 7/65_29S28378_1823_0_0.77_7_55498 - Copy.bmp  \n",
            "  inflating: 7/66_17N69777_3157_2_0.87_7_57572 - Copy.bmp  \n",
            "  inflating: 7/67_15I71868_8153_4_0.87_7_58843.bmp  \n",
            "  inflating: 7/68_12S74144_2276_4_0.92_7_59201.bmp  \n",
            "  inflating: 7/69_17I32468_464_1_0.67_9_63171 - Copy.bmp  \n",
            "  inflating: 7/6_81X89477_3742_8_0.80_7_62786.bmp  \n",
            "  inflating: 7/70_19G67666_9685_5_0.88_7_59860 - Copy.bmp  \n",
            "  inflating: 7/71_11U92733_1605_6_0.80_7_60387.bmp  \n",
            "  inflating: 7/72_16L78966_10667_4_0.80_7_58249.bmp  \n",
            "  inflating: 7/73_17N51168_384_2_0.86_7_57463 - Copy.bmp  \n",
            "  inflating: 7/74_96F89719_774_6_0.87_7_60995.bmp  \n",
            "  inflating: 7/75_12,16177_856_8_0.79_7_62748.bmp  \n",
            "  inflating: 7/76_15U27778_6127_6_0.84_7_60653.bmp  \n",
            "  inflating: 7/77_74[94711_2644_6_0.86_7_60907 - Copy.bmp  \n",
            "  inflating: 7/78_16L78966_10771_4_0.86_7_58763.bmp  \n",
            "  inflating: 7/79_16L78966_10677_4_0.85_7_58607.bmp  \n",
            "  inflating: 7/7_17J47222_3777_2_0.83_7_57153.bmp  \n",
            "  inflating: 7/80_26W25357_1450_8_0.80_7_62826 - Copy.bmp  \n",
            "  inflating: 7/81_17I23768_871_6_0.88_7_55304.bmp  \n",
            "  inflating: 7/82_17N51168_243_2_0.83_7_57092 - Copy.bmp  \n",
            "  inflating: 7/83_45U48978_1008_7_0.81_7_61951.bmp  \n",
            "  inflating: 7/84_27,28768_1648_2_0.81_7_57006 - Copy.bmp  \n",
            "  inflating: 7/85_73W45568_1806_1_0.86_7_54491 - Copy.bmp  \n",
            "  inflating: 7/86_72[83672_1372_1_0.84_7_56021 - Copy.bmp  \n",
            "  inflating: 7/87_11U92733_1606_6_0.83_7_60576.bmp  \n",
            "  inflating: 7/88_12,16177_856_7_0.79_7_61826.bmp  \n",
            "  inflating: 7/89_18G17233_5393_5_0.84_7_59469 - Copy.bmp  \n",
            "  inflating: 7/8_17J47222_3753_2_0.83_7_57144 - Copy.bmp  \n",
            "  inflating: 7/90_91J99733_197_0_0.78_7_54957.bmp  \n",
            "  inflating: 7/91_17K86568_1579_2_0.78_7_56948 - Copy.bmp  \n",
            "  inflating: 7/92_17L16168_1803_2_0.89_7_57806 - Copy.bmp  \n",
            "  inflating: 7/93_12,16177_837_8_0.81_7_62911.bmp  \n",
            "  inflating: 7/94_75,36721_13056_6_0.83_7_55251 - Copy.bmp  \n",
            "  inflating: 7/95_18F31741_5068_6_0.89_7_54767 - Copy.bmp  \n",
            "  inflating: 7/96_72[83672_1372_7_0.82_7_62109 - Copy.bmp  \n",
            "  inflating: 7/97_72[83672_1355_0_0.85_7_54981 - Copy.bmp  \n",
            "  inflating: 7/98_17J47222_3753_5_0.75_7_59287 - Copy.bmp  \n",
            "  inflating: 7/99_29S28378_1745_7_0.75_7_61622 - Copy.bmp  \n",
            "  inflating: 7/9_27L94422_2982_2_0.83_7_57094 - Copy.bmp  \n",
            "   creating: S/\n",
            "  inflating: S/100_14S17419_1429_0_0.45_W_93158.bmp  \n",
            "  inflating: S/101_56S44655_1108_3_0.56_W_93576.bmp  \n",
            "  inflating: S/102_28S24178_344_3_0.56_W_93206.bmp  \n",
            "  inflating: S/103_26S69568_1734_3_0.59_S_93258.bmp  \n",
            "  inflating: S/104_14S17419_1435_0_0.57_S_93546 - Copy.bmp  \n",
            "  inflating: S/105_98S23755_4192_3_0.68_S_93532.bmp  \n",
            "  inflating: S/106_82S75766_4135_3_0.60_S_93284.bmp  \n",
            "  inflating: S/107_31S26268_58_3_0.66_S_93501.bmp  \n",
            "  inflating: S/108_27S37721_2849_3_0.64_S_93454.bmp  \n",
            "  inflating: S/109_27S76213_4852_3_0.60_W_93309.bmp  \n",
            "  inflating: S/10_27S37721_2775_3_0.59_S_93632.bmp  \n",
            "  inflating: S/110_14S17419_1430_3_0.57_S_93602.bmp  \n",
            "  inflating: S/111_28S24178_331_3_0.61_S_93350.bmp  \n",
            "  inflating: S/112_11S79421_1148_3_0.58_W_93614.bmp  \n",
            "  inflating: S/113_91S34177_1165_3_0.56_W_93578.bmp  \n",
            "  inflating: S/114_68S96368_1136_3_0.62_W_93685.bmp  \n",
            "  inflating: S/115_11S79421_1138_3_0.59_W_93265.bmp  \n",
            "  inflating: S/116_82S75766_4183_3_0.65_S_93489.bmp  \n",
            "  inflating: S/117_29S28378_1682_3_0.59_W_93643.bmp  \n",
            "  inflating: S/118_21S58266_1235_3_0.62_S_93361.bmp  \n",
            "  inflating: S/119_34S61568_923_3_0.60_S_93318.bmp  \n",
            "  inflating: S/11_31S26268_42_3_0.64_S_93427.bmp  \n",
            "  inflating: S/120_34S61568_895_3_0.63_S_93398.bmp  \n",
            "  inflating: S/121_13S36268_4291_3_0.58_S_93612.bmp  \n",
            "  inflating: S/122_19S58468_3015_3_0.55_S_93566.bmp  \n",
            "  inflating: S/123_29S28378_1777_3_0.56_S_93586 - Copy.bmp  \n",
            "  inflating: S/124_12S74144_2312_3_0.60_S_93300.bmp  \n",
            "  inflating: S/125_31S26268_31_3_0.65_S_93456.bmp  \n",
            "  inflating: S/126_27S76213_4870_3_0.55_W_93570.bmp  \n",
            "  inflating: S/127_29S28378_1724_3_0.59_S_93651.bmp  \n",
            "  inflating: S/128_11S79421_1184_3_0.54_W_93179.bmp  \n",
            "  inflating: S/129_12S74144_2279_3_0.60_S_93662.bmp  \n",
            "  inflating: S/12_34S61568_891_3_0.64_S_93428.bmp  \n",
            "  inflating: S/130_83S71211_2157_3_0.59_S_93639.bmp  \n",
            "  inflating: S/131_82S75766_4134_3_0.60_S_93306.bmp  \n",
            "  inflating: S/132_27S76213_4875_3_0.58_W_93226.bmp  \n",
            "  inflating: S/133_31S69468_1134_3_0.67_S_93528.bmp  \n",
            "  inflating: S/134_49S61921_2160_3_0.57_W_93596.bmp  \n",
            "  inflating: S/135_21S58266_1212_3_0.61_S_93683 - Copy.bmp  \n",
            "  inflating: S/136_13S36268_4389_3_0.65_S_93494.bmp  \n",
            "  inflating: S/137_29S28378_1732_3_0.60_S_93305.bmp  \n",
            "  inflating: S/138_29S28378_1678_3_0.57_W_93217.bmp  \n",
            "  inflating: S/139_12S74144_2307_3_0.61_S_93332.bmp  \n",
            "  inflating: S/13_19S58468_3046_3_0.50_S_93173.bmp  \n",
            "  inflating: S/140_26S69568_1719_3_0.57_S_93216.bmp  \n",
            "  inflating: S/141_28S24178_353_3_0.59_W_93251.bmp  \n",
            "  inflating: S/142_12S74144_2289_3_0.62_S_93358.bmp  \n",
            "  inflating: S/143_44S66366_3890_3_0.58_W_93241.bmp  \n",
            "  inflating: S/144_13S36268_4432_3_0.63_S_93417.bmp  \n",
            "  inflating: S/145_29S28378_1699_3_0.65_W_93459.bmp  \n",
            "  inflating: S/146_12S74144_2303_3_0.62_S_93365.bmp  \n",
            "  inflating: S/147_27S37721_2857_3_0.54_S_93184.bmp  \n",
            "  inflating: S/148_44S66366_3902_3_0.59_W_93638.bmp  \n",
            "  inflating: S/149_71S54888_2443_3_0.65_S_93478.bmp  \n",
            "  inflating: S/14_28S24178_327_3_0.65_S_93498.bmp  \n",
            "  inflating: S/150_26S21766_897_3_0.64_S_93421.bmp  \n",
            "  inflating: S/151_26S69568_1729_3_0.58_S_93228.bmp  \n",
            "  inflating: S/152_82S75766_4170_3_0.65_S_93467.bmp  \n",
            "  inflating: S/153_11S79421_1177_3_0.58_W_93606.bmp  \n",
            "  inflating: S/154_14S17419_1433_3_0.56_S_93212 - Copy.bmp  \n",
            "  inflating: S/155_12S74144_2284_3_0.58_S_93225.bmp  \n",
            "  inflating: S/156_26S21766_901_3_0.61_S_93327.bmp  \n",
            "  inflating: S/157_14S17419_1434_3_0.63_S_93403 - Copy.bmp  \n",
            "  inflating: S/158_29S28378_1735_3_0.62_S_93381 - Copy.bmp  \n",
            "  inflating: S/159_12S74144_2302_3_0.58_S_93239.bmp  \n",
            "  inflating: S/15_29S28378_1782_3_0.58_S_93626 - Copy.bmp  \n",
            "  inflating: S/160_91S34177_1163_3_0.57_W_93590.bmp  \n",
            "  inflating: S/161_19S58468_3022_3_0.49_S_93555.bmp  \n",
            "  inflating: S/162_27S76213_4858_3_0.55_W_93571 - Copy.bmp  \n",
            "  inflating: S/163_27S37721_2842_3_0.63_S_93414.bmp  \n",
            "  inflating: S/164_85S94668_207_3_0.55_S_93194.bmp  \n",
            "  inflating: S/165_21S58266_1212_3_0.61_S_93683.bmp  \n",
            "  inflating: S/166_29S28378_1716_3_0.55_W_93574.bmp  \n",
            "  inflating: S/167_71S54888_2422_3_0.65_S_93697.bmp  \n",
            "  inflating: S/168_12S74144_2274_3_0.62_S_93686.bmp  \n",
            "  inflating: S/169_29S28378_1755_3_0.59_S_93273 - Copy.bmp  \n",
            "  inflating: S/16_82S75766_4123_3_0.59_S_93640.bmp  \n",
            "  inflating: S/170_19S58468_3037_3_0.50_S_93172.bmp  \n",
            "  inflating: S/171_27S37721_2798_3_0.64_S_93426 - Copy.bmp  \n",
            "  inflating: S/172_96S58933_1053_3_0.60_S_93661.bmp  \n",
            "  inflating: S/173_44S66366_3895_3_0.62_W_93689.bmp  \n",
            "  inflating: S/174_19S58468_3041_3_0.48_S_93552.bmp  \n",
            "  inflating: S/175_29S28378_1765_3_0.56_S_93209.bmp  \n",
            "  inflating: S/176_19S58468_3033_3_0.51_S_93558.bmp  \n",
            "  inflating: S/177_85S94668_186_3_0.59_S_93628.bmp  \n",
            "  inflating: S/178_31S69468_1118_3_0.66_S_93514.bmp  \n",
            "  inflating: S/179_71S54888_2429_3_0.59_S_93630.bmp  \n",
            "  inflating: S/17_34S61568_910_3_0.60_S_93677.bmp  \n",
            "  inflating: S/180_71S54888_2425_3_0.65_S_93696.bmp  \n",
            "  inflating: S/181_27S76213_4877_3_0.57_S_93592.bmp  \n",
            "  inflating: S/182_12S74144_2271_3_0.61_S_93681.bmp  \n",
            "  inflating: S/183_29S28378_1703_3_0.58_W_93236.bmp  \n",
            "  inflating: S/184_71S54888_2432_3_0.60_S_93655.bmp  \n",
            "  inflating: S/185_71S54888_2441_3_0.57_S_93598.bmp  \n",
            "  inflating: S/186_98S23755_4179_3_0.60_S_93283.bmp  \n",
            "  inflating: S/187_82S75766_4152_3_0.62_S_93368.bmp  \n",
            "  inflating: S/188_12S74144_2316_3_0.59_S_93263.bmp  \n",
            "  inflating: S/189_71S54888_2448_3_0.63_S_93388.bmp  \n",
            "  inflating: S/18_21S58266_1206_3_0.60_S_93278.bmp  \n",
            "  inflating: S/190_13S36268_4426_3_0.66_S_93518.bmp  \n",
            "  inflating: S/191_52S56977_773_3_0.55_W_93192.bmp  \n",
            "  inflating: S/192_21S58266_1199_3_0.57_S_93215 - Copy.bmp  \n",
            "  inflating: S/193_26S21766_904_3_0.60_S_93290 - Copy.bmp  \n",
            "  inflating: S/194_34S61568_916_3_0.64_S_93451.bmp  \n",
            "  inflating: S/195_96S58933_1047_3_0.60_S_93293.bmp  \n",
            "  inflating: S/196_31S26268_51_3_0.64_S_93429 - Copy.bmp  \n",
            "  inflating: S/197_82S75766_4165_3_0.62_S_93375.bmp  \n",
            "  inflating: S/198_13S36268_4334_3_0.65_S_93466.bmp  \n",
            "  inflating: S/199_26S69568_1731_3_0.60_S_93285 - Copy.bmp  \n",
            "  inflating: S/19_12S74144_2282_3_0.60_S_93666.bmp  \n",
            "  inflating: S/1_21S58266_1226_3_0.60_S_93667.bmp  \n",
            "  inflating: S/200_26S69568_1729_3_0.58_S_93228 - Copy.bmp  \n",
            "  inflating: S/201_31S26268_9_3_0.59_S_93252 - Copy.bmp  \n",
            "  inflating: S/202_27S76213_4874_3_0.59_W_93641 - Copy.bmp  \n",
            "  inflating: S/203_14S17419_1434_3_0.63_S_93403.bmp  \n",
            "  inflating: S/204_21S58266_1218_3_0.60_S_93280.bmp  \n",
            "  inflating: S/205_52S56977_695_3_0.62_S_93357.bmp  \n",
            "  inflating: S/206_27S37721_2852_3_0.61_S_93352.bmp  \n",
            "  inflating: S/207_13S36268_4366_3_0.65_S_93492.bmp  \n",
            "  inflating: S/208_13S36268_4295_3_0.59_S_93257.bmp  \n",
            "  inflating: S/209_29S28378_1720_3_0.58_S_93621.bmp  \n",
            "  inflating: S/20_26S69568_1719_3_0.57_S_93216 - Copy.bmp  \n",
            "  inflating: S/210_27S76213_4871_0_0.55_W_93544 - Copy.bmp  \n",
            "  inflating: S/211_28S24178_335_3_0.60_S_93311.bmp  \n",
            "  inflating: S/212_11S79421_1141_3_0.57_W_93599.bmp  \n",
            "  inflating: S/213_29S28378_1703_3_0.58_W_93236 - Copy.bmp  \n",
            "  inflating: S/214_91S34177_1162_0_0.53_W_93165.bmp  \n",
            "  inflating: S/215_12S74144_2299_3_0.59_S_93644.bmp  \n",
            "  inflating: S/216_44S66366_3900_3_0.57_W_93218.bmp  \n",
            "  inflating: S/217_14S17419_1432_3_0.59_S_93270 - Copy.bmp  \n",
            "  inflating: S/218_13S36268_4354_3_0.65_S_93490.bmp  \n",
            "  inflating: S/219_82S75766_4130_3_0.62_S_93359.bmp  \n",
            "  inflating: S/21_98S23755_4193_3_0.65_S_93476.bmp  \n",
            "  inflating: S/220_85S94668_209_3_0.59_S_93646.bmp  \n",
            "  inflating: S/221_29S28378_1730_3_0.56_S_93587.bmp  \n",
            "  inflating: S/222_12S74144_2297_3_0.59_S_93259.bmp  \n",
            "  inflating: S/223_29S28378_1769_3_0.58_S_93625.bmp  \n",
            "  inflating: S/224_29S28378_1784_3_0.56_S_93210 - Copy.bmp  \n",
            "  inflating: S/225_56S44655_1119_3_0.57_W_93214.bmp  \n",
            "  inflating: S/226_43S18272_3401_3_0.60_S_93312.bmp  \n",
            "  inflating: S/227_29S28378_1686_3_0.57_W_93219.bmp  \n",
            "  inflating: S/228_27S76213_4862_3_0.56_W_93207.bmp  \n",
            "  inflating: S/229_11S79421_1145_3_0.59_W_93256.bmp  \n",
            "  inflating: S/22_13S36268_4325_3_0.60_S_93303.bmp  \n",
            "  inflating: S/230_56S44655_1116_3_0.58_S_93223.bmp  \n",
            "  inflating: S/231_82S75766_4157_3_0.60_S_93295.bmp  \n",
            "  inflating: S/232_19S58468_3026_3_0.54_S_93561.bmp  \n",
            "  inflating: S/233_27S76213_4863_3_0.57_S_93221.bmp  \n",
            "  inflating: S/234_98S23755_4186_3_0.66_S_93512.bmp  \n",
            "  inflating: S/235_11S79421_1173_3_0.58_W_93605.bmp  \n",
            "  inflating: S/236_19S58468_3018_3_0.49_S_93554.bmp  \n",
            "  inflating: S/237_14S17419_1432_3_0.59_S_93270.bmp  \n",
            "  inflating: S/238_11S79421_1151_3_0.58_W_93611.bmp  \n",
            "  inflating: S/239_29S28378_1706_3_0.59_S_93647.bmp  \n",
            "  inflating: S/23_13S36268_4379_3_0.67_S_93524.bmp  \n",
            "  inflating: S/240_26S69568_1743_3_0.63_S_93397.bmp  \n",
            "  inflating: S/241_43S18272_3394_3_0.66_S_93504.bmp  \n",
            "  inflating: S/242_13S36268_4408_3_0.65_S_93496.bmp  \n",
            "  inflating: S/243_13S36268_4398_3_0.67_S_93526.bmp  \n",
            "  inflating: S/244_31S26268_14_3_0.61_S_93321.bmp  \n",
            "  inflating: S/245_71S54888_2435_3_0.60_S_93279.bmp  \n",
            "  inflating: S/246_29S28378_1749_3_0.61_S_93344 - Copy.bmp  \n",
            "  inflating: S/247_34S61568_922_3_0.62_S_93385.bmp  \n",
            "  inflating: S/248_13S36268_4344_3_0.63_S_93407.bmp  \n",
            "  inflating: S/249_27S37721_2819_3_0.63_S_93404.bmp  \n",
            "  inflating: S/24_52S56977_738_3_0.58_S_93618.bmp  \n",
            "  inflating: S/250_29S28378_1708_3_0.58_S_93620.bmp  \n",
            "  inflating: S/251_31S69468_1156_3_0.63_S_93418.bmp  \n",
            "  inflating: S/252_12S74144_2287_3_0.60_S_93286.bmp  \n",
            "  inflating: S/253_28S24178_352_3_0.65_W_93477.bmp  \n",
            "  inflating: S/254_52S56977_755_3_0.61_S_93334.bmp  \n",
            "  inflating: S/255_96S97133_1683_3_0.49_W_93557.bmp  \n",
            "  inflating: S/256_29S28378_1759_3_0.58_S_93624.bmp  \n",
            "  inflating: S/257_71S54888_2450_3_0.65_S_93455.bmp  \n",
            "  inflating: S/258_12S74144_2295_3_0.58_S_93615.bmp  \n",
            "  inflating: S/259_26S69568_1741_3_0.58_S_93235.bmp  \n",
            "  inflating: S/25_13S36268_4426_3_0.66_S_93518 - Copy.bmp  \n",
            "  inflating: S/260_11S79421_1132_3_0.61_S_93348.bmp  \n",
            "  inflating: S/261_21S58266_1192_3_0.60_S_93276.bmp  \n",
            "  inflating: S/262_29S28378_1640_3_0.56_F_93584.bmp  \n",
            "  inflating: S/263_34S61568_908_3_0.62_S_93380.bmp  \n",
            "  inflating: S/264_28S24178_340_3_0.61_S_93339 - Copy.bmp  \n",
            "  inflating: S/265_46S39388_13056_3_0.60_S_93657.bmp  \n",
            "  inflating: S/266_44S66366_3893_3_0.63_W_93695.bmp  \n",
            "  inflating: S/267_26S69568_1738_3_0.62_S_93362.bmp  \n",
            "  inflating: S/268_56S44655_1133_3_0.60_S_93665.bmp  \n",
            "  inflating: S/269_31S26268_45_3_0.58_S_93234.bmp  \n",
            "  inflating: S/26_26S69568_1715_3_0.62_S_93355.bmp  \n",
            "  inflating: S/270_12S74144_2272_3_0.57_S_93591.bmp  \n",
            "  inflating: S/271_11S79421_1147_3_0.58_W_93619.bmp  \n",
            "  inflating: S/272_11S79421_1136_3_0.59_W_93267.bmp  \n",
            "  inflating: S/273_26S21766_885_3_0.61_S_93319.bmp  \n",
            "  inflating: S/274_98S23755_4194_3_0.59_W_93274.bmp  \n",
            "  inflating: S/275_44S66366_3889_3_0.62_S_93377.bmp  \n",
            "  inflating: S/276_21S58266_1192_3_0.60_S_93276 - Copy.bmp  \n",
            "  inflating: S/277_11S79421_1144_3_0.60_S_93674.bmp  \n",
            "  inflating: S/278_52S56977_789_0_0.49_W_93162.bmp  \n",
            "  inflating: S/279_26S21766_882_3_0.60_S_93669.bmp  \n",
            "  inflating: S/27_28S24178_337_3_0.63_S_93408.bmp  \n",
            "  inflating: S/280_19S58468_3029_3_0.49_S_93556.bmp  \n",
            "  inflating: S/281_96S58933_1050_3_0.58_S_93229.bmp  \n",
            "  inflating: S/282_26S21766_888_3_0.61_S_93680.bmp  \n",
            "  inflating: S/283_34S61568_914_3_0.65_S_93497.bmp  \n",
            "  inflating: S/284_11S79421_1180_3_0.55_W_93564.bmp  \n",
            "  inflating: S/285_31S26268_78_3_0.64_S_93436 - Copy.bmp  \n",
            "  inflating: S/286_91S34177_1161_3_0.52_W_93176.bmp  \n",
            "  inflating: S/287_29S28378_1696_3_0.57_W_93220.bmp  \n",
            "  inflating: S/288_28S24178_345_3_0.62_W_93364.bmp  \n",
            "  inflating: S/289_29S28378_1753_3_0.54_S_93183 - Copy.bmp  \n",
            "  inflating: S/28_27S37721_2798_3_0.64_S_93426.bmp  \n",
            "  inflating: S/290_26S69568_1731_3_0.60_S_93285.bmp  \n",
            "  inflating: S/291_29S28378_1762_3_0.62_S_93379.bmp  \n",
            "  inflating: S/292_11S79421_1158_3_0.59_W_93631.bmp  \n",
            "  inflating: S/293_31S26268_28_3_0.69_S_93534.bmp  \n",
            "  inflating: S/294_12S74144_2311_3_0.62_S_93374.bmp  \n",
            "  inflating: S/295_26S69568_1725_3_0.57_S_93593.bmp  \n",
            "  inflating: S/296_15S85668_5077_3_0.62_S_93382.bmp  \n",
            "  inflating: S/297_82S75766_4175_3_0.66_S_93502.bmp  \n",
            "  inflating: S/298_44S66366_3887_3_0.63_W_93409.bmp  \n",
            "  inflating: S/299_49S61921_2164_3_0.55_S_93185.bmp  \n",
            "  inflating: S/29_14S17419_1433_3_0.56_S_93212.bmp  \n",
            "  inflating: S/2_68S96368_1147_3_0.59_W_93246.bmp  \n",
            "  inflating: S/300_27S37721_2833_3_0.65_S_93493.bmp  \n",
            "  inflating: S/30_34S61568_904_3_0.62_S_93378.bmp  \n",
            "  inflating: S/31_27S76213_4879_3_0.58_W_93609.bmp  \n",
            "  inflating: S/32_96S58933_1034_3_0.61_S_93340.bmp  \n",
            "  inflating: S/33_27S76213_4874_3_0.59_W_93641.bmp  \n",
            "  inflating: S/34_26S21766_894_3_0.60_S_93281.bmp  \n",
            "  inflating: S/35_68S96368_1130_3_0.62_W_93353.bmp  \n",
            "  inflating: S/36_82S75766_4141_3_0.62_S_93688.bmp  \n",
            "  inflating: S/37_21S58266_1231_3_0.58_S_93232.bmp  \n",
            "  inflating: S/38_11S79421_1170_0_0.59_W_93548.bmp  \n",
            "  inflating: S/39_28S24178_348_3_0.58_W_93616.bmp  \n",
            "  inflating: S/3_34S61568_919_3_0.66_S_93517.bmp  \n",
            "  inflating: S/40_27S76213_4858_3_0.55_W_93571.bmp  \n",
            "  inflating: S/41_44S66366_3907_3_0.58_W_93610.bmp  \n",
            "  inflating: S/42_34S61568_901_3_0.62_S_93376.bmp  \n",
            "  inflating: S/43_29S28378_1706_3_0.59_S_93647 - Copy.bmp  \n",
            "  inflating: S/44_52S56977_675_3_0.59_S_93250.bmp  \n",
            "  inflating: S/45_26S21766_890_3_0.58_S_93607.bmp  \n",
            "  inflating: S/46_14S17419_1435_0_0.57_S_93546.bmp  \n",
            "  inflating: S/47_96S58933_1038_3_0.60_S_93299.bmp  \n",
            "  inflating: S/48_13S36268_4300_3_0.60_S_93287.bmp  \n",
            "  inflating: S/49_98S23755_4175_3_0.66_S_93698.bmp  \n",
            "  inflating: S/4_14S17419_1427_3_0.60_S_93316.bmp  \n",
            "  inflating: S/50_29S28378_1735_3_0.62_S_93381.bmp  \n",
            "  inflating: S/51_28S24178_340_3_0.61_S_93339.bmp  \n",
            "  inflating: S/52_43S18272_3398_3_0.61_S_93347.bmp  \n",
            "  inflating: S/53_68S96368_1142_3_0.60_W_93275.bmp  \n",
            "  inflating: S/54_27S37721_2846_3_0.66_S_93515.bmp  \n",
            "  inflating: S/55_13S36268_4313_3_0.60_S_93298.bmp  \n",
            "  inflating: S/56_43S18272_3405_3_0.61_S_93349.bmp  \n",
            "  inflating: S/57_27S37721_2829_3_0.63_S_93410 - Copy.bmp  \n",
            "  inflating: S/58_12S74144_2269_3_0.64_S_93419.bmp  \n",
            "  inflating: S/59_82S75766_4147_3_0.62_S_93690.bmp  \n",
            "  inflating: S/5_34S61568_917_3_0.63_S_93415.bmp  \n",
            "  inflating: S/60_14S17419_1436_0_0.52_S_93539.bmp  \n",
            "  inflating: S/61_82S75766_4121_3_0.62_S_93372.bmp  \n",
            "  inflating: S/62_13S36268_4422_3_0.67_S_93529.bmp  \n",
            "  inflating: S/63_29S28378_1720_3_0.58_S_93621 - Copy.bmp  \n",
            "  inflating: S/64_85S78533_9228_0_0.57_S_93547.bmp  \n",
            "  inflating: S/65_68S96368_1125_3_0.61_W_93679.bmp  \n",
            "  inflating: S/66_27S37721_2791_3_0.59_S_93255.bmp  \n",
            "  inflating: S/67_29S28378_1745_3_0.59_S_93266.bmp  \n",
            "  inflating: S/68_12S74144_2292_3_0.61_S_93325.bmp  \n",
            "  inflating: S/69_12S74144_2306_3_0.60_S_93307.bmp  \n",
            "  inflating: S/6_98S23755_4182_3_0.65_S_93463.bmp  \n",
            "  inflating: S/70_85S94668_201_3_0.63_S_93694.bmp  \n",
            "  inflating: S/71_26S21766_904_3_0.60_S_93290.bmp  \n",
            "  inflating: S/72_21S58266_1199_3_0.57_S_93215.bmp  \n",
            "  inflating: S/73_34S61568_899_3_0.65_S_93485.bmp  \n",
            "  inflating: S/74_52S56977_713_3_0.59_S_93254.bmp  \n",
            "  inflating: S/75_82S75766_4127_3_0.57_S_93601.bmp  \n",
            "  inflating: S/76_98S23755_4180_3_0.61_S_93335.bmp  \n",
            "  inflating: S/77_26S69568_1725_3_0.57_S_93593 - Copy.bmp  \n",
            "  inflating: S/78_28S24178_354_3_0.56_W_93200.bmp  \n",
            "  inflating: S/79_12S74144_2276_3_0.60_S_93654.bmp  \n",
            "  inflating: S/7_27S37721_2829_3_0.63_S_93410.bmp  \n",
            "  inflating: S/80_26S69568_1712_3_0.59_S_93634.bmp  \n",
            "  inflating: S/81_28S24178_329_3_0.65_S_93473.bmp  \n",
            "  inflating: S/82_21S58266_1206_3_0.60_S_93278 - Copy.bmp  \n",
            "  inflating: S/83_31S26268_14_3_0.61_S_93321 - Copy.bmp  \n",
            "  inflating: S/84_31S26268_36_3_0.61_S_93322.bmp  \n",
            "  inflating: S/85_27S37721_2782_3_0.60_S_93670.bmp  \n",
            "  inflating: S/86_56S44655_1126_3_0.63_S_93693.bmp  \n",
            "  inflating: S/87_29S28378_1690_3_0.59_W_93645.bmp  \n",
            "  inflating: S/88_26S21766_879_3_0.60_S_93652.bmp  \n",
            "  inflating: S/89_29S28378_1745_3_0.59_S_93266 - Copy.bmp  \n",
            "  inflating: S/8_71S54888_2439_3_0.60_S_93658.bmp  \n",
            "  inflating: S/90_11S79421_1164_0_0.62_W_93549.bmp  \n",
            "  inflating: S/91_27S37721_2807_3_0.60_S_93302.bmp  \n",
            "  inflating: S/92_49S61921_2166_3_0.56_W_93580.bmp  \n",
            "  inflating: S/93_13S36268_4415_3_0.67_S_93527.bmp  \n",
            "  inflating: S/94_28S24178_341_3_0.60_S_93675.bmp  \n",
            "  inflating: S/95_26S21766_910_3_0.64_S_93434.bmp  \n",
            "  inflating: S/96_27S76213_4871_0_0.55_W_93544.bmp  \n",
            "  inflating: S/97_29S28378_1774_3_0.59_S_93650 - Copy.bmp  \n",
            "  inflating: S/98_85S94668_194_3_0.56_S_93201.bmp  \n",
            "  inflating: S/99_12S74144_2281_3_0.61_S_93682.bmp  \n",
            "  inflating: S/9_29S28378_1713_3_0.59_S_93262.bmp  \n",
            "   creating: W/\n",
            "  inflating: W/100_71W19419_983_3_0.61_W_94349.bmp  \n",
            "  inflating: W/101_25W62821_923_3_0.58_W_94059.bmp  \n",
            "  inflating: W/102_81W98144_428_3_0.67_W_94610.bmp  \n",
            "  inflating: W/103_12W24455_4519_3_0.58_W_94250.bmp  \n",
            "  inflating: W/104_52W76921_3439_3_0.73_W_94675.bmp  \n",
            "  inflating: W/105_95W99766_3352_3_0.63_W_94438.bmp  \n",
            "  inflating: W/106_81W98144_418_3_0.65_S_94558.bmp  \n",
            "  inflating: W/107_21W14877_2042_3_0.63_W_94434.bmp  \n",
            "  inflating: W/108_56W25344_3448_3_0.57_S_94213.bmp  \n",
            "  inflating: W/109_29W27821_3064_3_0.60_W_94084.bmp  \n",
            "  inflating: W/10_95W99766_3408_3_0.60_W_94342.bmp  \n",
            "  inflating: W/110_96W34577_5230_3_0.68_W_94643.bmp  \n",
            "  inflating: W/111_42W23219_2900_3_0.60_S_94090.bmp  \n",
            "  inflating: W/112_21W14877_2051_3_0.60_W_94333.bmp  \n",
            "  inflating: W/113_89W45914_371_3_0.62_W_94399.bmp  \n",
            "  inflating: W/114_73W45568_1788_3_0.62_W_94392.bmp  \n",
            "  inflating: W/115_12W24455_4511_3_0.65_W_94551.bmp  \n",
            "  inflating: W/116_25W62821_1077_3_0.48_W_94000.bmp  \n",
            "  inflating: W/117_25W62821_1031_3_0.54_W_94158.bmp  \n",
            "  inflating: W/118_96W34577_5181_3_0.66_W_94590.bmp  \n",
            "  inflating: W/119_29W27821_3113_3_0.68_S_94633.bmp  \n",
            "  inflating: W/11_25W62821_1051_3_0.55_W_94171.bmp  \n",
            "  inflating: W/120_25W62821_1037_3_0.58_W_94246.bmp  \n",
            "  inflating: W/121_29W27821_3117_3_0.64_S_94492.bmp  \n",
            "  inflating: W/122_29W27821_3106_3_0.64_S_94486.bmp  \n",
            "  inflating: W/123_98W96768_3728_3_0.58_W_94245.bmp  \n",
            "  inflating: W/124_12W24455_4498_3_0.66_W_94597.bmp  \n",
            "  inflating: W/125_34W67168_5624_3_0.61_W_94357.bmp  \n",
            "  inflating: W/126_41W17368_1444_3_0.58_W_94052.bmp  \n",
            "  inflating: W/127_12W24455_4518_3_0.61_W_94362.bmp  \n",
            "  inflating: W/128_89W45914_362_3_0.64_W_94479.bmp  \n",
            "  inflating: W/129_53W83233_2388_3_0.62_S_94415.bmp  \n",
            "  inflating: W/12_21W23177_280_3_0.61_W_94360.bmp  \n",
            "  inflating: W/130_27W14868_3617_3_0.65_S_94549.bmp  \n",
            "  inflating: W/131_18W81368_2204_3_0.60_W_94316.bmp  \n",
            "  inflating: W/132_19W12825_3310_3_0.59_W_94267.bmp  \n",
            "  inflating: W/133_25W62821_845_3_0.58_W_94056.bmp  \n",
            "  inflating: W/134_38W45177_942_3_0.65_W_94544.bmp  \n",
            "  inflating: W/135_38W45177_996_3_0.65_S_94528.bmp  \n",
            "  inflating: W/136_98W72888_800_3_0.49_W_94131.bmp  \n",
            "  inflating: W/137_15W41877_428_3_0.68_W_94628.bmp  \n",
            "  inflating: W/138_25W62821_759_3_0.57_W_94045.bmp  \n",
            "  inflating: W/139_28W58168_1473_3_0.55_W_94033.bmp  \n",
            "  inflating: W/13_89W45914_380_3_0.58_W_94236.bmp  \n",
            "  inflating: W/140_96W34577_5199_3_0.63_S_94448.bmp  \n",
            "  inflating: W/141_25W68368_4606_3_0.61_W_94091.bmp  \n",
            "  inflating: W/142_26W25357_1438_3_0.66_W_94586.bmp  \n",
            "  inflating: W/143_18W81368_2212_3_0.65_S_94505.bmp  \n",
            "  inflating: W/144_28W98421_4346_3_0.61_W_94372.bmp  \n",
            "  inflating: W/145_89W45914_385_3_0.58_W_94232.bmp  \n",
            "  inflating: W/146_25W68368_4612_3_0.64_W_94456.bmp  \n",
            "  inflating: W/147_96W18988_1801_3_0.54_W_94160.bmp  \n",
            "  inflating: W/148_25W62821_883_3_0.58_W_94057.bmp  \n",
            "  inflating: W/149_25W62821_988_3_0.59_W_94276.bmp  \n",
            "  inflating: W/14_21W23177_274_3_0.61_W_94098.bmp  \n",
            "  inflating: W/150_81W98144_471_3_0.63_W_94430.bmp  \n",
            "  inflating: W/151_29W74379_2394_3_0.61_W_94343.bmp  \n",
            "  inflating: W/152_26W25357_1455_3_0.67_W_94613.bmp  \n",
            "  inflating: W/153_25W62821_851_3_0.59_W_94066.bmp  \n",
            "  inflating: W/154_25W62821_1005_3_0.54_W_94012.bmp  \n",
            "  inflating: W/155_12W24455_4513_3_0.60_W_94331.bmp  \n",
            "  inflating: W/156_29W27821_3099_3_0.62_S_94421.bmp  \n",
            "  inflating: W/157_25W62821_882_3_0.56_W_94040.bmp  \n",
            "  inflating: W/158_29W27821_3127_3_0.67_S_94625.bmp  \n",
            "  inflating: W/159_25W62821_921_3_0.59_W_94272.bmp  \n",
            "  inflating: W/15_21W14877_2048_3_0.64_W_94473.bmp  \n",
            "  inflating: W/160_21W14877_2033_3_0.61_W_94093.bmp  \n",
            "  inflating: W/161_53W83233_2378_3_0.62_W_94104.bmp  \n",
            "  inflating: W/162_25W62821_953_3_0.55_W_94028.bmp  \n",
            "  inflating: W/163_96W34577_5218_3_0.65_S_94574.bmp  \n",
            "  inflating: W/164_18W81368_2234_3_0.65_S_94515.bmp  \n",
            "  inflating: W/165_21W23177_284_3_0.50_W_94136.bmp  \n",
            "  inflating: W/166_95W99766_3404_3_0.66_W_94603.bmp  \n",
            "  inflating: W/167_21W14877_2079_3_0.67_S_94615.bmp  \n",
            "  inflating: W/168_42W23219_2847_3_0.60_S_94324.bmp  \n",
            "  inflating: W/169_95W99766_3386_3_0.64_S_94494.bmp  \n",
            "  inflating: W/16_21W14877_2061_3_0.65_S_94514.bmp  \n",
            "  inflating: W/170_94W45968_6035_0_0.39_W_93995.bmp  \n",
            "  inflating: W/171_29W74379_2376_3_0.63_W_94431.bmp  \n",
            "  inflating: W/172_25W62821_880_3_0.55_W_94026.bmp  \n",
            "  inflating: W/173_26W25357_1448_3_0.64_W_94478.bmp  \n",
            "  inflating: W/174_25W62821_886_3_0.60_W_94318.bmp  \n",
            "  inflating: W/175_21W14877_2089_3_0.65_S_94535.bmp  \n",
            "  inflating: W/176_34W67168_5618_3_0.65_W_94509.bmp  \n",
            "  inflating: W/177_28W58168_1474_3_0.55_W_94032.bmp  \n",
            "  inflating: W/178_96W34577_5243_3_0.68_W_94646.bmp  \n",
            "  inflating: W/179_41W17368_1453_3_0.56_W_94034.bmp  \n",
            "  inflating: W/17_96W34577_5165_3_0.59_S_94071.bmp  \n",
            "  inflating: W/180_25W62821_1058_3_0.53_W_94008.bmp  \n",
            "  inflating: W/181_25W62821_994_3_0.55_W_94030.bmp  \n",
            "  inflating: W/182_96W34577_5236_3_0.70_W_94664.bmp  \n",
            "  inflating: W/183_81W98144_393_3_0.67_S_94614.bmp  \n",
            "  inflating: W/184_34W67168_5614_3_0.61_W_94374.bmp  \n",
            "  inflating: W/185_95W99766_3365_3_0.61_W_94375.bmp  \n",
            "  inflating: W/186_25W62821_1029_0_0.49_W_94113.bmp  \n",
            "  inflating: W/187_56W25344_3453_3_0.57_S_94215.bmp  \n",
            "  inflating: W/188_81W98144_491_3_0.64_W_94454.bmp  \n",
            "  inflating: W/189_42W23219_2857_3_0.60_S_94085.bmp  \n",
            "  inflating: W/18_19W12825_3318_0_0.44_W_94111.bmp  \n",
            "  inflating: W/190_12W24455_4501_3_0.65_W_94527.bmp  \n",
            "  inflating: W/191_95W99766_3378_3_0.64_S_94488.bmp  \n",
            "  inflating: W/192_21W14877_2011_3_0.57_W_94208.bmp  \n",
            "  inflating: W/193_25W62821_1015_3_0.53_W_94153.bmp  \n",
            "  inflating: W/194_73W45568_1791_3_0.59_W_94277.bmp  \n",
            "  inflating: W/195_42W23219_2838_3_0.58_S_94240.bmp  \n",
            "  inflating: W/196_19W12825_3315_3_0.61_W_94367.bmp  \n",
            "  inflating: W/197_21W14877_2078_3_0.65_S_94532.bmp  \n",
            "  inflating: W/198_38W45177_974_3_0.65_S_94518.bmp  \n",
            "  inflating: W/199_28W58168_1476_3_0.58_W_94062.bmp  \n",
            "  inflating: W/19_18W81368_2227_3_0.61_W_94376.bmp  \n",
            "  inflating: W/1_25W62821_993_3_0.62_W_94400.bmp  \n",
            "  inflating: W/200_94W45968_6041_0_0.44_W_94112.bmp  \n",
            "  inflating: W/201_25W62821_958_3_0.58_W_94243.bmp  \n",
            "  inflating: W/202_15W41877_433_3_0.61_W_94351.bmp  \n",
            "  inflating: W/203_25W68368_4621_3_0.61_W_94361.bmp  \n",
            "  inflating: W/204_25W62821_821_3_0.56_W_94037.bmp  \n",
            "  inflating: W/205_34W67168_5594_3_0.65_W_94539.bmp  \n",
            "  inflating: W/206_25W62821_800_3_0.53_W_94006.bmp  \n",
            "  inflating: W/207_71W19419_957_3_0.60_W_94077.bmp  \n",
            "  inflating: W/208_21W14877_2053_3_0.61_W_94369.bmp  \n",
            "  inflating: W/209_42W23219_2887_3_0.60_S_94088.bmp  \n",
            "  inflating: W/20_21W14877_2066_3_0.66_S_94593.bmp  \n",
            "  inflating: W/210_29W27821_3068_3_0.61_W_94095.bmp  \n",
            "  inflating: W/211_65W65721_351_3_0.71_W_94665.bmp  \n",
            "  inflating: W/212_26W25357_1452_3_0.66_W_94591.bmp  \n",
            "  inflating: W/213_12W24455_4510_3_0.65_W_94517.bmp  \n",
            "  inflating: W/214_65W65721_345_3_0.66_W_94585.bmp  \n",
            "  inflating: W/215_81W98144_484_3_0.62_W_94388.bmp  \n",
            "  inflating: W/216_25W62821_890_3_0.55_W_94027.bmp  \n",
            "  inflating: W/217_25W62821_854_3_0.56_W_94038.bmp  \n",
            "  inflating: W/218_18W81368_2223_3_0.61_S_94097.bmp  \n",
            "  inflating: W/219_25W62821_974_3_0.57_W_94214.bmp  \n",
            "  inflating: W/21_25W68368_4609_3_0.61_W_94347.bmp  \n",
            "  inflating: W/220_21W23177_277_3_0.58_W_94248.bmp  \n",
            "  inflating: W/221_95W99766_3396_3_0.70_S_94662.bmp  \n",
            "  inflating: W/222_25W62821_1053_3_0.55_W_94172.bmp  \n",
            "  inflating: W/223_29W74379_2281_3_0.58_S_94261.bmp  \n",
            "  inflating: W/224_25W62821_981_3_0.55_W_94031.bmp  \n",
            "  inflating: W/225_81W98144_359_3_0.66_W_94602.bmp  \n",
            "  inflating: W/226_25W62821_865_3_0.55_W_94018.bmp  \n",
            "  inflating: W/227_94W45968_6020_3_0.43_W_94126.bmp  \n",
            "  inflating: W/228_67W48888_8059_3_0.59_W_94268.bmp  \n",
            "  inflating: W/229_94W45968_6029_3_0.39_W_94125.bmp  \n",
            "  inflating: W/22_28W58168_1471_3_0.57_S_94221.bmp  \n",
            "  inflating: W/230_21W14877_2023_3_0.62_W_94394.bmp  \n",
            "  inflating: W/231_25W62821_785_3_0.55_W_94016.bmp  \n",
            "  inflating: W/232_71W19419_978_3_0.59_W_94067.bmp  \n",
            "  inflating: W/233_25W62821_745_3_0.56_W_94035.bmp  \n",
            "  inflating: W/234_56W25344_3446_3_0.60_S_94322.bmp  \n",
            "  inflating: W/235_25W62821_828_3_0.57_W_94204.bmp  \n",
            "  inflating: W/236_29W27821_3060_3_0.65_W_94545.bmp  \n",
            "  inflating: W/237_21W14877_2082_3_0.64_S_94493.bmp  \n",
            "  inflating: W/238_74W13868_3185_3_0.58_S_94244.bmp  \n",
            "  inflating: W/239_25W68368_4627_3_0.64_W_94457.bmp  \n",
            "  inflating: W/23_25W62821_807_3_0.52_W_94145.bmp  \n",
            "  inflating: W/240_25W62821_817_3_0.55_W_94025.bmp  \n",
            "  inflating: W/241_25W68368_4643_3_0.65_W_94556.bmp  \n",
            "  inflating: W/242_95W99766_3343_3_0.56_W_94197.bmp  \n",
            "  inflating: W/243_27W14868_3620_3_0.71_S_94667.bmp  \n",
            "  inflating: W/244_21W14877_2024_3_0.67_W_94607.bmp  \n",
            "  inflating: W/245_42W23219_2877_3_0.65_S_94109.bmp  \n",
            "  inflating: W/246_25W62821_1060_3_0.52_W_94148.bmp  \n",
            "  inflating: W/247_12W24455_4523_3_0.62_W_94391.bmp  \n",
            "  inflating: W/248_25W62821_978_3_0.57_W_94050.bmp  \n",
            "  inflating: W/249_25W62821_812_3_0.57_W_94205.bmp  \n",
            "  inflating: W/24_21W14877_2038_3_0.61_W_94363.bmp  \n",
            "  inflating: W/250_25W62821_991_3_0.60_W_94330.bmp  \n",
            "  inflating: W/251_25W62821_949_3_0.57_W_94212.bmp  \n",
            "  inflating: W/252_21W14877_2064_3_0.66_S_94589.bmp  \n",
            "  inflating: W/253_25W62821_1063_3_0.51_W_94004.bmp  \n",
            "  inflating: W/254_25W62821_837_3_0.55_W_94163.bmp  \n",
            "  inflating: W/255_29W74379_2262_3_0.64_W_94502.bmp  \n",
            "  inflating: W/256_25W62821_884_3_0.56_W_94194.bmp  \n",
            "  inflating: W/257_95W99766_3347_3_0.59_W_94072.bmp  \n",
            "  inflating: W/258_25W62821_789_3_0.55_W_94017.bmp  \n",
            "  inflating: W/259_15W41877_439_3_0.56_W_94193.bmp  \n",
            "  inflating: W/25_25W62821_960_3_0.55_W_94179.bmp  \n",
            "  inflating: W/260_15W41877_431_3_0.59_W_94278.bmp  \n",
            "  inflating: W/261_21W14877_2058_3_0.60_W_94332.bmp  \n",
            "  inflating: W/262_25W62821_970_3_0.57_W_94051.bmp  \n",
            "  inflating: W/263_53W83233_2367_3_0.65_S_94512.bmp  \n",
            "  inflating: W/264_25W68368_4614_3_0.60_W_94080.bmp  \n",
            "  inflating: W/265_29W74379_2283_3_0.65_S_94543.bmp  \n",
            "  inflating: W/266_81W98144_277_3_0.55_W_94189.bmp  \n",
            "  inflating: W/267_25W62821_855_3_0.53_W_94152.bmp  \n",
            "  inflating: W/268_18W81368_2196_3_0.59_W_94264.bmp  \n",
            "  inflating: W/269_95W99766_3390_3_0.68_S_94639.bmp  \n",
            "  inflating: W/26_53W83233_2374_3_0.64_S_94471.bmp  \n",
            "  inflating: W/270_29W74379_2388_3_0.59_W_94065.bmp  \n",
            "  inflating: W/271_95W99766_3371_3_0.62_S_94412.bmp  \n",
            "  inflating: W/272_19W12825_3326_3_0.57_W_94217.bmp  \n",
            "  inflating: W/273_26W25357_1433_3_0.64_W_94464.bmp  \n",
            "  inflating: W/274_21W14877_2045_3_0.68_W_94627.bmp  \n",
            "  inflating: W/275_21W14877_2087_3_0.68_S_94637.bmp  \n",
            "  inflating: W/276_19W12825_3319_3_0.60_W_94329.bmp  \n",
            "  inflating: W/277_38W45177_988_3_0.64_S_94481.bmp  \n",
            "  inflating: W/278_71W19419_968_3_0.60_W_94079.bmp  \n",
            "  inflating: W/279_73W45568_1795_3_0.58_S_94061.bmp  \n",
            "  inflating: W/27_25W62821_781_3_0.51_W_94003.bmp  \n",
            "  inflating: W/280_25W62821_966_3_0.56_W_94196.bmp  \n",
            "  inflating: W/281_96W34577_5160_3_0.59_W_94266.bmp  \n",
            "  inflating: W/282_25W62821_794_3_0.55_W_94015.bmp  \n",
            "  inflating: W/283_25W62821_798_3_0.52_W_94144.bmp  \n",
            "  inflating: W/284_21W14877_2075_3_0.65_S_94566.bmp  \n",
            "  inflating: W/285_25W62821_973_3_0.59_W_94074.bmp  \n",
            "  inflating: W/286_25W62821_1021_0_0.53_W_94114.bmp  \n",
            "  inflating: W/287_25W62821_963_3_0.56_W_94195.bmp  \n",
            "  inflating: W/288_12W24455_4526_3_0.55_W_94165.bmp  \n",
            "  inflating: W/289_38W45177_968_3_0.65_S_94550.bmp  \n",
            "  inflating: W/28_29W27821_3058_3_0.61_W_94352.bmp  \n",
            "  inflating: W/290_89W45914_366_3_0.62_W_94409.bmp  \n",
            "  inflating: W/291_25W68368_4632_3_0.62_W_94410.bmp  \n",
            "  inflating: W/292_96W34577_5173_3_0.58_W_94060.bmp  \n",
            "  inflating: W/293_25W62821_859_3_0.57_W_94048.bmp  \n",
            "  inflating: W/294_89W45914_376_3_0.60_W_94326.bmp  \n",
            "  inflating: W/295_73W45568_1803_3_0.61_S_94364.bmp  \n",
            "  inflating: W/296_12W24455_4525_3_0.54_W_94156.bmp  \n",
            "  inflating: W/297_21W14877_2029_3_0.62_W_94395.bmp  \n",
            "  inflating: W/298_25W62821_929_3_0.57_W_94210.bmp  \n",
            "  inflating: W/299_25W62821_842_3_0.53_W_94007.bmp  \n",
            "  inflating: W/29_81W98144_464_3_0.57_W_94207.bmp  \n",
            "  inflating: W/2_77W59668_3778_3_0.60_W_94311.bmp  \n",
            "  inflating: W/300_18W81368_2187_3_0.60_W_94310.bmp  \n",
            "  inflating: W/30_25W62821_871_3_0.59_W_94068.bmp  \n",
            "  inflating: W/31_28W98421_4356_3_0.64_S_94108.bmp  \n",
            "  inflating: W/32_19W12825_3331_3_0.62_W_94414.bmp  \n",
            "  inflating: W/33_67W48888_8090_3_0.55_W_94182.bmp  \n",
            "  inflating: W/34_56W25344_3442_3_0.55_S_94177.bmp  \n",
            "  inflating: W/35_96W34577_5194_3_0.66_S_94594.bmp  \n",
            "  inflating: W/36_18W81368_2219_3_0.59_S_94279.bmp  \n",
            "  inflating: W/37_96W34577_5210_3_0.66_S_94598.bmp  \n",
            "  inflating: W/38_29W27821_3111_3_0.64_S_94489.bmp  \n",
            "  inflating: W/39_25W62821_874_3_0.58_W_94235.bmp  \n",
            "  inflating: W/3_21W23177_268_3_0.65_W_94567.bmp  \n",
            "  inflating: W/40_95W99766_3399_3_0.71_S_94671.bmp  \n",
            "  inflating: W/41_21W14877_2084_3_0.65_S_94533.bmp  \n",
            "  inflating: W/42_53W83233_2385_3_0.61_S_94099.bmp  \n",
            "  inflating: W/43_25W62821_756_3_0.52_W_94143.bmp  \n",
            "  inflating: W/44_25W62821_862_3_0.54_W_94011.bmp  \n",
            "  inflating: W/45_25W62821_878_3_0.59_W_94070.bmp  \n",
            "  inflating: W/46_25W62821_805_3_0.54_W_94010.bmp  \n",
            "  inflating: W/47_42W23219_2866_3_0.64_S_94466.bmp  \n",
            "  inflating: W/48_38W45177_947_3_0.61_S_94358.bmp  \n",
            "  inflating: W/49_18W81368_2192_3_0.61_W_94345.bmp  \n",
            "  inflating: W/4_25W62821_1026_3_0.48_W_93999.bmp  \n",
            "  inflating: W/50_52W76921_3436_3_0.71_W_94669.bmp  \n",
            "  inflating: W/51_21W23177_269_3_0.67_W_94611.bmp  \n",
            "  inflating: W/52_19W12825_3336_3_0.58_W_94254.bmp  \n",
            "  inflating: W/53_21W14877_2040_3_0.62_W_94396.bmp  \n",
            "  inflating: W/54_96W34577_5177_3_0.61_S_94365.bmp  \n",
            "  inflating: W/55_27W14868_3609_3_0.60_W_94325.bmp  \n",
            "  inflating: W/56_15W41877_437_3_0.58_W_94237.bmp  \n",
            "  inflating: W/57_25W62821_984_3_0.61_W_94096.bmp  \n",
            "  inflating: W/58_25W62821_1073_3_0.47_W_93998.bmp  \n",
            "  inflating: W/59_18W81368_2229_3_0.67_S_94609.bmp  \n",
            "  inflating: W/5_25W62821_959_3_0.51_W_94142.bmp  \n",
            "  inflating: W/60_25W62821_834_3_0.55_W_94023.bmp  \n",
            "  inflating: W/61_96W34577_5187_3_0.65_S_94560.bmp  \n",
            "  inflating: W/62_21W14877_2026_3_0.60_W_94323.bmp  \n",
            "  inflating: W/63_14W67768_3190_3_0.67_S_94622.bmp  \n",
            "  inflating: W/64_27W14868_3615_3_0.62_S_94405.bmp  \n",
            "  inflating: W/65_53W83233_2370_3_0.60_S_94087.bmp  \n",
            "  inflating: W/66_18W81368_2201_3_0.64_W_94106.bmp  \n",
            "  inflating: W/67_96W34577_5224_3_0.71_S_94670.bmp  \n",
            "  inflating: W/68_15W41877_417_3_0.65_W_94570.bmp  \n",
            "  inflating: W/69_12W24455_4505_3_0.65_W_94526.bmp  \n",
            "  inflating: W/6_38W45177_961_3_0.65_S_94511.bmp  \n",
            "  inflating: W/70_12W24455_4524_3_0.51_W_94140.bmp  \n",
            "  inflating: W/71_25W62821_848_3_0.55_W_94024.bmp  \n",
            "  inflating: W/72_25W62821_1070_3_0.49_W_94001.bmp  \n",
            "  inflating: W/73_14W67768_3204_3_0.69_W_94654.bmp  \n",
            "  inflating: W/74_14W67768_3199_3_0.69_W_94652.bmp  \n",
            "  inflating: W/75_25W62821_926_3_0.56_W_94041.bmp  \n",
            "  inflating: W/76_21W23177_273_3_0.66_W_94592.bmp  \n",
            "  inflating: W/77_25W62821_942_3_0.60_W_94321.bmp  \n",
            "  inflating: W/78_73W45568_1798_3_0.60_W_94328.bmp  \n",
            "  inflating: W/79_34W67168_5589_3_0.65_S_94573.bmp  \n",
            "  inflating: W/7_19W85288_3873_3_0.55_W_94187.bmp  \n",
            "  inflating: W/80_71W19419_964_3_0.58_W_94053.bmp  \n",
            "  inflating: W/81_12W24455_4520_3_0.65_W_94547.bmp  \n",
            "  inflating: W/82_21W14877_2071_3_0.65_S_94525.bmp  \n",
            "  inflating: W/83_14W67768_3179_3_0.64_S_94487.bmp  \n",
            "  inflating: W/84_52W76921_3434_3_0.69_W_94656.bmp  \n",
            "  inflating: W/85_18W81368_2240_3_0.66_S_94588.bmp  \n",
            "  inflating: W/86_96W34577_5206_3_0.68_S_94635.bmp  \n",
            "  inflating: W/87_25W62821_1012_3_0.52_W_94146.bmp  \n",
            "  inflating: W/88_28W98421_4379_3_0.63_W_94447.bmp  \n",
            "  inflating: W/89_25W62821_1020_3_0.50_W_94134.bmp  \n",
            "  inflating: W/8_27W14868_3619_3_0.65_S_94552.bmp  \n",
            "  inflating: W/90_38W45177_956_3_0.60_W_94086.bmp  \n",
            "  inflating: W/91_21W14877_2067_3_0.65_S_94520.bmp  \n",
            "  inflating: W/92_71W19419_973_3_0.59_W_94263.bmp  \n",
            "  inflating: W/93_67W48888_8071_3_0.59_W_94273.bmp  \n",
            "  inflating: W/94_42W82155_1332_3_0.56_W_94036.bmp  \n",
            "  inflating: W/95_25W62821_955_3_0.58_W_94241.bmp  \n",
            "  inflating: W/96_18W81368_2208_3_0.62_S_94102.bmp  \n",
            "  inflating: W/97_25W68368_4639_3_0.68_W_94629.bmp  \n",
            "  inflating: W/98_29W27821_3108_3_0.67_S_94616.bmp  \n",
            "  inflating: W/99_18W81368_2216_3_0.60_S_94083.bmp  \n",
            "  inflating: W/9_25W62821_767_3_0.58_W_94055.bmp  \n",
            "   creating: 2/\n",
            "  inflating: 2/100_13,96222_2616_8_0.82_2_18933 - Copy.bmp  \n",
            "  inflating: 2/101_12G62588_8603_5_0.89_2_15317.bmp  \n",
            "  inflating: 2/102_52I99268_9035_6_0.79_4_19363.bmp  \n",
            "  inflating: 2/103_95,91268_3223_6_0.73_2_15889.bmp  \n",
            "  inflating: 2/104_16F55829_179_7_0.78_2_17492.bmp  \n",
            "  inflating: 2/105_96I24468_101_4_0.89_2_19676.bmp  \n",
            "  inflating: 2/106_16,69921_1525_7_0.75_2_17387.bmp  \n",
            "  inflating: 2/107_98I42968_4770_5_0.85_4_15030.bmp  \n",
            "  inflating: 2/108_47,12768_365_5_0.80_2_14857.bmp  \n",
            "  inflating: 2/109_84N29788_3613_4_0.85_2_13889.bmp  \n",
            "  inflating: 2/10_12D24668_3452_4_0.90_2_14346.bmp  \n",
            "  inflating: 2/110_52F57433_2330_2_0.84_3_12775.bmp  \n",
            "  inflating: 2/111_12W24455_4498_2_0.94_2_13585.bmp  \n",
            "  inflating: 2/112_12D24668_3429_2_0.89_2_13045.bmp  \n",
            "  inflating: 2/113_94,22622_2477_7_0.75_2_17370.bmp  \n",
            "  inflating: 2/114_17K42622_4594_7_0.75_2_19313.bmp  \n",
            "  inflating: 2/115_83,32833_8656_5_0.87_2_15123.bmp  \n",
            "  inflating: 2/116_13,96222_2616_7_0.81_2_17962.bmp  \n",
            "  inflating: 2/117_86G42768_3342_5_0.90_2_19770.bmp  \n",
            "  inflating: 2/118_13,96222_2583_8_0.79_2_18828.bmp  \n",
            "  inflating: 2/119_17I32468_464_5_0.80_9_20035.bmp  \n",
            "  inflating: 2/11_11,95268_168_6_0.75_2_15896.bmp  \n",
            "  inflating: 2/120_96I24468_65_4_0.87_2_13979.bmp  \n",
            "  inflating: 2/121_17K42622_4594_5_0.79_3_14851.bmp  \n",
            "  inflating: 2/122_11U92733_1602_5_0.80_2_14873.bmp  \n",
            "  inflating: 2/123_12G62588_8544_5_0.87_2_15179.bmp  \n",
            "  inflating: 2/124_12G62588_8604_5_0.89_2_15266.bmp  \n",
            "  inflating: 2/125_11U92733_1599_5_0.80_3_14874.bmp  \n",
            "  inflating: 2/126_11R33428_3847_7_0.79_2_17651.bmp  \n",
            "  inflating: 2/127_17J47222_3767_6_0.85_2_19286.bmp  \n",
            "  inflating: 2/128_16,69921_1496_6_0.75_7_19784.bmp  \n",
            "  inflating: 2/129_12S74144_2311_2_0.92_2_13388.bmp  \n",
            "  inflating: 2/12_95,91268_3269_6_0.89_2_19837.bmp  \n",
            "  inflating: 2/130_18G17233_5397_6_0.77_3_15910.bmp  \n",
            "  inflating: 2/131_17J47222_3760_6_0.85_2_16089.bmp  \n",
            "  inflating: 2/132_15J52668_4193_5_0.85_2_14990.bmp  \n",
            "  inflating: 2/133_17J47222_3760_7_0.75_2_17402.bmp  \n",
            "  inflating: 2/134_12D24668_3408_2_0.88_2_12954.bmp  \n",
            "  inflating: 2/135_12S74144_2292_2_0.91_2_13240.bmp  \n",
            "  inflating: 2/136_12D24668_3447_2_0.89_2_13071.bmp  \n",
            "  inflating: 2/137_18G17233_5393_6_0.81_3_15946.bmp  \n",
            "  inflating: 2/138_11R33428_3914_7_0.65_7_17271.bmp  \n",
            "  inflating: 2/139_12S74144_2287_2_0.93_2_13452.bmp  \n",
            "  inflating: 2/13_86J32233_250_6_0.73_2_15884.bmp  \n",
            "  inflating: 2/140_86J32233_259_5_0.67_1_19688.bmp  \n",
            "  inflating: 2/141_15N22868_653_4_0.85_2_13882.bmp  \n",
            "  inflating: 2/142_57,74221_630_6_0.85_2_19817.bmp  \n",
            "  inflating: 2/143_12G62588_8610_5_0.88_2_15192.bmp  \n",
            "  inflating: 2/144_12G62588_8610_2_0.88_2_19591.bmp  \n",
            "  inflating: 2/145_15J52668_4198_5_0.85_2_14991.bmp  \n",
            "  inflating: 2/146_13,96222_2597_6_0.90_2_16564.bmp  \n",
            "  inflating: 2/147_14U29446_3300_4_0.86_2_13926.bmp  \n",
            "  inflating: 2/148_13,96222_2597_7_0.80_2_17777 - Copy.bmp  \n",
            "  inflating: 2/149_54R97288_10135_6_0.85_3_19285.bmp  \n",
            "  inflating: 2/14_85D29466_3169_4_0.84_2_19628.bmp  \n",
            "  inflating: 2/150_17N46278_12273_6_0.83_2_19796.bmp  \n",
            "  inflating: 2/151_16,69921_1506_7_0.75_2_17381.bmp  \n",
            "  inflating: 2/152_95X21468_3010_4_0.89_2_19672.bmp  \n",
            "  inflating: 2/153_96I24468_76_4_0.85_2_19644.bmp  \n",
            "  inflating: 2/154_16F55829_216_7_0.76_2_19896.bmp  \n",
            "  inflating: 2/155_54D59268_1792_6_0.80_2_15934.bmp  \n",
            "  inflating: 2/156_17J47222_3777_8_0.77_2_18790.bmp  \n",
            "  inflating: 2/157_95S32868_813_0_0.66_3_19103.bmp  \n",
            "  inflating: 2/158_46X29244_1513_4_0.76_4_19196.bmp  \n",
            "  inflating: 2/159_94,22622_2477_8_0.70_3_18715.bmp  \n",
            "  inflating: 2/15_84N29788_3617_4_0.82_2_13765.bmp  \n",
            "  inflating: 2/160_46X29244_1502_6_0.84_2_19283.bmp  \n",
            "  inflating: 2/161_17J47222_3767_7_0.76_2_17434.bmp  \n",
            "  inflating: 2/162_13,96222_2616_6_0.90_2_16574 - Copy.bmp  \n",
            "  inflating: 2/163_86J32233_265_6_0.65_4_19360.bmp  \n",
            "  inflating: 2/164_18K87268_1759_6_0.88_1_16247.bmp  \n",
            "  inflating: 2/165_12G62588_8619_5_0.85_2_15024.bmp  \n",
            "  inflating: 2/166_86J32233_265_5_0.68_1_19211.bmp  \n",
            "  inflating: 2/167_12S74144_2312_2_0.94_2_13555.bmp  \n",
            "  inflating: 2/168_12W24455_4501_2_0.89_2_13067.bmp  \n",
            "  inflating: 2/169_94R52268_1546_5_0.87_2_19759.bmp  \n",
            "  inflating: 2/16_18G17233_5394_6_0.86_2_19819.bmp  \n",
            "  inflating: 2/170_21,91321_12381_7_0.82_2_18028.bmp  \n",
            "  inflating: 2/171_57,74221_631_7_0.80_2_17773.bmp  \n",
            "  inflating: 2/172_12G62588_8627_5_0.87_2_15125.bmp  \n",
            "  inflating: 2/173_12W24455_4508_4_0.88_2_14120.bmp  \n",
            "  inflating: 2/174_85D29466_3171_4_0.90_2_14241.bmp  \n",
            "  inflating: 2/175_13,96222_2603_6_0.89_2_16411.bmp  \n",
            "  inflating: 2/176_52I99268_9029_6_0.85_2_16053.bmp  \n",
            "  inflating: 2/177_86J32233_271_5_0.68_1_19352.bmp  \n",
            "  inflating: 2/178_18,48921_3199_7_0.78_2_17504.bmp  \n",
            "  inflating: 2/179_96I24468_81_4_0.89_2_19675.bmp  \n",
            "  inflating: 2/17_93G32388_2921_5_0.92_2_15607.bmp  \n",
            "  inflating: 2/180_17K42622_4599_5_0.85_3_14996.bmp  \n",
            "  inflating: 2/181_94R52268_1552_5_0.89_2_15327.bmp  \n",
            "  inflating: 2/182_12D24668_3411_2_0.85_2_12812.bmp  \n",
            "  inflating: 2/183_57,74221_629_6_0.85_2_16032.bmp  \n",
            "  inflating: 2/184_47,12768_371_5_0.87_2_19754.bmp  \n",
            "  inflating: 2/185_12S74144_2269_2_0.90_2_13093.bmp  \n",
            "  inflating: 2/186_15I27768_4265_4_0.87_3_19210.bmp  \n",
            "  inflating: 2/187_17J47222_3753_7_0.72_2_17330.bmp  \n",
            "  inflating: 2/188_11,95268_147_6_0.78_2_15914.bmp  \n",
            "  inflating: 2/189_96I24468_85_4_0.90_2_19681.bmp  \n",
            "  inflating: 2/18_14U29446_3302_4_0.85_2_19642.bmp  \n",
            "  inflating: 2/190_12S74144_2276_2_0.90_2_13102.bmp  \n",
            "  inflating: 2/191_57,74221_630_7_0.79_2_17654.bmp  \n",
            "  inflating: 2/192_52I99268_9029_2_0.85_2_19576.bmp  \n",
            "  inflating: 2/193_12G62588_8597_2_0.90_2_13108.bmp  \n",
            "  inflating: 2/194_15U27778_6112_4_0.86_2_19651.bmp  \n",
            "  inflating: 2/195_21,91321_12387_1_0.85_3_11732.bmp  \n",
            "  inflating: 2/196_12G62588_8597_5_0.89_2_15280.bmp  \n",
            "  inflating: 2/197_17K42622_4597_8_0.76_2_18757.bmp  \n",
            "  inflating: 2/198_18G17233_5390_6_0.85_3_16054.bmp  \n",
            "  inflating: 2/199_12D24668_3408_4_0.87_2_13984.bmp  \n",
            "  inflating: 2/19_18,48921_3196_7_0.78_2_17495.bmp  \n",
            "  inflating: 2/1_95X21468_3017_4_0.89_2_14157.bmp  \n",
            "  inflating: 2/200_18K87268_1751_6_0.83_3_15977.bmp  \n",
            "  inflating: 2/201_54D59268_1785_6_0.88_2_16229.bmp  \n",
            "  inflating: 2/202_12S74144_2274_2_0.89_2_13026.bmp  \n",
            "  inflating: 2/203_13,96222_2585_6_0.92_2_16894.bmp  \n",
            "  inflating: 2/204_16F55829_188_7_0.76_2_17404.bmp  \n",
            "  inflating: 2/205_12W24455_4498_4_0.94_2_14757.bmp  \n",
            "  inflating: 2/206_16,69921_1503_7_0.75_2_19880.bmp  \n",
            "  inflating: 2/207_17N46278_12267_6_0.81_2_19793.bmp  \n",
            "  inflating: 2/208_54D59268_1799_6_0.81_2_15948.bmp  \n",
            "  inflating: 2/209_15N22868_661_4_0.87_2_13998.bmp  \n",
            "  inflating: 2/20_17K42622_4594_8_0.77_2_18772.bmp  \n",
            "  inflating: 2/210_98I42968_4746_5_0.76_4_19356.bmp  \n",
            "  inflating: 2/211_83,32833_8615_5_0.82_2_14893.bmp  \n",
            "  inflating: 2/212_54D59268_1806_6_0.82_2_15959.bmp  \n",
            "  inflating: 2/213_12S74144_2289_2_0.91_2_13225.bmp  \n",
            "  inflating: 2/214_12D24668_3447_4_0.90_2_14342.bmp  \n",
            "  inflating: 2/215_52F57433_2334_2_0.85_3_12800.bmp  \n",
            "  inflating: 2/216_12S74144_2307_2_0.92_2_13376.bmp  \n",
            "  inflating: 2/217_12D24668_3423_4_0.87_2_14000.bmp  \n",
            "  inflating: 2/218_17I32468_448_0_0.76_9_20029.bmp  \n",
            "  inflating: 2/219_12[89466_3645_2_0.92_2_13344.bmp  \n",
            "  inflating: 2/21_12D24668_3429_4_0.87_2_14017.bmp  \n",
            "  inflating: 2/220_15J52668_4189_5_0.83_2_14919.bmp  \n",
            "  inflating: 2/221_12G62588_8619_2_0.88_2_12952.bmp  \n",
            "  inflating: 2/222_14U29446_3292_4_0.86_2_13932.bmp  \n",
            "  inflating: 2/223_83,32833_8669_5_0.83_2_14922.bmp  \n",
            "  inflating: 2/224_16J29233_7802_4_0.87_2_13996.bmp  \n",
            "  inflating: 2/225_46X29244_1538_6_0.76_3_19271.bmp  \n",
            "  inflating: 2/226_86J32233_231_5_0.87_2_15154.bmp  \n",
            "  inflating: 2/227_94,22622_2481_5_0.87_2_15151.bmp  \n",
            "  inflating: 2/228_12S74144_2284_2_0.92_2_13343.bmp  \n",
            "  inflating: 2/229_54R97288_10139_6_0.90_2_16480.bmp  \n",
            "  inflating: 2/22_11U92733_1588_5_0.82_2_14917.bmp  \n",
            "  inflating: 2/230_21[71533_3907_1_0.87_3_11860.bmp  \n",
            "  inflating: 2/231_93G32388_2925_5_0.92_2_15618.bmp  \n",
            "  inflating: 2/232_12G62588_8644_5_0.84_2_19730.bmp  \n",
            "  inflating: 2/233_17I32468_454_0_0.79_9_20030.bmp  \n",
            "  inflating: 2/234_46X29244_1503_6_0.83_2_19277.bmp  \n",
            "  inflating: 2/235_57,74221_632_6_0.87_2_16179.bmp  \n",
            "  inflating: 2/236_11,95268_137_6_0.86_2_16105.bmp  \n",
            "  inflating: 2/237_52I99268_9035_2_0.86_2_19580.bmp  \n",
            "  inflating: 2/238_15J52668_4175_5_0.77_2_14832.bmp  \n",
            "  inflating: 2/239_96,92768_207_5_0.80_2_19232.bmp  \n",
            "  inflating: 2/23_12G62588_8604_2_0.88_2_12957.bmp  \n",
            "  inflating: 2/240_13,96222_2574_6_0.90_2_16515.bmp  \n",
            "  inflating: 2/241_12D24668_3411_4_0.84_2_19630.bmp  \n",
            "  inflating: 2/242_17N46278_12280_6_0.73_4_19362.bmp  \n",
            "  inflating: 2/243_11,95268_211_6_0.92_2_16863.bmp  \n",
            "  inflating: 2/244_17J47222_3755_8_0.72_2_18724.bmp  \n",
            "  inflating: 2/245_98I42968_4780_5_0.85_3_15051.bmp  \n",
            "  inflating: 2/246_12S74144_2303_2_0.93_2_13461.bmp  \n",
            "  inflating: 2/247_17J47222_3753_8_0.71_2_19998.bmp  \n",
            "  inflating: 2/248_11R33428_3904_7_0.79_2_17681.bmp  \n",
            "  inflating: 2/249_54D59268_1780_6_0.78_2_19786.bmp  \n",
            "  inflating: 2/24_17J47222_3760_8_0.75_2_18750.bmp  \n",
            "  inflating: 2/250_47,12768_382_5_0.88_2_15191.bmp  \n",
            "  inflating: 2/251_46X29244_1503_4_0.80_2_13738.bmp  \n",
            "  inflating: 2/252_95S32868_811_5_0.70_3_19212.bmp  \n",
            "  inflating: 2/253_12D24668_3433_2_0.90_2_13144.bmp  \n",
            "  inflating: 2/254_17J47222_3755_6_0.83_2_15983.bmp  \n",
            "  inflating: 2/255_47,12768_368_5_0.82_2_19714.bmp  \n",
            "  inflating: 2/256_11S79421_1138_7_0.71_3_17320.bmp  \n",
            "  inflating: 2/257_15N22868_632_4_0.81_2_19623.bmp  \n",
            "  inflating: 2/258_12W24455_4500_4_0.91_2_14474.bmp  \n",
            "  inflating: 2/259_12G62588_8634_0_0.86_2_19388.bmp  \n",
            "  inflating: 2/25_17N46278_12262_6_0.85_2_19808.bmp  \n",
            "  inflating: 2/260_16,69921_1534_7_0.76_2_17411.bmp  \n",
            "  inflating: 2/261_86G42768_3367_5_0.92_2_15576.bmp  \n",
            "  inflating: 2/262_93G32388_2874_5_0.87_2_19757.bmp  \n",
            "  inflating: 2/263_16F55829_172_7_0.78_2_19935.bmp  \n",
            "  inflating: 2/264_17J47222_3755_7_0.74_2_17355.bmp  \n",
            "  inflating: 2/265_12[89466_3697_2_0.89_2_13089.bmp  \n",
            "  inflating: 2/266_11,95268_240_6_0.92_2_16897.bmp  \n",
            "  inflating: 2/267_16F55829_196_7_0.81_2_19980.bmp  \n",
            "  inflating: 2/268_95,91268_3289_6_0.84_2_19801.bmp  \n",
            "  inflating: 2/269_12S74144_2295_2_0.93_2_13450.bmp  \n",
            "  inflating: 2/26_13,96222_2616_8_0.82_2_18933.bmp  \n",
            "  inflating: 2/270_16,69921_1488_7_0.75_2_17360.bmp  \n",
            "  inflating: 2/271_14U29446_3290_4_0.87_2_19658.bmp  \n",
            "  inflating: 2/272_15J52668_4182_5_0.81_2_19710.bmp  \n",
            "  inflating: 2/273_16F55829_193_7_0.78_2_19938.bmp  \n",
            "  inflating: 2/274_12R28268_5403_4_0.88_2_19671.bmp  \n",
            "  inflating: 2/275_95,91268_3215_6_0.83_2_15976.bmp  \n",
            "  inflating: 2/276_12D24668_3405_4_0.87_2_19654.bmp  \n",
            "  inflating: 2/277_86J32233_271_6_0.65_1_19359.bmp  \n",
            "  inflating: 2/278_12G62588_8577_5_0.92_2_15581.bmp  \n",
            "  inflating: 2/279_86J32233_259_6_0.69_4_19361.bmp  \n",
            "  inflating: 2/27_16F55829_203_7_0.79_2_17578.bmp  \n",
            "  inflating: 2/280_13,96222_2585_8_0.81_2_18899.bmp  \n",
            "  inflating: 2/281_12G62588_8577_2_0.88_2_12973.bmp  \n",
            "  inflating: 2/282_94R52268_1546_6_0.88_2_16298.bmp  \n",
            "  inflating: 2/283_46X29244_1538_4_0.73_2_19192.bmp  \n",
            "  inflating: 2/284_12G62588_8627_2_0.86_2_12838.bmp  \n",
            "  inflating: 2/285_15U27778_6127_4_0.87_2_19661.bmp  \n",
            "  inflating: 2/286_17I32468_438_5_0.75_9_20034.bmp  \n",
            "  inflating: 2/287_12W24455_4500_2_0.93_2_13503.bmp  \n",
            "  inflating: 2/288_57,74221_631_6_0.86_2_16124.bmp  \n",
            "  inflating: 2/289_96I24468_94_4_0.90_2_14259.bmp  \n",
            "  inflating: 2/28_13,28121_1766_4_0.83_2_13794.bmp  \n",
            "  inflating: 2/290_12W24455_4508_2_0.90_2_13160.bmp  \n",
            "  inflating: 2/291_15U27778_6083_4_0.89_2_14207.bmp  \n",
            "  inflating: 2/292_12G62588_8559_5_0.92_2_15616.bmp  \n",
            "  inflating: 2/293_12D24668_3439_2_0.92_2_13375.bmp  \n",
            "  inflating: 2/294_11S79421_1132_7_0.70_3_17307.bmp  \n",
            "  inflating: 2/295_12R28268_5347_0_0.79_2_11400.bmp  \n",
            "  inflating: 2/296_12G62588_8585_2_0.91_2_13221.bmp  \n",
            "  inflating: 2/297_15N22868_632_5_0.84_2_14958.bmp  \n",
            "  inflating: 2/298_11R33428_3852_7_0.75_7_17397.bmp  \n",
            "  inflating: 2/299_16,69921_1516_7_0.76_2_17410.bmp  \n",
            "  inflating: 2/29_18G17233_5395_6_0.82_3_15958.bmp  \n",
            "  inflating: 2/2_46X29244_1513_6_0.76_2_15906.bmp  \n",
            "  inflating: 2/300_14U29446_3285_4_0.90_2_14279.bmp  \n",
            "  inflating: 2/30_18,48921_3193_7_0.70_2_19854.bmp  \n",
            "  inflating: 2/31_12D24668_3452_2_0.90_2_13183.bmp  \n",
            "  inflating: 2/32_17J47222_3773_6_0.86_2_16144.bmp  \n",
            "  inflating: 2/33_54D59268_1775_6_0.79_2_19788.bmp  \n",
            "  inflating: 2/34_12D24668_3439_4_0.92_2_14561.bmp  \n",
            "  inflating: 2/35_17K42622_4599_7_0.77_2_17471.bmp  \n",
            "  inflating: 2/36_11,95268_178_6_0.78_2_15915.bmp  \n",
            "  inflating: 2/37_12G62588_8638_5_0.85_2_14986.bmp  \n",
            "  inflating: 2/38_12S74144_2302_2_0.93_2_13467.bmp  \n",
            "  inflating: 2/39_95[84268_1528_6_0.87_2_16157.bmp  \n",
            "  inflating: 2/3_16F55829_221_7_0.79_2_17583.bmp  \n",
            "  inflating: 2/40_17K42622_4599_8_0.77_2_18780.bmp  \n",
            "  inflating: 2/41_12G62588_8559_2_0.92_2_13380.bmp  \n",
            "  inflating: 2/42_18G17233_5391_6_0.86_2_16095.bmp  \n",
            "  inflating: 2/43_14U29446_3297_4_0.87_2_13982.bmp  \n",
            "  inflating: 2/44_15J52668_4183_5_0.77_2_19696.bmp  \n",
            "  inflating: 2/45_13,96222_2616_6_0.90_2_16574.bmp  \n",
            "  inflating: 2/46_11S79421_1158_7_0.69_3_17291.bmp  \n",
            "  inflating: 2/47_52I99268_9026_6_0.85_2_19284.bmp  \n",
            "  inflating: 2/48_47,12768_378_5_0.89_2_15283.bmp  \n",
            "  inflating: 2/49_86G42768_3347_5_0.90_2_15350.bmp  \n",
            "  inflating: 2/4_15N22868_640_4_0.77_2_19618.bmp  \n",
            "  inflating: 2/50_94R52268_1530_5_0.85_2_15049.bmp  \n",
            "  inflating: 2/51_12S74144_2306_2_0.91_2_13276.bmp  \n",
            "  inflating: 2/52_46X29244_1499_6_0.79_2_19272.bmp  \n",
            "  inflating: 2/53_57,74221_632_7_0.77_1_19930.bmp  \n",
            "  inflating: 2/54_17G13255_303_6_0.83_7_19799.bmp  \n",
            "  inflating: 2/55_96I24468_71_4_0.88_2_14058.bmp  \n",
            "  inflating: 2/56_94,22622_2481_4_0.89_2_14190.bmp  \n",
            "  inflating: 2/57_16F55829_227_7_0.80_2_17704.bmp  \n",
            "  inflating: 2/58_85D29466_3167_4_0.89_2_14153.bmp  \n",
            "  inflating: 2/59_18X83472_3034_8_0.75_2_20004.bmp  \n",
            "  inflating: 2/5_16J28133_2467_4_0.92_2_14518.bmp  \n",
            "  inflating: 2/60_86J32233_221_0_0.92_2_11467.bmp  \n",
            "  inflating: 2/61_94,22622_2481_8_0.75_2_18742.bmp  \n",
            "  inflating: 2/62_96,92768_197_5_0.79_2_19227.bmp  \n",
            "  inflating: 2/63_95,91268_3212_6_0.87_2_16206.bmp  \n",
            "  inflating: 2/64_93G32388_2859_5_0.85_2_19749.bmp  \n",
            "  inflating: 2/65_83,32833_8637_5_0.80_2_19230.bmp  \n",
            "  inflating: 2/66_13,28121_1760_4_0.81_2_13756.bmp  \n",
            "  inflating: 2/67_95,91268_3279_6_0.88_3_16227.bmp  \n",
            "  inflating: 2/68_12R28268_5379_2_0.89_3_13069.bmp  \n",
            "  inflating: 2/69_14U29446_3283_4_0.90_2_14297.bmp  \n",
            "  inflating: 2/6_86J32233_250_5_0.69_4_19353.bmp  \n",
            "  inflating: 2/70_46X29244_1502_4_0.80_3_13737.bmp  \n",
            "  inflating: 2/71_47,12768_375_5_0.84_2_19726.bmp  \n",
            "  inflating: 2/72_96I24468_98_4_0.89_2_19677.bmp  \n",
            "  inflating: 2/73_17K42622_4597_7_0.76_2_17418.bmp  \n",
            "  inflating: 2/74_85D29466_3174_4_0.85_2_13876.bmp  \n",
            "  inflating: 2/75_18,48921_3194_7_0.79_2_17579.bmp  \n",
            "  inflating: 2/76_12D24668_3423_2_0.91_2_13214.bmp  \n",
            "  inflating: 2/77_17K42622_4597_5_0.86_3_15085.bmp  \n",
            "  inflating: 2/78_96I24468_109_4_0.90_2_19683.bmp  \n",
            "  inflating: 2/79_17J47222_3776_8_0.76_2_18765.bmp  \n",
            "  inflating: 2/7_94,22622_2477_4_0.85_2_13843.bmp  \n",
            "  inflating: 2/80_15U27778_6118_4_0.89_2_19678.bmp  \n",
            "  inflating: 2/81_18G17233_5381_6_0.88_2_16248.bmp  \n",
            "  inflating: 2/82_11,95268_198_6_0.90_2_16569.bmp  \n",
            "  inflating: 2/83_96I24468_112_4_0.90_2_14269.bmp  \n",
            "  inflating: 2/84_13,96222_2587_6_0.90_2_16526.bmp  \n",
            "  inflating: 2/85_17J47222_3753_6_0.81_2_15954.bmp  \n",
            "  inflating: 2/86_15J52668_4188_5_0.83_2_19720.bmp  \n",
            "  inflating: 2/87_13,96222_2592_6_0.86_2_16119.bmp  \n",
            "  inflating: 2/88_21,91321_12395_7_0.82_2_18015.bmp  \n",
            "  inflating: 2/89_96I24468_105_4_0.91_2_14381.bmp  \n",
            "  inflating: 2/8_16F55829_211_7_0.79_2_17582.bmp  \n",
            "  inflating: 2/90_47,12768_391_5_0.90_2_15361.bmp  \n",
            "  inflating: 2/91_47,12768_386_5_0.91_2_15459.bmp  \n",
            "  inflating: 2/92_12D24668_3405_2_0.87_2_12893.bmp  \n",
            "  inflating: 2/93_11,95268_156_6_0.79_2_15923.bmp  \n",
            "  inflating: 2/94_86I23168_1267_4_0.75_3_19193.bmp  \n",
            "  inflating: 2/95_17J47222_3776_7_0.77_2_17491.bmp  \n",
            "  inflating: 2/96_15N22868_640_5_0.83_2_14921.bmp  \n",
            "  inflating: 2/97_11S79421_1164_0_0.72_3_11369.bmp  \n",
            "  inflating: 2/98_96I24468_90_4_0.89_2_14167.bmp  \n",
            "  inflating: 2/99_12S74144_2316_2_0.92_2_13398.bmp  \n",
            "  inflating: 2/9_11R33428_3883_7_0.82_2_18193.bmp  \n",
            "   creating: 3/\n",
            "  inflating: 3/100_13D76368_1840_6_0.87_3_22873.bmp  \n",
            "  inflating: 3/101_13S36268_4334_4_0.92_2_25751.bmp  \n",
            "  inflating: 3/102_13D76368_1854_2_0.87_3_20878.bmp  \n",
            "  inflating: 3/103_31N51268_12825_1_0.91_2_20539.bmp  \n",
            "  inflating: 3/104_13X44155_4136_2_0.90_3_21038.bmp  \n",
            "  inflating: 3/105_13D76368_1829_2_0.87_3_20854.bmp  \n",
            "  inflating: 3/106_69X93566_853_5_0.83_3_21946.bmp  \n",
            "  inflating: 3/107_17R39211_298_4_0.91_3_25680.bmp  \n",
            "  inflating: 3/108_33I66268_761_2_0.86_2_20787.bmp  \n",
            "  inflating: 3/109_11@75368_5064_6_0.86_3_26615.bmp  \n",
            "  inflating: 3/10_36G73868_3717_1_0.87_3_20350.bmp  \n",
            "  inflating: 3/110_13N65215_3991_2_0.91_3_21099.bmp  \n",
            "  inflating: 3/111_11U92733_1592_8_0.76_3_27514.bmp  \n",
            "  inflating: 3/112_11R93568_13968_5_0.85_3_22042.bmp  \n",
            "  inflating: 3/113_13S36268_4426_2_0.92_3_25170.bmp  \n",
            "  inflating: 3/114_11U92733_1598_8_0.73_3_23879.bmp  \n",
            "  inflating: 3/115_36G73868_3727_1_0.93_3_24772.bmp  \n",
            "  inflating: 3/116_69N83668_688_5_0.80_2_21882.bmp  \n",
            "  inflating: 3/117_11@75368_5050_5_0.81_3_25969.bmp  \n",
            "  inflating: 3/118_11@75368_5073_6_0.95_3_26861.bmp  \n",
            "  inflating: 3/119_34D87368_541_6_0.84_3_22697.bmp  \n",
            "  inflating: 3/11_13D21144_5958_2_0.88_3_25025.bmp  \n",
            "  inflating: 3/120_67X33711_15661_5_0.87_3_26096.bmp  \n",
            "  inflating: 3/121_11@75368_5075_6_0.80_3_26461.bmp  \n",
            "  inflating: 3/122_34U92411_248_1_0.87_3_20359.bmp  \n",
            "  inflating: 3/123_71,46321_10877_6_0.84_3_22670.bmp  \n",
            "  inflating: 3/124_52R34733_1768_7_0.80_3_23581.bmp  \n",
            "  inflating: 3/125_13N65215_3960_2_0.89_3_25073.bmp  \n",
            "  inflating: 3/126_66K53622_2778_5_0.88_3_22273.bmp  \n",
            "  inflating: 3/127_66S85233_11307_8_0.74_2_27430.bmp  \n",
            "  inflating: 3/128_11@75368_5072_6_0.93_3_26837.bmp  \n",
            "  inflating: 3/129_11R33428_3847_5_0.85_2_22078.bmp  \n",
            "  inflating: 3/12_11U92733_1614_7_0.70_3_26905.bmp  \n",
            "  inflating: 3/130_13,96222_2638_2_0.85_3_24953.bmp  \n",
            "  inflating: 3/131_34D87368_533_6_0.87_2_22885.bmp  \n",
            "  inflating: 3/132_13R93733_2680_5_0.88_3_26143.bmp  \n",
            "  inflating: 3/133_36R89368_8627_6_0.80_4_27830.bmp  \n",
            "  inflating: 3/134_53W83233_2393_7_0.81_2_23630.bmp  \n",
            "  inflating: 3/135_66K53622_2788_5_0.91_3_22501.bmp  \n",
            "  inflating: 3/136_13,96222_2583_2_0.89_2_21006.bmp  \n",
            "  inflating: 3/137_67,37321_9418_4_0.87_2_21484.bmp  \n",
            "  inflating: 3/138_13S36268_4398_2_0.95_3_25214.bmp  \n",
            "  inflating: 3/139_11@75368_5071_6_0.93_3_26834.bmp  \n",
            "  inflating: 3/13_13L97455_1434_2_0.82_3_20636.bmp  \n",
            "  inflating: 3/140_69N83668_691_5_0.86_3_22097.bmp  \n",
            "  inflating: 3/141_63R76368_11897_6_0.91_3_23054.bmp  \n",
            "  inflating: 3/142_13L97455_1436_2_0.84_3_20685.bmp  \n",
            "  inflating: 3/143_11D99368_3817_6_0.86_3_22828.bmp  \n",
            "  inflating: 3/144_11@75368_5074_6_0.93_3_26843.bmp  \n",
            "  inflating: 3/145_63R76368_11886_2_0.87_3_20841.bmp  \n",
            "  inflating: 3/146_36G73868_3720_5_0.90_3_22475.bmp  \n",
            "  inflating: 3/147_71,38921_1390_4_0.87_2_21520.bmp  \n",
            "  inflating: 3/148_13D76368_1836_2_0.86_3_20798.bmp  \n",
            "  inflating: 3/149_66S85233_11307_7_0.75_3_23324.bmp  \n",
            "  inflating: 3/14_13,96222_2616_2_0.88_3_20952.bmp  \n",
            "  inflating: 3/150_13,96222_2622_2_0.85_2_20756.bmp  \n",
            "  inflating: 3/151_13,28121_1756_2_0.68_2_20588.bmp  \n",
            "  inflating: 3/152_13,96222_2624_2_0.90_3_21063.bmp  \n",
            "  inflating: 3/153_11R33428_3852_5_0.85_2_26054.bmp  \n",
            "  inflating: 3/154_13D76368_1824_2_0.86_2_20786.bmp  \n",
            "  inflating: 3/155_36G73868_3724_1_0.90_3_20531.bmp  \n",
            "  inflating: 3/156_13,96222_2635_2_0.88_3_25035.bmp  \n",
            "  inflating: 3/157_13,96222_2561_2_0.86_3_20813.bmp  \n",
            "  inflating: 3/158_34D87368_537_6_0.89_3_22992.bmp  \n",
            "  inflating: 3/159_36G73868_3720_1_0.91_3_20558.bmp  \n",
            "  inflating: 3/15_34D87368_533_1_0.86_3_20295.bmp  \n",
            "  inflating: 3/160_32,28921_11675_1_0.90_2_20533.bmp  \n",
            "  inflating: 3/161_11R93568_13952_5_0.88_3_22253.bmp  \n",
            "  inflating: 3/162_11R93568_13936_5_0.91_3_22495.bmp  \n",
            "  inflating: 3/163_67X33711_15622_4_0.86_2_21427.bmp  \n",
            "  inflating: 3/164_13,96222_2599_2_0.87_3_20885.bmp  \n",
            "  inflating: 3/165_13,96222_2605_2_0.87_3_20880.bmp  \n",
            "  inflating: 3/166_71,46321_10836_6_0.92_2_26823.bmp  \n",
            "  inflating: 3/167_34U92411_258_1_0.86_3_20294.bmp  \n",
            "  inflating: 3/168_34D87368_544_6_0.88_3_22951.bmp  \n",
            "  inflating: 3/169_13L97455_1432_2_0.83_3_20655.bmp  \n",
            "  inflating: 3/16_11D99368_3807_6_0.86_3_22818.bmp  \n",
            "  inflating: 3/170_69N83668_680_5_0.86_3_22091.bmp  \n",
            "  inflating: 3/171_11R93568_13973_5_0.85_3_26045.bmp  \n",
            "  inflating: 3/172_13,96222_2570_2_0.91_2_21075.bmp  \n",
            "  inflating: 3/173_71,46321_10871_6_0.89_3_22965.bmp  \n",
            "  inflating: 3/174_34D87368_529_6_0.89_3_22991.bmp  \n",
            "  inflating: 3/175_66K53622_2795_5_0.90_3_22464.bmp  \n",
            "  inflating: 3/176_63G42966_3536_2_0.85_3_20715.bmp  \n",
            "  inflating: 3/177_66K53622_2804_5_0.91_3_22524.bmp  \n",
            "  inflating: 3/178_32,39921_324_4_0.84_2_21267.bmp  \n",
            "  inflating: 3/179_13D76368_1859_2_0.72_2_20591.bmp  \n",
            "  inflating: 3/17_14D23168_490_5_0.89_3_22377.bmp  \n",
            "  inflating: 3/180_13N65215_3923_2_0.95_3_25215.bmp  \n",
            "  inflating: 3/181_67J23268_1620_5_0.89_2_22347.bmp  \n",
            "  inflating: 3/182_66K53622_2798_5_0.88_3_22311.bmp  \n",
            "  inflating: 3/183_32,39921_306_4_0.85_2_21353.bmp  \n",
            "  inflating: 3/184_13N65215_3973_2_0.94_3_25204.bmp  \n",
            "  inflating: 3/185_67X33711_15633_4_0.89_3_25561.bmp  \n",
            "  inflating: 3/186_11D99368_3825_6_0.85_2_22774.bmp  \n",
            "  inflating: 3/187_11R93568_13962_5_0.88_3_22250.bmp  \n",
            "  inflating: 3/188_13,96222_2582_2_0.89_2_20970.bmp  \n",
            "  inflating: 3/189_31S26268_42_1_0.91_3_20550.bmp  \n",
            "  inflating: 3/18_52R34733_1774_7_0.79_3_23530.bmp  \n",
            "  inflating: 3/190_13S36268_4334_2_0.92_3_25155.bmp  \n",
            "  inflating: 3/191_71,38921_1376_4_0.86_3_21428.bmp  \n",
            "  inflating: 3/192_13N65215_3900_2_0.85_3_24960.bmp  \n",
            "  inflating: 3/193_67X33711_15633_5_0.89_3_22378.bmp  \n",
            "  inflating: 3/194_67X33711_15614_5_0.88_2_26119.bmp  \n",
            "  inflating: 3/195_13X44155_4149_2_0.84_2_20687.bmp  \n",
            "  inflating: 3/196_66S85233_11325_7_0.75_3_23300.bmp  \n",
            "  inflating: 3/197_67,37321_9418_6_0.88_2_22920.bmp  \n",
            "  inflating: 3/198_34U92411_249_1_0.90_2_20535.bmp  \n",
            "  inflating: 3/199_13S36268_4313_4_0.93_2_21831.bmp  \n",
            "  inflating: 3/19_13L97455_1433_2_0.81_3_20626.bmp  \n",
            "  inflating: 3/1_13D21144_5894_2_0.82_2_20631.bmp  \n",
            "  inflating: 3/200_23I99868_2283_2_0.86_3_20777.bmp  \n",
            "  inflating: 3/201_13,96222_2574_2_0.89_3_25053.bmp  \n",
            "  inflating: 3/202_71G23568_14832_5_0.87_3_22218.bmp  \n",
            "  inflating: 3/203_13L97455_1429_2_0.75_3_20596.bmp  \n",
            "  inflating: 3/204_67,37321_9408_4_0.87_2_21499.bmp  \n",
            "  inflating: 3/205_13L97455_1438_2_0.75_3_20594.bmp  \n",
            "  inflating: 3/206_11R93568_13917_5_0.91_3_22508.bmp  \n",
            "  inflating: 3/207_15X35868_2499_4_0.79_3_21180.bmp  \n",
            "  inflating: 3/208_69N83668_699_5_0.85_2_22052.bmp  \n",
            "  inflating: 3/209_33I17568_5635_2_0.89_3_25051.bmp  \n",
            "  inflating: 3/20_13,96222_2565_2_0.88_2_20911.bmp  \n",
            "  inflating: 3/210_31S26268_23_1_0.89_3_20450.bmp  \n",
            "  inflating: 3/211_13D76368_1848_2_0.87_2_20872.bmp  \n",
            "  inflating: 3/212_13X44155_4131_2_0.86_2_20794.bmp  \n",
            "  inflating: 3/213_53W83233_2399_7_0.79_2_23532.bmp  \n",
            "  inflating: 3/214_67X33711_15640_4_0.90_2_25613.bmp  \n",
            "  inflating: 3/215_11@75368_5059_6_0.85_3_26580.bmp  \n",
            "  inflating: 3/216_34U92411_288_1_0.84_2_20162.bmp  \n",
            "  inflating: 3/217_69N83668_667_5_0.82_3_21909.bmp  \n",
            "  inflating: 3/218_13,96222_2560_2_0.88_3_20908.bmp  \n",
            "  inflating: 3/219_71,46321_10861_6_0.88_2_22915.bmp  \n",
            "  inflating: 3/21_11U92733_1614_8_0.72_3_27397.bmp  \n",
            "  inflating: 3/220_11R93568_13945_5_0.89_3_22343.bmp  \n",
            "  inflating: 3/221_11U92733_1599_8_0.77_3_24061.bmp  \n",
            "  inflating: 3/222_13D21144_6051_2_0.85_3_24955.bmp  \n",
            "  inflating: 3/223_13,96222_2619_2_0.90_2_21056.bmp  \n",
            "  inflating: 3/224_32,28921_11684_1_0.75_3_24430.bmp  \n",
            "  inflating: 3/225_13R93733_2687_2_0.90_3_25117.bmp  \n",
            "  inflating: 3/226_23I99868_2280_2_0.85_3_20723.bmp  \n",
            "  inflating: 3/227_36R89368_8627_1_0.89_3_20473.bmp  \n",
            "  inflating: 3/228_67X33711_15614_4_0.87_2_21505.bmp  \n",
            "  inflating: 3/229_13N65215_3914_2_0.89_3_25085.bmp  \n",
            "  inflating: 3/22_66K53622_2801_5_0.91_3_22522.bmp  \n",
            "  inflating: 3/230_11@75368_5070_6_0.86_3_26623.bmp  \n",
            "  inflating: 3/231_13N65215_3904_2_0.89_3_25087.bmp  \n",
            "  inflating: 3/232_34U92411_252_1_0.88_3_20424.bmp  \n",
            "  inflating: 3/233_13N65215_3949_2_0.92_3_25162.bmp  \n",
            "  inflating: 3/234_13L97455_1443_2_0.72_3_24823.bmp  \n",
            "  inflating: 3/235_23D92678_2853_2_0.88_3_20890.bmp  \n",
            "  inflating: 3/236_32,39921_314_1_0.85_3_24499.bmp  \n",
            "  inflating: 3/237_71,38921_1363_4_0.85_2_21375.bmp  \n",
            "  inflating: 3/238_63R76368_11882_6_0.90_3_23028.bmp  \n",
            "  inflating: 3/239_17X35377_50_6_0.86_2_26610.bmp  \n",
            "  inflating: 3/23_36G73868_3716_5_0.89_3_22380.bmp  \n",
            "  inflating: 3/240_71,38921_1371_4_0.84_2_21281.bmp  \n",
            "  inflating: 3/241_11R93568_13979_5_0.85_3_26024.bmp  \n",
            "  inflating: 3/242_31S26268_48_1_0.92_3_20572.bmp  \n",
            "  inflating: 3/243_71,46321_10884_6_0.88_3_22909.bmp  \n",
            "  inflating: 3/244_13,96222_2603_2_0.88_3_20928.bmp  \n",
            "  inflating: 3/245_34D87368_541_1_0.86_2_20290.bmp  \n",
            "  inflating: 3/246_71,38921_1383_4_0.83_3_21253.bmp  \n",
            "  inflating: 3/247_13S36268_4325_4_0.93_2_25793.bmp  \n",
            "  inflating: 3/248_13,96222_2592_2_0.83_2_20653.bmp  \n",
            "  inflating: 3/249_13R93733_2706_2_0.89_2_25068.bmp  \n",
            "  inflating: 3/24_15X35868_2496_4_0.83_3_21254.bmp  \n",
            "  inflating: 3/250_31S26268_31_1_0.92_3_20569.bmp  \n",
            "  inflating: 3/251_13R93733_2680_8_0.83_3_27698.bmp  \n",
            "  inflating: 3/252_13D76368_1844_6_0.88_3_22934.bmp  \n",
            "  inflating: 3/253_71,38921_1397_4_0.87_3_21523.bmp  \n",
            "  inflating: 3/254_23I65577_2867_2_0.90_3_21048.bmp  \n",
            "  inflating: 3/255_17X35377_50_4_0.87_3_25488.bmp  \n",
            "  inflating: 3/256_67X33711_15640_5_0.89_2_22396.bmp  \n",
            "  inflating: 3/257_13,96222_2615_2_0.87_2_20871.bmp  \n",
            "  inflating: 3/258_32,39921_332_1_0.84_3_20169.bmp  \n",
            "  inflating: 3/259_11U92733_1594_7_0.69_3_26899.bmp  \n",
            "  inflating: 3/25_11U92733_1594_8_0.75_3_23940.bmp  \n",
            "  inflating: 3/260_13,96222_2632_2_0.85_3_24934.bmp  \n",
            "  inflating: 3/261_11@75368_5067_6_0.89_3_26726.bmp  \n",
            "  inflating: 3/262_13X44155_4112_2_0.85_3_20699.bmp  \n",
            "  inflating: 3/263_36G73868_3727_5_0.93_3_26317.bmp  \n",
            "  inflating: 3/264_17N44433_6103_8_0.84_3_27719.bmp  \n",
            "  inflating: 3/265_11R33428_3897_5_0.85_3_26064.bmp  \n",
            "  inflating: 3/266_11U92733_1606_7_0.71_3_23189.bmp  \n",
            "  inflating: 3/267_11R93568_13942_5_0.90_3_22433.bmp  \n",
            "  inflating: 3/268_13X44155_4176_2_0.91_3_21096.bmp  \n",
            "  inflating: 3/269_66K81368_1888_6_0.89_3_22977.bmp  \n",
            "  inflating: 3/26_36W65433_3104_7_0.80_3_23584.bmp  \n",
            "  inflating: 3/270_17X35377_61_4_0.90_3_25636.bmp  \n",
            "  inflating: 3/271_13,96222_2620_2_0.88_3_20956.bmp  \n",
            "  inflating: 3/272_31S26268_51_1_0.91_3_20557.bmp  \n",
            "  inflating: 3/273_36W65433_3094_8_0.80_3_24197.bmp  \n",
            "  inflating: 3/274_31N51268_12836_1_0.92_3_20567.bmp  \n",
            "  inflating: 3/275_34L98721_5094_1_0.86_2_20304.bmp  \n",
            "  inflating: 3/276_66K53622_2792_5_0.89_3_22393.bmp  \n",
            "  inflating: 3/277_13,28121_1769_2_0.67_4_27787.bmp  \n",
            "  inflating: 3/278_13X44155_4171_2_0.89_3_20995.bmp  \n",
            "  inflating: 3/279_13D21144_5884_2_0.86_3_20773.bmp  \n",
            "  inflating: 3/27_34D87368_545_1_0.86_3_20299.bmp  \n",
            "  inflating: 3/280_15X35868_2502_4_0.81_3_25286.bmp  \n",
            "  inflating: 3/281_67X33711_15622_5_0.87_2_26095.bmp  \n",
            "  inflating: 3/282_36W65433_3110_1_0.91_3_24726.bmp  \n",
            "  inflating: 3/283_13L97455_1440_2_0.79_3_24838.bmp  \n",
            "  inflating: 3/284_13S36268_4325_2_0.93_3_25173.bmp  \n",
            "  inflating: 3/285_61L81377_830_6_0.85_3_26546.bmp  \n",
            "  inflating: 3/286_65U37522_1165_4_0.87_3_21493.bmp  \n",
            "  inflating: 3/287_13,96222_2631_2_0.90_3_25098.bmp  \n",
            "  inflating: 3/288_11R93568_13932_5_0.91_3_22498.bmp  \n",
            "  inflating: 3/289_69X93566_808_5_0.85_3_22072.bmp  \n",
            "  inflating: 3/28_13R93733_2687_7_0.80_3_27132.bmp  \n",
            "  inflating: 3/290_69N83668_709_5_0.84_3_21969.bmp  \n",
            "  inflating: 3/291_14[38941_3152_4_0.93_3_25790.bmp  \n",
            "  inflating: 3/292_71G23568_14854_5_0.90_3_22445.bmp  \n",
            "  inflating: 3/293_17X35377_39_4_0.91_3_25672.bmp  \n",
            "  inflating: 3/294_32,28921_11682_1_0.88_2_20432.bmp  \n",
            "  inflating: 3/295_67,37321_9402_6_0.89_3_22998.bmp  \n",
            "  inflating: 3/296_34U92411_259_1_0.85_3_20215.bmp  \n",
            "  inflating: 3/297_63R76368_11886_6_0.91_3_23056.bmp  \n",
            "  inflating: 3/298_71,38921_1353_4_0.84_3_21274.bmp  \n",
            "  inflating: 3/299_13X44155_4184_2_0.88_2_25026.bmp  \n",
            "  inflating: 3/29_31S26268_40_1_0.91_3_20544.bmp  \n",
            "  inflating: 3/2_13X44155_4118_2_0.86_3_20788.bmp  \n",
            "  inflating: 3/300_66K53622_2790_5_0.88_3_22299.bmp  \n",
            "  inflating: 3/30_52R34733_1768_4_0.90_3_21734.bmp  \n",
            "  inflating: 3/31_11R33428_3852_4_0.85_3_25403.bmp  \n",
            "  inflating: 3/32_31S26268_45_1_0.92_3_20573.bmp  \n",
            "  inflating: 3/33_66S85233_11318_7_0.75_3_27008.bmp  \n",
            "  inflating: 3/34_13S36268_4300_2_0.91_3_21090.bmp  \n",
            "  inflating: 3/35_13,96222_2587_2_0.89_3_20975.bmp  \n",
            "  inflating: 3/36_32,39921_324_1_0.77_2_20081.bmp  \n",
            "  inflating: 3/37_13D21144_5874_2_0.80_2_24843.bmp  \n",
            "  inflating: 3/38_71,38921_1402_4_0.89_2_25572.bmp  \n",
            "  inflating: 3/39_14D23168_493_5_0.90_3_22473.bmp  \n",
            "  inflating: 3/3_31S26268_9_1_0.88_3_20390.bmp  \n",
            "  inflating: 3/40_13R93733_2680_2_0.90_3_25120.bmp  \n",
            "  inflating: 3/41_15X35868_2510_4_0.76_3_25243.bmp  \n",
            "  inflating: 3/42_13D21144_5984_2_0.89_3_25058.bmp  \n",
            "  inflating: 3/43_13R93733_2680_7_0.85_3_27294.bmp  \n",
            "  inflating: 3/44_13,96222_2627_2_0.90_3_25097.bmp  \n",
            "  inflating: 3/45_11R93568_13924_5_0.91_3_22500.bmp  \n",
            "  inflating: 3/46_61L81377_863_6_0.88_3_22928.bmp  \n",
            "  inflating: 3/47_36G73868_3724_5_0.88_2_22318.bmp  \n",
            "  inflating: 3/48_34U92411_255_1_0.87_3_20360.bmp  \n",
            "  inflating: 3/49_36W65433_3104_8_0.82_3_24293.bmp  \n",
            "  inflating: 3/4_11U92733_1619_7_0.69_3_26898.bmp  \n",
            "  inflating: 3/50_13D76368_1840_2_0.86_3_20804.bmp  \n",
            "  inflating: 3/51_13D21144_5902_2_0.88_2_20903.bmp  \n",
            "  inflating: 3/52_11U92733_1623_7_0.72_3_26929.bmp  \n",
            "  inflating: 3/53_52R34733_1776_7_0.80_3_23570.bmp  \n",
            "  inflating: 3/54_11U92733_1597_7_0.71_3_23197.bmp  \n",
            "  inflating: 3/55_34L98721_5099_1_0.85_3_24536.bmp  \n",
            "  inflating: 3/56_31S26268_28_1_0.91_3_20541.bmp  \n",
            "  inflating: 3/57_11R93568_13914_5_0.92_3_22543.bmp  \n",
            "  inflating: 3/58_31S26268_36_1_0.90_3_20504.bmp  \n",
            "  inflating: 3/59_65U37522_1166_4_0.87_3_21455.bmp  \n",
            "  inflating: 3/5_11R33428_3883_4_0.88_3_25539.bmp  \n",
            "  inflating: 3/60_66K53622_2781_5_0.88_3_22266.bmp  \n",
            "  inflating: 3/61_69N83668_702_5_0.89_2_22348.bmp  \n",
            "  inflating: 3/62_13S36268_4295_2_0.90_3_25090.bmp  \n",
            "  inflating: 3/63_13D76368_1829_6_0.86_3_22819.bmp  \n",
            "  inflating: 3/64_34D87368_537_1_0.88_2_20408.bmp  \n",
            "  inflating: 3/65_17X35377_35_4_0.90_2_21725.bmp  \n",
            "  inflating: 3/66_61L81377_809_6_0.84_3_26514.bmp  \n",
            "  inflating: 3/67_33I66268_745_1_0.84_3_24479.bmp  \n",
            "  inflating: 3/68_13,28121_1763_0_0.58_1_20044.bmp  \n",
            "  inflating: 3/69_65U37522_1163_4_0.87_3_21472.bmp  \n",
            "  inflating: 3/6_13N65215_3990_2_0.91_3_21106.bmp  \n",
            "  inflating: 3/70_13N65215_3975_2_0.93_3_25177.bmp  \n",
            "  inflating: 3/71_71,46321_10867_6_0.89_2_22968.bmp  \n",
            "  inflating: 3/72_13,96222_2597_2_0.85_3_20758.bmp  \n",
            "  inflating: 3/73_13L97455_1435_2_0.82_3_20634.bmp  \n",
            "  inflating: 3/74_13L97455_1426_2_0.83_3_24879.bmp  \n",
            "  inflating: 3/75_13L97455_1423_2_0.83_3_20661.bmp  \n",
            "  inflating: 3/76_13D76368_1844_2_0.87_3_24995.bmp  \n",
            "  inflating: 3/77_66K53622_2784_5_0.89_3_22352.bmp  \n",
            "  inflating: 3/78_11R93568_13987_5_0.85_3_22041.bmp  \n",
            "  inflating: 3/79_13S36268_4344_2_0.93_3_25181.bmp  \n",
            "  inflating: 3/7_17R39211_289_4_0.91_3_25675.bmp  \n",
            "  inflating: 3/80_31S26268_62_1_0.92_3_20577.bmp  \n",
            "  inflating: 3/81_13L97455_1437_2_0.84_3_24891.bmp  \n",
            "  inflating: 3/82_13D76368_1859_6_0.75_3_22590.bmp  \n",
            "  inflating: 3/83_31N51268_12813_1_0.91_2_20540.bmp  \n",
            "  inflating: 3/84_52R34733_1774_4_0.89_3_21667.bmp  \n",
            "  inflating: 3/85_69X93566_837_5_0.85_3_26033.bmp  \n",
            "  inflating: 3/86_13N65215_3984_2_0.92_3_25147.bmp  \n",
            "  inflating: 3/87_11R33428_3866_5_0.87_3_26099.bmp  \n",
            "  inflating: 3/88_11U92733_1592_7_0.73_3_23256.bmp  \n",
            "  inflating: 3/89_53W83233_2393_8_0.79_3_24163.bmp  \n",
            "  inflating: 3/8_11U92733_1623_8_0.74_3_27434.bmp  \n",
            "  inflating: 3/90_13,96222_2609_2_0.89_3_21002.bmp  \n",
            "  inflating: 3/91_11U92733_1597_8_0.74_3_27449.bmp  \n",
            "  inflating: 3/92_65U37522_1156_4_0.85_3_21316.bmp  \n",
            "  inflating: 3/93_11R33428_3847_4_0.85_2_21380.bmp  \n",
            "  inflating: 3/94_13X44155_4142_2_0.89_2_20969.bmp  \n",
            "  inflating: 3/95_61L81377_854_6_0.86_3_22824.bmp  \n",
            "  inflating: 3/96_32,39921_286_1_0.84_3_20163.bmp  \n",
            "  inflating: 3/97_31S26268_58_1_0.91_3_20561.bmp  \n",
            "  inflating: 3/98_23I99868_2275_2_0.80_3_20612.bmp  \n",
            "  inflating: 3/99_13D21144_5915_2_0.84_2_24893.bmp  \n",
            "  inflating: 3/9_31N51268_12854_1_0.89_3_20443.bmp  \n",
            "mv: cannot move '/content/persian_LPR/' to a subdirectory of itself, 'persian_LPR/persian_LPR'\n"
          ]
        }
      ]
    },
    {
      "cell_type": "code",
      "source": [
        "import cv2\n",
        "import matplotlib.pyplot as plt\n",
        "import numpy as np\n",
        "import glob\n",
        "from matplotlib import pyplot\n",
        "import xgboost\n",
        "\n",
        "%matplotlib inline"
      ],
      "metadata": {
        "id": "yUHcNtMNwrhA"
      },
      "execution_count": null,
      "outputs": []
    },
    {
      "cell_type": "code",
      "source": [
        "label_dict = {\n",
        "    \"S\"  :0,\n",
        "    \"2\"  :2,\n",
        "    \"3\"  :3,\n",
        "    \"7\"  :7,\n",
        "    \"W\"  :1\n",
        "}"
      ],
      "metadata": {
        "id": "lu1KaHWGyND8"
      },
      "execution_count": null,
      "outputs": []
    },
    {
      "cell_type": "code",
      "source": [
        "images = []\n",
        "labels = []\n",
        "pathes = glob.glob('/content/persian_LPR/*')\n",
        "\n",
        "for path in pathes:\n",
        "  datas = glob.glob( path + '/*.bmp')\n",
        "  for data in datas:\n",
        "      img = cv2.imread(data,cv2.IMREAD_GRAYSCALE)\n",
        "      width, height = 32,32\n",
        "      img = cv2.resize(img, (width, height),interpolation = cv2.INTER_AREA,)\n",
        "      images.append(img)\n",
        "      labels.append(label_dict[path[-1]])\n",
        "images = np.array(images)\n",
        "labels = np.array(labels)\n",
        "print(images.shape ,labels.shape)"
      ],
      "metadata": {
        "colab": {
          "base_uri": "https://localhost:8080/"
        },
        "id": "o_g6Stpjy_LU",
        "outputId": "7a14686b-5e89-4ae6-aed1-4b679763df74"
      },
      "execution_count": null,
      "outputs": [
        {
          "output_type": "stream",
          "name": "stdout",
          "text": [
            "(1500, 32, 32) (1500,)\n"
          ]
        }
      ]
    },
    {
      "cell_type": "code",
      "source": [
        "# plot first few images\n",
        "for i in range(8):\n",
        "\t# define subplot\n",
        "\tpyplot.subplot(340+1 + i)\n",
        "\t# plot raw pixel data\n",
        "\tpyplot.imshow(images[100*i])\n",
        "\tpyplot.title(labels[100*i])\n",
        "# show the figure\n",
        "pyplot.show()"
      ],
      "metadata": {
        "colab": {
          "base_uri": "https://localhost:8080/",
          "height": 205
        },
        "id": "m2xvmqKX2Gzr",
        "outputId": "bba9f94c-3ed8-448a-8ec8-2a028e57d05a"
      },
      "execution_count": null,
      "outputs": [
        {
          "output_type": "display_data",
          "data": {
            "text/plain": [
              "<Figure size 432x288 with 8 Axes>"
            ],
            "image/png": "[encoded data removed]"
          },
          "metadata": {
            "needs_background": "light"
          }
        }
      ]
    },
    {
      "cell_type": "code",
      "source": [
        "data_len = images.shape[0]\n",
        "data_size = images.shape[1]*images.shape[2]\n",
        "images = images.flatten().reshape(data_len,data_size)\n",
        "images.shape"
      ],
      "metadata": {
        "colab": {
          "base_uri": "https://localhost:8080/"
        },
        "id": "jfxSP8mD3cmq",
        "outputId": "206e0f46-0b3c-42b8-c12e-fc63fe70c335"
      },
      "execution_count": null,
      "outputs": [
        {
          "output_type": "execute_result",
          "data": {
            "text/plain": [
              "(1500, 1024)"
            ]
          },
          "metadata": {},
          "execution_count": 83
        }
      ]
    },
    {
      "cell_type": "code",
      "source": [
        "from sklearn.model_selection import train_test_split\n",
        "# make Train & validation set\n",
        "train_images, test_images, train_labels, test_labels = train_test_split(images, labels, stratify=labels,\n",
        "                                                                      random_state= 231,test_size=0.20)\n",
        "print(train_images.shape, test_images.shape, train_labels.shape, test_labels.shape)"
      ],
      "metadata": {
        "colab": {
          "base_uri": "https://localhost:8080/"
        },
        "id": "65OsqJin4BLX",
        "outputId": "9e15800d-9b1e-4ff0-cfea-9ef73b07d820"
      },
      "execution_count": null,
      "outputs": [
        {
          "output_type": "stream",
          "name": "stdout",
          "text": [
            "(1200, 1024) (300, 1024) (1200,) (300,)\n"
          ]
        }
      ]
    },
    {
      "cell_type": "code",
      "source": [
        "dtrain = xgboost.DMatrix(train_images, label=train_labels)\n",
        "dtest = xgboost.DMatrix(test_images, label=test_labels)\n",
        "\n",
        "param = {\n",
        "    'max_depth': 5,                 # the maximum depth of each tree\n",
        "    'eta': 0.3,                     # the training step for each iteration\n",
        "    'silent': 1,                    # logging mode - quiet\n",
        "    'objective': 'multi:softmax',   # multiclass classification using the softmax objective\n",
        "    'num_class': 10                 # the number of classes that exist in this datset\n",
        "}  \n",
        "num_round = 500  # the number of training iterations"
      ],
      "metadata": {
        "id": "XZowXGGJ4GOn"
      },
      "execution_count": null,
      "outputs": []
    },
    {
      "cell_type": "code",
      "source": [
        "bstmodel = xgboost.train(param, dtrain, num_round)\n",
        "\n",
        "#Save as human readable model\n",
        "bstmodel.dump_model('dump.raw.txt')"
      ],
      "metadata": {
        "id": "IrIeleer4ieB"
      },
      "execution_count": null,
      "outputs": []
    },
    {
      "cell_type": "code",
      "source": [
        "preds = bstmodel.predict(dtest)"
      ],
      "metadata": {
        "id": "0iEHWi-N4ieC"
      },
      "execution_count": null,
      "outputs": []
    },
    {
      "cell_type": "code",
      "source": [
        "preds.shape"
      ],
      "metadata": {
        "colab": {
          "base_uri": "https://localhost:8080/"
        },
        "outputId": "f0332ffd-b869-468d-d569-f9a10b4a0b53",
        "id": "uylSwinV4ieC"
      },
      "execution_count": null,
      "outputs": [
        {
          "output_type": "execute_result",
          "data": {
            "text/plain": [
              "(300,)"
            ]
          },
          "metadata": {},
          "execution_count": 88
        }
      ]
    },
    {
      "cell_type": "code",
      "source": [
        "preds"
      ],
      "metadata": {
        "colab": {
          "base_uri": "https://localhost:8080/"
        },
        "outputId": "c5068d87-34c6-40f2-a573-05cacfa3ab8d",
        "id": "nURNnDhJ4ieD"
      },
      "execution_count": null,
      "outputs": [
        {
          "output_type": "execute_result",
          "data": {
            "text/plain": [
              "array([2., 3., 2., 1., 3., 3., 1., 7., 7., 1., 2., 1., 0., 7., 3., 2., 0.,\n",
              "       0., 7., 3., 2., 3., 7., 3., 2., 3., 2., 1., 1., 3., 7., 0., 1., 1.,\n",
              "       7., 7., 0., 7., 1., 7., 0., 7., 2., 7., 2., 3., 2., 7., 7., 1., 3.,\n",
              "       3., 3., 3., 0., 0., 2., 0., 0., 7., 2., 3., 2., 7., 3., 1., 3., 7.,\n",
              "       3., 2., 7., 0., 0., 0., 0., 1., 7., 1., 1., 2., 0., 2., 3., 0., 2.,\n",
              "       7., 1., 2., 1., 1., 0., 0., 3., 0., 7., 7., 0., 0., 2., 0., 3., 0.,\n",
              "       0., 2., 2., 7., 7., 2., 1., 1., 2., 1., 7., 2., 3., 1., 1., 3., 2.,\n",
              "       3., 1., 1., 0., 3., 1., 0., 2., 3., 2., 0., 2., 0., 1., 0., 7., 1.,\n",
              "       1., 2., 2., 7., 1., 7., 0., 2., 1., 2., 1., 7., 2., 1., 1., 1., 1.,\n",
              "       3., 0., 2., 1., 0., 1., 0., 3., 1., 0., 3., 7., 2., 0., 0., 0., 7.,\n",
              "       7., 3., 3., 7., 0., 7., 0., 3., 1., 1., 1., 3., 7., 2., 1., 1., 1.,\n",
              "       0., 1., 2., 1., 2., 1., 7., 3., 3., 2., 0., 7., 1., 2., 2., 2., 2.,\n",
              "       3., 3., 1., 2., 3., 1., 1., 0., 0., 7., 7., 1., 3., 1., 3., 2., 1.,\n",
              "       2., 2., 1., 7., 7., 7., 7., 7., 7., 3., 0., 0., 2., 0., 7., 3., 3.,\n",
              "       2., 0., 0., 2., 2., 7., 0., 2., 7., 3., 1., 7., 2., 2., 1., 3., 3.,\n",
              "       1., 2., 1., 1., 7., 7., 7., 3., 3., 1., 3., 3., 3., 0., 0., 3., 0.,\n",
              "       3., 1., 7., 7., 2., 2., 7., 3., 2., 7., 7., 2., 1., 3., 0., 2., 0.,\n",
              "       1., 2., 7., 3., 3., 0., 3., 7., 1., 2., 7.], dtype=float32)"
            ]
          },
          "metadata": {},
          "execution_count": 89
        }
      ]
    },
    {
      "cell_type": "code",
      "source": [
        "from sklearn import metrics\n",
        "acc = metrics.accuracy_score(test_labels, preds)\n",
        "\n",
        "print('Accuracy: %f' % acc)"
      ],
      "metadata": {
        "colab": {
          "base_uri": "https://localhost:8080/"
        },
        "outputId": "a2ac58df-8d98-4184-e5a6-da16ef068a84",
        "id": "e16tWZxg4ieD"
      },
      "execution_count": null,
      "outputs": [
        {
          "output_type": "stream",
          "name": "stdout",
          "text": [
            "Accuracy: 0.950000\n"
          ]
        }
      ]
    },
    {
      "cell_type": "code",
      "source": [
        "from sklearn.metrics import classification_report\n",
        "from sklearn.metrics import confusion_matrix\n",
        "import seaborn\n",
        "\n",
        "report = classification_report(preds,test_labels)\n",
        "print(report)\n",
        "cmt = confusion_matrix(preds,test_labels)\n",
        "cmt = seaborn.heatmap(cmt,annot=True,fmt='',linewidth=.5,cmap=seaborn.cubehelix_palette(as_cmap=True))\n",
        "print(cmt)"
      ],
      "metadata": {
        "colab": {
          "base_uri": "https://localhost:8080/",
          "height": 491
        },
        "id": "DbdlUegM5hTf",
        "outputId": "42495c79-4807-4cc2-e784-8df6a858d24d"
      },
      "execution_count": null,
      "outputs": [
        {
          "output_type": "stream",
          "name": "stdout",
          "text": [
            "              precision    recall  f1-score   support\n",
            "\n",
            "         0.0       0.87      0.95      0.90        55\n",
            "         1.0       0.95      0.88      0.91        65\n",
            "         2.0       0.98      0.95      0.97        62\n",
            "         3.0       0.97      1.00      0.98        58\n",
            "         7.0       0.98      0.98      0.98        60\n",
            "\n",
            "    accuracy                           0.95       300\n",
            "   macro avg       0.95      0.95      0.95       300\n",
            "weighted avg       0.95      0.95      0.95       300\n",
            "\n",
            "AxesSubplot(0.125,0.125;0.62x0.755)\n"
          ]
        },
        {
          "output_type": "display_data",
          "data": {
            "text/plain": [
              "<Figure size 432x288 with 2 Axes>"
            ],
            "image/png": "[encoded data removed]"
          },
          "metadata": {
            "needs_background": "light"
          }
        }
      ]
    },
    {
      "cell_type": "code",
      "source": [
        "#Plotting tree does not work yet\n",
        "xgboost.plot_tree(bstmodel, num_trees=2)\n",
        "\n",
        "xgboost.plot_importance(bstmodel)"
      ],
      "metadata": {
        "colab": {
          "base_uri": "https://localhost:8080/",
          "height": 382
        },
        "outputId": "0e5a2eeb-efa8-4c7b-abcd-320fdd94e6c9",
        "id": "swvZc5A24ieE"
      },
      "execution_count": null,
      "outputs": [
        {
          "output_type": "execute_result",
          "data": {
            "text/plain": [
              "<matplotlib.axes._subplots.AxesSubplot at 0x7f56aede7be0>"
            ]
          },
          "metadata": {},
          "execution_count": 93
        },
        {
          "output_type": "display_data",
          "data": {
            "text/plain": [
              "<Figure size 432x288 with 1 Axes>"
            ],
            "image/png": "[encoded data removed]"
          },
          "metadata": {
            "needs_background": "light"
          }
        },
        {
          "output_type": "display_data",
          "data": {
            "text/plain": [
              "<Figure size 432x288 with 1 Axes>"
            ],
            "image/png": "[encoded data removed]"
          },
          "metadata": {
            "needs_background": "light"
          }
        }
      ]
    },
    {
      "cell_type": "markdown",
      "source": [
        "#Decition Tree Persian LPR "
      ],
      "metadata": {
        "id": "psIOa_mmgdPO"
      }
    },
    {
      "cell_type": "code",
      "source": [
        "from sklearn import tree\n",
        "clf = tree.DecisionTreeClassifier()\n",
        "clf = clf.fit(train_images, train_labels)"
      ],
      "metadata": {
        "id": "_xWTbwF4gt2X"
      },
      "execution_count": null,
      "outputs": []
    },
    {
      "cell_type": "code",
      "source": [
        "preds = clf.predict(test_images)"
      ],
      "metadata": {
        "id": "4ROXLnVnhleW"
      },
      "execution_count": null,
      "outputs": []
    },
    {
      "cell_type": "code",
      "source": [
        "from sklearn.metrics import classification_report\n",
        "from sklearn.metrics import confusion_matrix\n",
        "import seaborn\n",
        "\n",
        "report = classification_report(preds,test_labels)\n",
        "print(report)\n",
        "cmt = confusion_matrix(preds,test_labels)\n",
        "cmt = seaborn.heatmap(cmt,annot=True,fmt='',linewidth=.5,cmap=seaborn.cubehelix_palette(as_cmap=True))\n",
        "print(cmt)"
      ],
      "metadata": {
        "colab": {
          "base_uri": "https://localhost:8080/",
          "height": 491
        },
        "id": "4DUnz74-hKBn",
        "outputId": "68158bfe-fb98-4531-90da-75077e70def9"
      },
      "execution_count": null,
      "outputs": [
        {
          "output_type": "stream",
          "name": "stdout",
          "text": [
            "              precision    recall  f1-score   support\n",
            "\n",
            "           0       0.80      0.89      0.84        54\n",
            "           1       0.90      0.82      0.86        66\n",
            "           2       0.92      0.90      0.91        61\n",
            "           3       0.92      0.95      0.93        58\n",
            "           7       0.98      0.97      0.98        61\n",
            "\n",
            "    accuracy                           0.90       300\n",
            "   macro avg       0.90      0.90      0.90       300\n",
            "weighted avg       0.91      0.90      0.90       300\n",
            "\n",
            "AxesSubplot(0.125,0.125;0.62x0.755)\n"
          ]
        },
        {
          "output_type": "display_data",
          "data": {
            "text/plain": [
              "<Figure size 432x288 with 2 Axes>"
            ],
            "image/png": "[encoded data removed]"
          },
          "metadata": {
            "needs_background": "light"
          }
        }
      ]
    },
    {
      "cell_type": "markdown",
      "source": [
        "#Random forest  Persian LPR"
      ],
      "metadata": {
        "id": "9Dxm_sSthslu"
      }
    },
    {
      "cell_type": "code",
      "source": [
        "#Import Random Forest Model\n",
        "from sklearn.ensemble import RandomForestClassifier\n",
        "\n",
        "#Create a Gaussian Classifier\n",
        "clf=RandomForestClassifier(n_estimators=100)\n",
        "clf = clf.fit(train_images, train_labels)"
      ],
      "metadata": {
        "id": "YZsyFr9RiLo5"
      },
      "execution_count": null,
      "outputs": []
    },
    {
      "cell_type": "code",
      "source": [
        "preds = clf.predict(test_images)"
      ],
      "metadata": {
        "id": "AU2WyuBZiX7d"
      },
      "execution_count": null,
      "outputs": []
    },
    {
      "cell_type": "code",
      "source": [
        "from sklearn.metrics import classification_report\n",
        "from sklearn.metrics import confusion_matrix\n",
        "import seaborn\n",
        "\n",
        "report = classification_report(preds,test_labels)\n",
        "print(report)\n",
        "cmt = confusion_matrix(preds,test_labels)\n",
        "cmt = seaborn.heatmap(cmt,annot=True,fmt='',linewidth=.5,cmap=seaborn.cubehelix_palette(as_cmap=True))\n",
        "print(cmt)"
      ],
      "metadata": {
        "colab": {
          "base_uri": "https://localhost:8080/",
          "height": 495
        },
        "id": "eVUd1g_TiZu1",
        "outputId": "265d2221-e077-43c2-a823-5cf52ef833b0"
      },
      "execution_count": null,
      "outputs": [
        {
          "output_type": "stream",
          "name": "stdout",
          "text": [
            "              precision    recall  f1-score   support\n",
            "\n",
            "           0       0.87      0.96      0.91        54\n",
            "           1       0.97      0.88      0.92        66\n",
            "           2       0.97      0.97      0.97        60\n",
            "           3       0.97      0.98      0.97        59\n",
            "           7       1.00      0.98      0.99        61\n",
            "\n",
            "    accuracy                           0.95       300\n",
            "   macro avg       0.95      0.96      0.95       300\n",
            "weighted avg       0.96      0.95      0.95       300\n",
            "\n",
            "AxesSubplot(0.125,0.125;0.62x0.755)\n"
          ]
        },
        {
          "output_type": "display_data",
          "data": {
            "text/plain": [
              "<Figure size 432x288 with 2 Axes>"
            ],
            "image/png": "[encoded data removed]"
          },
          "metadata": {
            "needs_background": "light"
          }
        }
      ]
    },
    {
      "cell_type": "markdown",
      "source": [
        "#AdaBoost Persian LPR With"
      ],
      "metadata": {
        "id": "v6aitmypihYG"
      }
    },
    {
      "cell_type": "code",
      "source": [
        "from sklearn.ensemble import AdaBoostClassifier\n",
        "# Create adaboost classifer object\n",
        "clf = AdaBoostClassifier(n_estimators=50,\n",
        "                         learning_rate=1)\n",
        "# Train Adaboost Classifer\n",
        "clf = clf.fit(train_images, train_labels)"
      ],
      "metadata": {
        "id": "yeQDCkW8i1YF"
      },
      "execution_count": null,
      "outputs": []
    },
    {
      "cell_type": "code",
      "source": [
        "#Predict the response for test dataset\n",
        "pred = clf.predict(test_images)"
      ],
      "metadata": {
        "id": "D5JvYMH6jFcN"
      },
      "execution_count": null,
      "outputs": []
    },
    {
      "cell_type": "code",
      "source": [
        "from sklearn.metrics import classification_report\n",
        "from sklearn.metrics import confusion_matrix\n",
        "import seaborn\n",
        "\n",
        "report = classification_report(preds,test_labels)\n",
        "print(report)\n",
        "cmt = confusion_matrix(preds,test_labels)\n",
        "cmt = seaborn.heatmap(cmt,annot=True,fmt='',linewidth=.5,cmap=seaborn.cubehelix_palette(as_cmap=True))"
      ],
      "metadata": {
        "colab": {
          "base_uri": "https://localhost:8080/",
          "height": 477
        },
        "id": "wuBbYIVHjID2",
        "outputId": "ede31911-566e-44d6-8626-6fe7b0b15cb9"
      },
      "execution_count": null,
      "outputs": [
        {
          "output_type": "stream",
          "name": "stdout",
          "text": [
            "              precision    recall  f1-score   support\n",
            "\n",
            "           0       0.87      0.96      0.91        54\n",
            "           1       0.97      0.88      0.92        66\n",
            "           2       0.97      0.97      0.97        60\n",
            "           3       0.97      0.98      0.97        59\n",
            "           7       1.00      0.98      0.99        61\n",
            "\n",
            "    accuracy                           0.95       300\n",
            "   macro avg       0.95      0.96      0.95       300\n",
            "weighted avg       0.96      0.95      0.95       300\n",
            "\n"
          ]
        },
        {
          "output_type": "display_data",
          "data": {
            "text/plain": [
              "<Figure size 432x288 with 2 Axes>"
            ],
            "image/png": "[encoded data removed]"
          },
          "metadata": {
            "needs_background": "light"
          }
        }
      ]
    },
    {
      "cell_type": "markdown",
      "source": [
        "#Titanic3 Dataset XGBoost"
      ],
      "metadata": {
        "id": "B8OwDqOY6Ego"
      }
    },
    {
      "cell_type": "code",
      "source": [
        "import numpy as np\n",
        "import pandas as pd\n",
        "import matplotlib\n",
        "import matplotlib.pyplot as plt\n",
        "\n",
        "from xgboost import XGBClassifier\n",
        "from sklearn import preprocessing\n",
        "from sklearn.metrics import accuracy_score, confusion_matrix ,classification_report\n",
        "import seaborn as sns\n",
        "from sklearn.model_selection import train_test_split"
      ],
      "metadata": {
        "id": "-C6Wh4QS1g2n"
      },
      "execution_count": null,
      "outputs": []
    },
    {
      "cell_type": "code",
      "source": [
        "data = pd.read_excel(\"titanic3.xls\")\n",
        "data.head(10)"
      ],
      "metadata": {
        "colab": {
          "base_uri": "https://localhost:8080/"
        },
        "id": "2WRFjAgAlOcE",
        "outputId": "7fef8274-2cdc-4cd9-9262-7e26b29879ba"
      },
      "execution_count": null,
      "outputs": [
        {
          "output_type": "execute_result",
          "data": {
            "text/plain": [
              "   pclass  survived                                             name     sex  \\\n",
              "0       1         1                    Allen, Miss. Elisabeth Walton  female   \n",
              "1       1         1                   Allison, Master. Hudson Trevor    male   \n",
              "2       1         0                     Allison, Miss. Helen Loraine  female   \n",
              "3       1         0             Allison, Mr. Hudson Joshua Creighton    male   \n",
              "4       1         0  Allison, Mrs. Hudson J C (Bessie Waldo Daniels)  female   \n",
              "5       1         1                              Anderson, Mr. Harry    male   \n",
              "6       1         1                Andrews, Miss. Kornelia Theodosia  female   \n",
              "7       1         0                           Andrews, Mr. Thomas Jr    male   \n",
              "8       1         1    Appleton, Mrs. Edward Dale (Charlotte Lamson)  female   \n",
              "9       1         0                          Artagaveytia, Mr. Ramon    male   \n",
              "\n",
              "       age  sibsp  parch    ticket      fare    cabin embarked boat   body  \\\n",
              "0  29.0000      0      0     24160  211.3375       B5        S    2    NaN   \n",
              "1   0.9167      1      2    113781  151.5500  C22 C26        S   11    NaN   \n",
              "2   2.0000      1      2    113781  151.5500  C22 C26        S  NaN    NaN   \n",
              "3  30.0000      1      2    113781  151.5500  C22 C26        S  NaN  135.0   \n",
              "4  25.0000      1      2    113781  151.5500  C22 C26        S  NaN    NaN   \n",
              "5  48.0000      0      0     19952   26.5500      E12        S    3    NaN   \n",
              "6  63.0000      1      0     13502   77.9583       D7        S   10    NaN   \n",
              "7  39.0000      0      0    112050    0.0000      A36        S  NaN    NaN   \n",
              "8  53.0000      2      0     11769   51.4792     C101        S    D    NaN   \n",
              "9  71.0000      0      0  PC 17609   49.5042      NaN        C  NaN   22.0   \n",
              "\n",
              "                         home.dest  \n",
              "0                     St Louis, MO  \n",
              "1  Montreal, PQ / Chesterville, ON  \n",
              "2  Montreal, PQ / Chesterville, ON  \n",
              "3  Montreal, PQ / Chesterville, ON  \n",
              "4  Montreal, PQ / Chesterville, ON  \n",
              "5                     New York, NY  \n",
              "6                       Hudson, NY  \n",
              "7                      Belfast, NI  \n",
              "8              Bayside, Queens, NY  \n",
              "9              Montevideo, Uruguay  "
            ],
            "text/html": [
              "\n",
              "  <div id=\"df-c1c687a3-ee09-4ef4-a39a-18795f9b54e3\">\n",
              "    <div class=\"colab-df-container\">\n",
              "      <div>\n",
              "<style scoped>\n",
              "    .dataframe tbody tr th:only-of-type {\n",
              "        vertical-align: middle;\n",
              "    }\n",
              "\n",
              "    .dataframe tbody tr th {\n",
              "        vertical-align: top;\n",
              "    }\n",
              "\n",
              "    .dataframe thead th {\n",
              "        text-align: right;\n",
              "    }\n",
              "</style>\n",
              "<table border=\"1\" class=\"dataframe\">\n",
              "  <thead>\n",
              "    <tr style=\"text-align: right;\">\n",
              "      <th></th>\n",
              "      <th>pclass</th>\n",
              "      <th>survived</th>\n",
              "      <th>name</th>\n",
              "      <th>sex</th>\n",
              "      <th>age</th>\n",
              "      <th>sibsp</th>\n",
              "      <th>parch</th>\n",
              "      <th>ticket</th>\n",
              "      <th>fare</th>\n",
              "      <th>cabin</th>\n",
              "      <th>embarked</th>\n",
              "      <th>boat</th>\n",
              "      <th>body</th>\n",
              "      <th>home.dest</th>\n",
              "    </tr>\n",
              "  </thead>\n",
              "  <tbody>\n",
              "    <tr>\n",
              "      <th>0</th>\n",
              "      <td>1</td>\n",
              "      <td>1</td>\n",
              "      <td>Allen, Miss. Elisabeth Walton</td>\n",
              "      <td>female</td>\n",
              "      <td>29.0000</td>\n",
              "      <td>0</td>\n",
              "      <td>0</td>\n",
              "      <td>24160</td>\n",
              "      <td>211.3375</td>\n",
              "      <td>B5</td>\n",
              "      <td>S</td>\n",
              "      <td>2</td>\n",
              "      <td>NaN</td>\n",
              "      <td>St Louis, MO</td>\n",
              "    </tr>\n",
              "    <tr>\n",
              "      <th>1</th>\n",
              "      <td>1</td>\n",
              "      <td>1</td>\n",
              "      <td>Allison, Master. Hudson Trevor</td>\n",
              "      <td>male</td>\n",
              "      <td>0.9167</td>\n",
              "      <td>1</td>\n",
              "      <td>2</td>\n",
              "      <td>113781</td>\n",
              "      <td>151.5500</td>\n",
              "      <td>C22 C26</td>\n",
              "      <td>S</td>\n",
              "      <td>11</td>\n",
              "      <td>NaN</td>\n",
              "      <td>Montreal, PQ / Chesterville, ON</td>\n",
              "    </tr>\n",
              "    <tr>\n",
              "      <th>2</th>\n",
              "      <td>1</td>\n",
              "      <td>0</td>\n",
              "      <td>Allison, Miss. Helen Loraine</td>\n",
              "      <td>female</td>\n",
              "      <td>2.0000</td>\n",
              "      <td>1</td>\n",
              "      <td>2</td>\n",
              "      <td>113781</td>\n",
              "      <td>151.5500</td>\n",
              "      <td>C22 C26</td>\n",
              "      <td>S</td>\n",
              "      <td>NaN</td>\n",
              "      <td>NaN</td>\n",
              "      <td>Montreal, PQ / Chesterville, ON</td>\n",
              "    </tr>\n",
              "    <tr>\n",
              "      <th>3</th>\n",
              "      <td>1</td>\n",
              "      <td>0</td>\n",
              "      <td>Allison, Mr. Hudson Joshua Creighton</td>\n",
              "      <td>male</td>\n",
              "      <td>30.0000</td>\n",
              "      <td>1</td>\n",
              "      <td>2</td>\n",
              "      <td>113781</td>\n",
              "      <td>151.5500</td>\n",
              "      <td>C22 C26</td>\n",
              "      <td>S</td>\n",
              "      <td>NaN</td>\n",
              "      <td>135.0</td>\n",
              "      <td>Montreal, PQ / Chesterville, ON</td>\n",
              "    </tr>\n",
              "    <tr>\n",
              "      <th>4</th>\n",
              "      <td>1</td>\n",
              "      <td>0</td>\n",
              "      <td>Allison, Mrs. Hudson J C (Bessie Waldo Daniels)</td>\n",
              "      <td>female</td>\n",
              "      <td>25.0000</td>\n",
              "      <td>1</td>\n",
              "      <td>2</td>\n",
              "      <td>113781</td>\n",
              "      <td>151.5500</td>\n",
              "      <td>C22 C26</td>\n",
              "      <td>S</td>\n",
              "      <td>NaN</td>\n",
              "      <td>NaN</td>\n",
              "      <td>Montreal, PQ / Chesterville, ON</td>\n",
              "    </tr>\n",
              "    <tr>\n",
              "      <th>5</th>\n",
              "      <td>1</td>\n",
              "      <td>1</td>\n",
              "      <td>Anderson, Mr. Harry</td>\n",
              "      <td>male</td>\n",
              "      <td>48.0000</td>\n",
              "      <td>0</td>\n",
              "      <td>0</td>\n",
              "      <td>19952</td>\n",
              "      <td>26.5500</td>\n",
              "      <td>E12</td>\n",
              "      <td>S</td>\n",
              "      <td>3</td>\n",
              "      <td>NaN</td>\n",
              "      <td>New York, NY</td>\n",
              "    </tr>\n",
              "    <tr>\n",
              "      <th>6</th>\n",
              "      <td>1</td>\n",
              "      <td>1</td>\n",
              "      <td>Andrews, Miss. Kornelia Theodosia</td>\n",
              "      <td>female</td>\n",
              "      <td>63.0000</td>\n",
              "      <td>1</td>\n",
              "      <td>0</td>\n",
              "      <td>13502</td>\n",
              "      <td>77.9583</td>\n",
              "      <td>D7</td>\n",
              "      <td>S</td>\n",
              "      <td>10</td>\n",
              "      <td>NaN</td>\n",
              "      <td>Hudson, NY</td>\n",
              "    </tr>\n",
              "    <tr>\n",
              "      <th>7</th>\n",
              "      <td>1</td>\n",
              "      <td>0</td>\n",
              "      <td>Andrews, Mr. Thomas Jr</td>\n",
              "      <td>male</td>\n",
              "      <td>39.0000</td>\n",
              "      <td>0</td>\n",
              "      <td>0</td>\n",
              "      <td>112050</td>\n",
              "      <td>0.0000</td>\n",
              "      <td>A36</td>\n",
              "      <td>S</td>\n",
              "      <td>NaN</td>\n",
              "      <td>NaN</td>\n",
              "      <td>Belfast, NI</td>\n",
              "    </tr>\n",
              "    <tr>\n",
              "      <th>8</th>\n",
              "      <td>1</td>\n",
              "      <td>1</td>\n",
              "      <td>Appleton, Mrs. Edward Dale (Charlotte Lamson)</td>\n",
              "      <td>female</td>\n",
              "      <td>53.0000</td>\n",
              "      <td>2</td>\n",
              "      <td>0</td>\n",
              "      <td>11769</td>\n",
              "      <td>51.4792</td>\n",
              "      <td>C101</td>\n",
              "      <td>S</td>\n",
              "      <td>D</td>\n",
              "      <td>NaN</td>\n",
              "      <td>Bayside, Queens, NY</td>\n",
              "    </tr>\n",
              "    <tr>\n",
              "      <th>9</th>\n",
              "      <td>1</td>\n",
              "      <td>0</td>\n",
              "      <td>Artagaveytia, Mr. Ramon</td>\n",
              "      <td>male</td>\n",
              "      <td>71.0000</td>\n",
              "      <td>0</td>\n",
              "      <td>0</td>\n",
              "      <td>PC 17609</td>\n",
              "      <td>49.5042</td>\n",
              "      <td>NaN</td>\n",
              "      <td>C</td>\n",
              "      <td>NaN</td>\n",
              "      <td>22.0</td>\n",
              "      <td>Montevideo, Uruguay</td>\n",
              "    </tr>\n",
              "  </tbody>\n",
              "</table>\n",
              "</div>\n",
              "      <button class=\"colab-df-convert\" onclick=\"convertToInteractive('df-c1c687a3-ee09-4ef4-a39a-18795f9b54e3')\"\n",
              "              title=\"Convert this dataframe to an interactive table.\"\n",
              "              style=\"display:none;\">\n",
              "        \n",
              "  <svg xmlns=\"http://www.w3.org/2000/svg\" height=\"24px\"viewBox=\"0 0 24 24\"\n",
              "       width=\"24px\">\n",
              "    <path d=\"M0 0h24v24H0V0z\" fill=\"none\"/>\n",
              "    <path d=\"M18.56 5.44l.94 2.06.94-2.06 2.06-.94-2.06-.94-.94-2.06-.94 2.06-2.06.94zm-11 1L8.5 8.5l.94-2.06 2.06-.94-2.06-.94L8.5 2.5l-.94 2.06-2.06.94zm10 10l.94 2.06.94-2.06 2.06-.94-2.06-.94-.94-2.06-.94 2.06-2.06.94z\"/><path d=\"M17.41 7.96l-1.37-1.37c-.4-.4-.92-.59-1.43-.59-.52 0-1.04.2-1.43.59L10.3 9.45l-7.72 7.72c-.78.78-.78 2.05 0 2.83L4 21.41c.39.39.9.59 1.41.59.51 0 1.02-.2 1.41-.59l7.78-7.78 2.81-2.81c.8-.78.8-2.07 0-2.86zM5.41 20L4 18.59l7.72-7.72 1.47 1.35L5.41 20z\"/>\n",
              "  </svg>\n",
              "      </button>\n",
              "      \n",
              "  <style>\n",
              "    .colab-df-container {\n",
              "      display:flex;\n",
              "      flex-wrap:wrap;\n",
              "      gap: 12px;\n",
              "    }\n",
              "\n",
              "    .colab-df-convert {\n",
              "      background-color: #E8F0FE;\n",
              "      border: none;\n",
              "      border-radius: 50%;\n",
              "      cursor: pointer;\n",
              "      display: none;\n",
              "      fill: #1967D2;\n",
              "      height: 32px;\n",
              "      padding: 0 0 0 0;\n",
              "      width: 32px;\n",
              "    }\n",
              "\n",
              "    .colab-df-convert:hover {\n",
              "      background-color: #E2EBFA;\n",
              "      box-shadow: 0px 1px 2px rgba(60, 64, 67, 0.3), 0px 1px 3px 1px rgba(60, 64, 67, 0.15);\n",
              "      fill: #174EA6;\n",
              "    }\n",
              "\n",
              "    [theme=dark] .colab-df-convert {\n",
              "      background-color: #3B4455;\n",
              "      fill: #D2E3FC;\n",
              "    }\n",
              "\n",
              "    [theme=dark] .colab-df-convert:hover {\n",
              "      background-color: #434B5C;\n",
              "      box-shadow: 0px 1px 3px 1px rgba(0, 0, 0, 0.15);\n",
              "      filter: drop-shadow(0px 1px 2px rgba(0, 0, 0, 0.3));\n",
              "      fill: #FFFFFF;\n",
              "    }\n",
              "  </style>\n",
              "\n",
              "      <script>\n",
              "        const buttonEl =\n",
              "          document.querySelector('#df-c1c687a3-ee09-4ef4-a39a-18795f9b54e3 button.colab-df-convert');\n",
              "        buttonEl.style.display =\n",
              "          google.colab.kernel.accessAllowed ? 'block' : 'none';\n",
              "\n",
              "        async function convertToInteractive(key) {\n",
              "          const element = document.querySelector('#df-c1c687a3-ee09-4ef4-a39a-18795f9b54e3');\n",
              "          const dataTable =\n",
              "            await google.colab.kernel.invokeFunction('convertToInteractive',\n",
              "                                                     [key], {});\n",
              "          if (!dataTable) return;\n",
              "\n",
              "          const docLinkHtml = 'Like what you see? Visit the ' +\n",
              "            '<a target=\"_blank\" href=https://colab.research.google.com/notebooks/data_table.ipynb>data table notebook</a>'\n",
              "            + ' to learn more about interactive tables.';\n",
              "          element.innerHTML = '';\n",
              "          dataTable['output_type'] = 'display_data';\n",
              "          await google.colab.output.renderOutput(dataTable, element);\n",
              "          const docLink = document.createElement('div');\n",
              "          docLink.innerHTML = docLinkHtml;\n",
              "          element.appendChild(docLink);\n",
              "        }\n",
              "      </script>\n",
              "    </div>\n",
              "  </div>\n",
              "  "
            ]
          },
          "metadata": {},
          "execution_count": 8
        }
      ]
    },
    {
      "cell_type": "markdown",
      "source": [
        "Pre process dataset"
      ],
      "metadata": {
        "id": "ympRAYCP15Oa"
      }
    },
    {
      "cell_type": "code",
      "source": [
        "X_full = data.drop('survived', axis = 1)"
      ],
      "metadata": {
        "id": "7kHJ17S4111B"
      },
      "execution_count": null,
      "outputs": []
    },
    {
      "cell_type": "code",
      "source": [
        "X_full.isnull().sum()"
      ],
      "metadata": {
        "colab": {
          "base_uri": "https://localhost:8080/"
        },
        "id": "hyCCMYr32GjY",
        "outputId": "fd618879-fc41-43b0-d7dd-93b7bb8cfe08"
      },
      "execution_count": null,
      "outputs": [
        {
          "output_type": "execute_result",
          "data": {
            "text/plain": [
              "pclass          0\n",
              "name            0\n",
              "sex             0\n",
              "age           263\n",
              "sibsp           0\n",
              "parch           0\n",
              "ticket          0\n",
              "fare            1\n",
              "cabin        1014\n",
              "embarked        2\n",
              "boat          823\n",
              "body         1188\n",
              "home.dest     564\n",
              "dtype: int64"
            ]
          },
          "metadata": {},
          "execution_count": 33
        }
      ]
    },
    {
      "cell_type": "code",
      "source": [
        "selector = (data.cabin.isnull() & data.age.isnull() & data.body.isnull())\n",
        "data[selector].survived.mean()"
      ],
      "metadata": {
        "colab": {
          "base_uri": "https://localhost:8080/"
        },
        "id": "oIDoY6s82TRb",
        "outputId": "143b4bff-a6ee-4038-dd74-df2081b549af"
      },
      "execution_count": null,
      "outputs": [
        {
          "output_type": "execute_result",
          "data": {
            "text/plain": [
              "0.2594142259414226"
            ]
          },
          "metadata": {},
          "execution_count": 34
        }
      ]
    },
    {
      "cell_type": "code",
      "source": [
        "X_full['nulls'] = X_full.cabin.isnull().astype('int') + X_full.age.isnull().astype('int') + X_full.body.isnull().astype('int')"
      ],
      "metadata": {
        "id": "aLYBq6An2hHt"
      },
      "execution_count": null,
      "outputs": []
    },
    {
      "cell_type": "code",
      "source": [
        "X_full['cabin_mapped'] = X_full['cabin'].astype(str).str[0] # this captures the letter"
      ],
      "metadata": {
        "id": "DWuhUnSx2kT7"
      },
      "execution_count": null,
      "outputs": []
    },
    {
      "cell_type": "code",
      "source": [
        "cabin_dict = {k:i for i, k in enumerate(X_full.cabin_mapped.unique())} \n",
        "X_full.loc[:, 'cabin_mapped'] = X_full.loc[:, 'cabin_mapped'].map(cabin_dict)"
      ],
      "metadata": {
        "id": "JtePSejC2oCb"
      },
      "execution_count": null,
      "outputs": []
    },
    {
      "cell_type": "code",
      "source": [
        "X_full.drop(['age', 'cabin','body','boat', 'home.dest','name','ticket'], inplace = True, axis = 1)"
      ],
      "metadata": {
        "id": "F3WEIkl-2r1H"
      },
      "execution_count": null,
      "outputs": []
    },
    {
      "cell_type": "code",
      "source": [
        "X_full.isnull().sum()"
      ],
      "metadata": {
        "colab": {
          "base_uri": "https://localhost:8080/"
        },
        "id": "fXKsTWnQ2ypT",
        "outputId": "15528da1-9ba8-47ca-b0dd-8ad8001a0b4a"
      },
      "execution_count": null,
      "outputs": [
        {
          "output_type": "execute_result",
          "data": {
            "text/plain": [
              "pclass          0\n",
              "sex             0\n",
              "sibsp           0\n",
              "parch           0\n",
              "fare            1\n",
              "embarked        2\n",
              "nulls           0\n",
              "cabin_mapped    0\n",
              "dtype: int64"
            ]
          },
          "metadata": {},
          "execution_count": 39
        }
      ]
    },
    {
      "cell_type": "code",
      "source": [
        "fare_mean = X_full[X_full.pclass == 3].fare.mean()\n",
        "X_full['fare'].fillna(fare_mean, inplace = True)\n",
        "X_full[X_full.embarked.isnull()]\n",
        "X_full[X_full['pclass'] == 1].embarked.value_counts()\n",
        "X_full['embarked'].fillna('S', inplace = True)\n",
        "\n",
        "X_full.isnull().sum()\n"
      ],
      "metadata": {
        "colab": {
          "base_uri": "https://localhost:8080/"
        },
        "id": "uN6OBdxf20NN",
        "outputId": "ab02fd2e-3d35-40e5-80c2-0652bcc7c70a"
      },
      "execution_count": null,
      "outputs": [
        {
          "output_type": "execute_result",
          "data": {
            "text/plain": [
              "pclass          0\n",
              "sex             0\n",
              "sibsp           0\n",
              "parch           0\n",
              "fare            0\n",
              "embarked        0\n",
              "nulls           0\n",
              "cabin_mapped    0\n",
              "dtype: int64"
            ]
          },
          "metadata": {},
          "execution_count": 40
        }
      ]
    },
    {
      "cell_type": "markdown",
      "source": [
        "convert type to bin"
      ],
      "metadata": {
        "id": "RfHVH2ro3ptY"
      }
    },
    {
      "cell_type": "code",
      "source": [
        "X_dummies = pd.get_dummies(X_full, columns = ['sex', 'nulls', 'cabin_mapped', 'embarked',],\\\n",
        "                           drop_first= True)\n",
        "X_dummies.dtypes"
      ],
      "metadata": {
        "colab": {
          "base_uri": "https://localhost:8080/"
        },
        "id": "S3DAh2-B3tS8",
        "outputId": "cd3400a3-9559-4c23-ba6e-05350cfcef9e"
      },
      "execution_count": null,
      "outputs": [
        {
          "output_type": "execute_result",
          "data": {
            "text/plain": [
              "pclass              int64\n",
              "sibsp               int64\n",
              "parch               int64\n",
              "fare              float64\n",
              "sex_male            uint8\n",
              "nulls_1             uint8\n",
              "nulls_2             uint8\n",
              "nulls_3             uint8\n",
              "cabin_mapped_1      uint8\n",
              "cabin_mapped_2      uint8\n",
              "cabin_mapped_3      uint8\n",
              "cabin_mapped_4      uint8\n",
              "cabin_mapped_5      uint8\n",
              "cabin_mapped_6      uint8\n",
              "cabin_mapped_7      uint8\n",
              "cabin_mapped_8      uint8\n",
              "embarked_Q          uint8\n",
              "embarked_S          uint8\n",
              "dtype: object"
            ]
          },
          "metadata": {},
          "execution_count": 41
        }
      ]
    },
    {
      "cell_type": "markdown",
      "source": [
        "Train and valid"
      ],
      "metadata": {
        "id": "owlOg2AF33gr"
      }
    },
    {
      "cell_type": "code",
      "source": [
        "X = X_dummies\n",
        "Y = data.survived\n",
        "x_train, x_test, y_train, y_test = train_test_split(X, Y, stratify=Y,test_size=0.10)"
      ],
      "metadata": {
        "id": "Yae0vR3k3x3a"
      },
      "execution_count": null,
      "outputs": []
    },
    {
      "cell_type": "code",
      "source": [
        "unique, counts = np.unique(y_train, return_counts=True)"
      ],
      "metadata": {
        "id": "e5sa6UJR36mN"
      },
      "execution_count": null,
      "outputs": []
    },
    {
      "cell_type": "markdown",
      "source": [
        "model and fitting"
      ],
      "metadata": {
        "id": "Yrg-vhc74B-Z"
      }
    },
    {
      "cell_type": "code",
      "source": [
        "model = XGBClassifier()\n",
        "model.fit(x_train, y_train)\n"
      ],
      "metadata": {
        "colab": {
          "base_uri": "https://localhost:8080/"
        },
        "id": "NcX30U493-sj",
        "outputId": "eda258f5-2ff6-49e3-c8be-655d6dbaae84"
      },
      "execution_count": null,
      "outputs": [
        {
          "output_type": "execute_result",
          "data": {
            "text/plain": [
              "XGBClassifier()"
            ]
          },
          "metadata": {},
          "execution_count": 74
        }
      ]
    },
    {
      "cell_type": "code",
      "source": [
        "pred = model.predict(x_test)"
      ],
      "metadata": {
        "id": "MWnjk8ZL4sjL"
      },
      "execution_count": null,
      "outputs": []
    },
    {
      "cell_type": "code",
      "source": [
        "from sklearn.metrics import classification_report\n",
        "from sklearn.metrics import confusion_matrix\n",
        "import seaborn\n",
        "\n",
        "report = classification_report(y_test, pred)\n",
        "print(report)\n",
        "cmt = confusion_matrix(y_test, pred)\n",
        "cmt = seaborn.heatmap(cmt,annot=True,fmt='',linewidth=.5,cmap=seaborn.cubehelix_palette(as_cmap=True))\n",
        "print(cmt)"
      ],
      "metadata": {
        "colab": {
          "base_uri": "https://localhost:8080/"
        },
        "outputId": "c3e69da3-cfa0-41ab-ad39-129a90403415",
        "id": "5RmWR0Ks45N4"
      },
      "execution_count": null,
      "outputs": [
        {
          "output_type": "stream",
          "name": "stdout",
          "text": [
            "              precision    recall  f1-score   support\n",
            "\n",
            "           0       0.84      0.94      0.88        81\n",
            "           1       0.88      0.70      0.78        50\n",
            "\n",
            "    accuracy                           0.85       131\n",
            "   macro avg       0.86      0.82      0.83       131\n",
            "weighted avg       0.85      0.85      0.84       131\n",
            "\n",
            "AxesSubplot(0.125,0.125;0.62x0.755)\n"
          ]
        },
        {
          "output_type": "display_data",
          "data": {
            "text/plain": [
              "<Figure size 432x288 with 2 Axes>"
            ],
            "image/png": "[encoded data removed]"
          },
          "metadata": {
            "needs_background": "light"
          }
        }
      ]
    }
  ]
}