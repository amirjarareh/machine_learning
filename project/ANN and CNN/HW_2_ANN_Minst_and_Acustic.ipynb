{
  "nbformat": 4,
  "nbformat_minor": 0,
  "metadata": {
    "colab": {
      "provenance": []
    },
    "kernelspec": {
      "name": "python3",
      "display_name": "Python 3"
    },
    "language_info": {
      "name": "python"
    },
    "gpuClass": "standard",
    "accelerator": "GPU"
  },
  "cells": [
    {
      "cell_type": "markdown",
      "source": [
        "import necessary libraries and datasets from [amirjarareh](https://github.com/amirjarareh/cnn_example) github"
      ],
      "metadata": {
        "id": "UYAAGP5e1AYZ"
      }
    },
    {
      "cell_type": "code",
      "execution_count": null,
      "metadata": {
        "id": "BNX_r2iCJQ6b"
      },
      "outputs": [],
      "source": [
        "#pytorch utility imports\n",
        "import torch\n",
        "import torchvision\n",
        "import torchvision.transforms as transforms\n",
        "from torch.utils.data import DataLoader, TensorDataset\n",
        "from torchvision.utils import make_grid\n",
        "\n",
        "#neural net imports\n",
        "import torch.nn as nn\n",
        "import torch.nn.functional as F\n",
        "import torch.optim as optim\n",
        "from torch.autograd import Variable\n",
        "from sklearn import preprocessing"
      ]
    },
    {
      "cell_type": "code",
      "source": [
        "#import external libraries\n",
        "import pandas as pd\n",
        "import numpy as np\n",
        "import matplotlib.pyplot as plt\n",
        "from sklearn.model_selection import train_test_split\n",
        "import os\n",
        "import math\n",
        "%matplotlib inline"
      ],
      "metadata": {
        "id": "ssJfvCjeI96Y"
      },
      "execution_count": null,
      "outputs": []
    },
    {
      "cell_type": "code",
      "source": [
        "if torch.cuda.is_available():\n",
        "    device = torch.device('cuda')\n",
        "else:\n",
        "    device = torch.device('cpu')"
      ],
      "metadata": {
        "id": "NtD6AESQJD55"
      },
      "execution_count": null,
      "outputs": []
    },
    {
      "cell_type": "code",
      "source": [
        "%cd /content/\n",
        "%rm -rf *\n",
        "!git clone https://github.com/amirjarareh/cnn_example\n",
        "\n",
        "%mv /content/cnn_example/* /content/\n",
        "%rm -rf /content/cnn_example/\n",
        "!unzip mnist_train.csv.zip\n",
        "!unzip mnist_test.csv.zip\n",
        "%rm /content/*.zip"
      ],
      "metadata": {
        "colab": {
          "base_uri": "https://localhost:8080/"
        },
        "id": "lwzQ3uHPJXex",
        "outputId": "90751b69-fff4-4b1a-cf18-53880eaa4e17"
      },
      "execution_count": null,
      "outputs": [
        {
          "output_type": "stream",
          "name": "stdout",
          "text": [
            "/content\n",
            "Cloning into 'cnn_example'...\n",
            "remote: Enumerating objects: 7, done.\u001b[K\n",
            "remote: Counting objects: 100% (7/7), done.\u001b[K\n",
            "remote: Compressing objects: 100% (7/7), done.\u001b[K\n",
            "remote: Total 7 (delta 0), reused 4 (delta 0), pack-reused 0\u001b[K\n",
            "Unpacking objects: 100% (7/7), done.\n",
            "Archive:  mnist_train.csv.zip\n",
            "  inflating: mnist_train.csv         \n",
            "Archive:  mnist_test.csv.zip\n",
            "  inflating: mnist_test.csv          \n"
          ]
        }
      ]
    },
    {
      "cell_type": "markdown",
      "source": [
        "# Mnist ANN"
      ],
      "metadata": {
        "id": "H5gEROazjRqT"
      }
    },
    {
      "cell_type": "markdown",
      "source": [
        "Mnist Dataset"
      ],
      "metadata": {
        "id": "mfoWUBXoquwm"
      }
    },
    {
      "cell_type": "code",
      "source": [
        "input_folder_path = \"/content/\"\n",
        "train_df = pd.read_csv(input_folder_path+\"mnist_train.csv\")\n",
        "test_df = pd.read_csv(input_folder_path+\"mnist_test.csv\")"
      ],
      "metadata": {
        "id": "7u7xNwvjMg5R"
      },
      "execution_count": null,
      "outputs": []
    },
    {
      "cell_type": "code",
      "source": [
        "train_labels = train_df['label'].values\n",
        "train_images = (train_df.iloc[:,1:].values).astype('float32')\n",
        "test_labels =  test_df['label'].values\n",
        "test_images =  (test_df.iloc[:,1:].values).astype('float32')"
      ],
      "metadata": {
        "id": "TTjcME-8TZ4R"
      },
      "execution_count": null,
      "outputs": []
    },
    {
      "cell_type": "code",
      "source": [
        "#Training and Validation Split\n",
        "train_images, val_images, train_labels, val_labels = train_test_split(train_images, train_labels,\n",
        "                                                                     stratify=train_labels, random_state=123,\n",
        "                                                                     test_size=0.20)"
      ],
      "metadata": {
        "id": "O1SMmw0mNp9K"
      },
      "execution_count": null,
      "outputs": []
    },
    {
      "cell_type": "code",
      "source": [
        "train_images = train_images.reshape(train_images.shape[0], 28, 28)\n",
        "val_images = val_images.reshape(val_images.shape[0], 28, 28)\n",
        "test_images = test_images.reshape(test_images.shape[0], 28, 28)"
      ],
      "metadata": {
        "id": "BJ43WhCUNzga"
      },
      "execution_count": null,
      "outputs": []
    },
    {
      "cell_type": "code",
      "source": [
        "print(train_images.shape,val_images.shape,test_images.shape)"
      ],
      "metadata": {
        "colab": {
          "base_uri": "https://localhost:8080/"
        },
        "id": "59aXuKt4XOi4",
        "outputId": "0fb12b73-667d-485a-dbe9-335abd764115"
      },
      "execution_count": null,
      "outputs": [
        {
          "output_type": "stream",
          "name": "stdout",
          "text": [
            "(48000, 28, 28) (12000, 28, 28) (10000, 28, 28)\n"
          ]
        }
      ]
    },
    {
      "cell_type": "code",
      "source": [
        "#train samples\n",
        "for i in range(6, 9):\n",
        "    plt.subplot(330 + (i+1))\n",
        "    plt.imshow(train_images[i].squeeze(), cmap=plt.get_cmap('gray'))\n",
        "    plt.title(train_labels[i])"
      ],
      "metadata": {
        "colab": {
          "base_uri": "https://localhost:8080/",
          "height": 96
        },
        "id": "WCaya4MDN4lH",
        "outputId": "30d4ad40-ca47-4828-f3df-c613d4eb1d95"
      },
      "execution_count": null,
      "outputs": [
        {
          "output_type": "display_data",
          "data": {
            "text/plain": [
              "<Figure size 720x144 with 3 Axes>"
            ],
            "image/png": "[encoded data removed]"
          },
          "metadata": {
            "needs_background": "light"
          }
        }
      ]
    },
    {
      "cell_type": "code",
      "source": [
        "#test samples\n",
        "for i in range(6, 9):\n",
        "    plt.subplot(330 + (i+1))\n",
        "    plt.imshow(test_images[i].squeeze(), cmap=plt.get_cmap('gray'))"
      ],
      "metadata": {
        "colab": {
          "base_uri": "https://localhost:8080/",
          "height": 83
        },
        "id": "HU8YnFL_N99v",
        "outputId": "3c9d70f5-fe9d-4835-b3c0-37bcc20319cb"
      },
      "execution_count": null,
      "outputs": [
        {
          "output_type": "display_data",
          "data": {
            "text/plain": [
              "<Figure size 720x144 with 3 Axes>"
            ],
            "image/png": "[encoded data removed]"
          },
          "metadata": {
            "needs_background": "light"
          }
        }
      ]
    },
    {
      "cell_type": "code",
      "source": [
        "#train\n",
        "train_images_tensor = torch.tensor(train_images)/255.0\n",
        "train_labels_tensor = torch.tensor(train_labels)\n",
        "train_tensor = TensorDataset(train_images_tensor, train_labels_tensor)\n",
        "\n",
        "#val\n",
        "val_images_tensor = torch.tensor(val_images)/255.0\n",
        "val_labels_tensor = torch.tensor(val_labels)\n",
        "val_tensor = TensorDataset(val_images_tensor, val_labels_tensor)\n",
        "\n",
        "#test\n",
        "test_images_tensor = torch.tensor(test_images)/255.0"
      ],
      "metadata": {
        "id": "NJPFW7SqODCP"
      },
      "execution_count": null,
      "outputs": []
    },
    {
      "cell_type": "code",
      "source": [
        "train_loader = DataLoader(train_tensor, batch_size=16, num_workers=2, shuffle=True)\n",
        "val_loader =   DataLoader(val_tensor, batch_size=16, num_workers=2, shuffle=True)\n",
        "test_loader =  DataLoader(test_images_tensor, batch_size=16, num_workers=2, shuffle=False)"
      ],
      "metadata": {
        "id": "iavTTzMoOOAC"
      },
      "execution_count": null,
      "outputs": []
    },
    {
      "cell_type": "code",
      "source": [
        "for batch_idx, (data, target) in enumerate(train_loader):\n",
        "    img_grid = make_grid(data[0:8,].unsqueeze(1), nrow=8)\n",
        "    img_target_labels = target[0:8,].numpy()\n",
        "    break\n",
        "    \n",
        "plt.imshow(img_grid.numpy().transpose((1,2,0)))\n",
        "plt.rcParams['figure.figsize'] = (10, 2)\n",
        "plt.title(img_target_labels, size=16)\n",
        "plt.show()"
      ],
      "metadata": {
        "colab": {
          "base_uri": "https://localhost:8080/",
          "height": 140
        },
        "id": "gvcLMjvWOTVz",
        "outputId": "f7ccb5f4-2d00-4f31-b2be-8b3a9ea61d52"
      },
      "execution_count": null,
      "outputs": [
        {
          "output_type": "display_data",
          "data": {
            "text/plain": [
              "<Figure size 720x144 with 1 Axes>"
            ],
            "image/png": "[encoded data removed]"
          },
          "metadata": {
            "needs_background": "light"
          }
        }
      ]
    },
    {
      "cell_type": "code",
      "source": [
        "class DeepNeuralNetwork(nn.Module):\n",
        "    def __init__(self,feature_size=28*28,output_size=10,seed=8):\n",
        "        super(DeepNeuralNetwork, self).__init__()\n",
        "        self.feature_size = feature_size\n",
        "        self.output_size = output_size\n",
        "        self.seed = seed\n",
        "        \n",
        "        self.linear_block = nn.Sequential(\n",
        "            nn.Dropout(0.5),\n",
        "            nn.Linear(self.feature_size, 1024),\n",
        "            nn.BatchNorm1d(1024),\n",
        "            nn.ReLU(),\n",
        "\n",
        "            nn.Dropout(0.5),\n",
        "            nn.Linear(1024, 2048),\n",
        "            nn.BatchNorm1d(2048),\n",
        "            nn.ReLU(),\n",
        "\n",
        "            nn.Dropout(0.5),\n",
        "            nn.Linear(2048, 1024),\n",
        "            nn.BatchNorm1d(1024),\n",
        "            nn.ReLU(),\n",
        "\n",
        "            nn.Dropout(0.5),\n",
        "            nn.Linear(1024, 512),\n",
        "            nn.BatchNorm1d(512),\n",
        "            nn.ReLU(),\n",
        "\n",
        "            nn.Dropout(0.5),\n",
        "            nn.Linear(512, 256),\n",
        "            nn.BatchNorm1d(256),\n",
        "            nn.ReLU(),\n",
        "\n",
        "            nn.Dropout(0.5),\n",
        "            nn.Linear(256, 64),\n",
        "            nn.BatchNorm1d(64),\n",
        "            nn.ReLU(),\n",
        "\n",
        "            nn.Dropout(0.2),\n",
        "            nn.Linear(64, self.output_size),\n",
        "        )\n",
        "        \n",
        "    def forward(self, x):\n",
        "        x = x.view(x.size(0), -1)\n",
        "        x = self.linear_block(x)\n",
        "        \n",
        "        return x"
      ],
      "metadata": {
        "id": "pZWzXWgvOhhj"
      },
      "execution_count": null,
      "outputs": []
    },
    {
      "cell_type": "code",
      "source": [
        "num_feature = 28*28\n",
        "output_size = 10\n",
        "ann_model = DeepNeuralNetwork(num_feature,output_size,8)\n",
        "if torch.cuda.is_available():\n",
        "    ann_model = ann_model.cuda()\n",
        "ann_model"
      ],
      "metadata": {
        "colab": {
          "base_uri": "https://localhost:8080/"
        },
        "id": "3WlYEcnrO9tp",
        "outputId": "d2292872-a433-4465-f402-5815fc3e097e"
      },
      "execution_count": null,
      "outputs": [
        {
          "output_type": "execute_result",
          "data": {
            "text/plain": [
              "DeepNeuralNetwork(\n",
              "  (linear_block): Sequential(\n",
              "    (0): Dropout(p=0.5, inplace=False)\n",
              "    (1): Linear(in_features=784, out_features=1024, bias=True)\n",
              "    (2): BatchNorm1d(1024, eps=1e-05, momentum=0.1, affine=True, track_running_stats=True)\n",
              "    (3): ReLU()\n",
              "    (4): Dropout(p=0.5, inplace=False)\n",
              "    (5): Linear(in_features=1024, out_features=2048, bias=True)\n",
              "    (6): BatchNorm1d(2048, eps=1e-05, momentum=0.1, affine=True, track_running_stats=True)\n",
              "    (7): ReLU()\n",
              "    (8): Dropout(p=0.5, inplace=False)\n",
              "    (9): Linear(in_features=2048, out_features=1024, bias=True)\n",
              "    (10): BatchNorm1d(1024, eps=1e-05, momentum=0.1, affine=True, track_running_stats=True)\n",
              "    (11): ReLU()\n",
              "    (12): Dropout(p=0.5, inplace=False)\n",
              "    (13): Linear(in_features=1024, out_features=512, bias=True)\n",
              "    (14): BatchNorm1d(512, eps=1e-05, momentum=0.1, affine=True, track_running_stats=True)\n",
              "    (15): ReLU()\n",
              "    (16): Dropout(p=0.5, inplace=False)\n",
              "    (17): Linear(in_features=512, out_features=256, bias=True)\n",
              "    (18): BatchNorm1d(256, eps=1e-05, momentum=0.1, affine=True, track_running_stats=True)\n",
              "    (19): ReLU()\n",
              "    (20): Dropout(p=0.5, inplace=False)\n",
              "    (21): Linear(in_features=256, out_features=64, bias=True)\n",
              "    (22): BatchNorm1d(64, eps=1e-05, momentum=0.1, affine=True, track_running_stats=True)\n",
              "    (23): ReLU()\n",
              "    (24): Dropout(p=0.2, inplace=False)\n",
              "    (25): Linear(in_features=64, out_features=10, bias=True)\n",
              "  )\n",
              ")"
            ]
          },
          "metadata": {},
          "execution_count": 142
        }
      ]
    },
    {
      "cell_type": "code",
      "source": [
        "optimizer = optim.Adam(params=ann_model.parameters(), lr=0.01)\n",
        "criterion = nn.CrossEntropyLoss()\n",
        "\n",
        "exp_lr_scheduler = optim.lr_scheduler.StepLR(optimizer, step_size=7, gamma=0.1)\n",
        "\n",
        "if torch.cuda.is_available():\n",
        "    criterion = criterion.cuda()"
      ],
      "metadata": {
        "id": "Mp21wIIGPIZ6"
      },
      "execution_count": null,
      "outputs": []
    },
    {
      "cell_type": "code",
      "source": [
        "def train_model(model,train_loader,num_epoch):\n",
        "    model.train()\n",
        "    exp_lr_scheduler.step()\n",
        "    \n",
        "    for batch_idx, (data, target) in enumerate(train_loader):\n",
        "        data = data.unsqueeze(1)\n",
        "        data, target = data, target\n",
        "        \n",
        "        if torch.cuda.is_available():\n",
        "            data = data.cuda()\n",
        "            target = target.cuda()\n",
        "            \n",
        "        optimizer.zero_grad()\n",
        "        output = model(data)\n",
        "        loss = criterion(output, target)\n",
        "        loss.backward()\n",
        "        optimizer.step()\n",
        "\n",
        "        if (batch_idx + 1)% 100 == 0:\n",
        "            print('Train Epoch: {} [{}/{} ({:.0f}%)]\\tLoss: {:.6f}'.format(\n",
        "                num_epoch, (batch_idx + 1) * len(data), len(train_loader.dataset),\n",
        "                100. * (batch_idx + 1) / len(train_loader), loss.data))\n",
        "            \n",
        "def evaluate(model,data_loader):\n",
        "    model.eval()\n",
        "    loss = 0\n",
        "    correct = 0\n",
        "    \n",
        "    for data, target in data_loader:\n",
        "        data = data.unsqueeze(1)\n",
        "        data, target = data, target\n",
        "        \n",
        "        if torch.cuda.is_available():\n",
        "            data = data.cuda()\n",
        "            target = target.cuda()\n",
        "        \n",
        "        output = model(data)\n",
        "        \n",
        "        loss += F.cross_entropy(output, target, size_average=False).data\n",
        "\n",
        "        pred = output.data.max(1, keepdim=True)[1]\n",
        "        correct += pred.eq(target.data.view_as(pred)).cpu().sum()\n",
        "        \n",
        "    loss /= len(data_loader.dataset)\n",
        "        \n",
        "    print('\\nAverage Val Loss: {:.4f}, Val Accuracy: {}/{} ({:.3f}%)\\n'.format(\n",
        "        loss, correct, len(data_loader.dataset),\n",
        "        100. * correct / len(data_loader.dataset)))"
      ],
      "metadata": {
        "id": "8o97IInMPTwB"
      },
      "execution_count": null,
      "outputs": []
    },
    {
      "cell_type": "code",
      "source": [
        "num_epochs = 1\n",
        "\n",
        "for n in range(num_epochs):\n",
        "    train_model(ann_model, train_loader, n)\n",
        "    evaluate(ann_model, val_loader)"
      ],
      "metadata": {
        "colab": {
          "base_uri": "https://localhost:8080/"
        },
        "id": "P_7jNKIwPYeI",
        "outputId": "142dbd1a-35af-4862-a7ef-c81b425630a4"
      },
      "execution_count": null,
      "outputs": [
        {
          "output_type": "stream",
          "name": "stdout",
          "text": [
            "Train Epoch: 0 [1600/48000 (3%)]\tLoss: 1.511058\n",
            "Train Epoch: 0 [3200/48000 (7%)]\tLoss: 0.994788\n",
            "Train Epoch: 0 [4800/48000 (10%)]\tLoss: 1.131911\n",
            "Train Epoch: 0 [6400/48000 (13%)]\tLoss: 1.509939\n",
            "Train Epoch: 0 [8000/48000 (17%)]\tLoss: 0.855386\n",
            "Train Epoch: 0 [9600/48000 (20%)]\tLoss: 0.372382\n",
            "Train Epoch: 0 [11200/48000 (23%)]\tLoss: 0.792515\n",
            "Train Epoch: 0 [12800/48000 (27%)]\tLoss: 0.921662\n",
            "Train Epoch: 0 [14400/48000 (30%)]\tLoss: 1.133776\n",
            "Train Epoch: 0 [16000/48000 (33%)]\tLoss: 1.604842\n",
            "Train Epoch: 0 [17600/48000 (37%)]\tLoss: 0.446220\n",
            "Train Epoch: 0 [19200/48000 (40%)]\tLoss: 1.140173\n",
            "Train Epoch: 0 [20800/48000 (43%)]\tLoss: 0.726823\n",
            "Train Epoch: 0 [22400/48000 (47%)]\tLoss: 1.027259\n",
            "Train Epoch: 0 [24000/48000 (50%)]\tLoss: 0.744673\n",
            "Train Epoch: 0 [25600/48000 (53%)]\tLoss: 0.795508\n",
            "Train Epoch: 0 [27200/48000 (57%)]\tLoss: 0.828005\n",
            "Train Epoch: 0 [28800/48000 (60%)]\tLoss: 0.618982\n",
            "Train Epoch: 0 [30400/48000 (63%)]\tLoss: 1.182788\n",
            "Train Epoch: 0 [32000/48000 (67%)]\tLoss: 1.036272\n",
            "Train Epoch: 0 [33600/48000 (70%)]\tLoss: 0.749629\n",
            "Train Epoch: 0 [35200/48000 (73%)]\tLoss: 0.494222\n",
            "Train Epoch: 0 [36800/48000 (77%)]\tLoss: 0.818055\n",
            "Train Epoch: 0 [38400/48000 (80%)]\tLoss: 0.929217\n",
            "Train Epoch: 0 [40000/48000 (83%)]\tLoss: 0.557512\n",
            "Train Epoch: 0 [41600/48000 (87%)]\tLoss: 0.745971\n",
            "Train Epoch: 0 [43200/48000 (90%)]\tLoss: 0.683802\n",
            "Train Epoch: 0 [44800/48000 (93%)]\tLoss: 1.043892\n",
            "Train Epoch: 0 [46400/48000 (97%)]\tLoss: 0.605849\n",
            "Train Epoch: 0 [48000/48000 (100%)]\tLoss: 0.612753\n",
            "\n",
            "Average Val Loss: 0.2833, Val Accuracy: 11107/12000 (92.558%)\n",
            "\n"
          ]
        }
      ]
    },
    {
      "cell_type": "code",
      "source": [
        "def make_predictions(model,data_loader):\n",
        "    model.eval()\n",
        "    test_preds = torch.LongTensor()\n",
        "    \n",
        "    for i, data in enumerate(data_loader):\n",
        "        data = data.unsqueeze(1)\n",
        "        \n",
        "        if torch.cuda.is_available():\n",
        "            data = data.cuda()\n",
        "            \n",
        "        output = model(data)\n",
        "        \n",
        "        preds = output.cpu().data.max(1, keepdim=True)[1]\n",
        "        test_preds = torch.cat((test_preds, preds), dim=0)\n",
        "        \n",
        "    return test_preds"
      ],
      "metadata": {
        "id": "Ql7oBSb3Pdb4"
      },
      "execution_count": null,
      "outputs": []
    },
    {
      "cell_type": "code",
      "source": [
        "test_set_preds = make_predictions(ann_model,test_loader)"
      ],
      "metadata": {
        "id": "d-v_gJPVQCqZ"
      },
      "execution_count": null,
      "outputs": []
    },
    {
      "cell_type": "code",
      "source": [
        "# Make the confusion matrix\n",
        "cmt = torch.zeros(10, 10, dtype=torch.int32)\n",
        "for i in range(len(test_labels)):\n",
        "    cmt[test_labels[i], test_set_preds[i]] += 1\n",
        "cmt"
      ],
      "metadata": {
        "colab": {
          "base_uri": "https://localhost:8080/"
        },
        "id": "nbh1nVdsWAYw",
        "outputId": "3dfb4ecb-31ca-453f-8982-b76909526299"
      },
      "execution_count": null,
      "outputs": [
        {
          "output_type": "execute_result",
          "data": {
            "text/plain": [
              "tensor([[ 966,    0,    1,    1,    0,    2,    4,    2,    4,    0],\n",
              "        [   0, 1115,    4,    1,    1,    0,    4,    0,   10,    0],\n",
              "        [  16,    3,  950,    2,   16,    0,    6,   24,   13,    2],\n",
              "        [   1,    3,   20,  939,    0,    3,    1,   12,   17,   14],\n",
              "        [   2,    0,    3,    0,  841,    0,    7,    0,    5,  124],\n",
              "        [  11,    4,    0,   54,    4,  762,    9,    3,   32,   13],\n",
              "        [  18,    5,    1,    1,   11,    7,  902,    0,   13,    0],\n",
              "        [   1,    9,   14,    2,    2,    0,    0,  940,    0,   60],\n",
              "        [   9,    4,   10,    9,    4,    9,    1,    4,  898,   26],\n",
              "        [   8,    7,    1,   10,    9,    0,    0,    3,   11,  960]],\n",
              "       dtype=torch.int32)"
            ]
          },
          "metadata": {},
          "execution_count": 148
        }
      ]
    },
    {
      "cell_type": "code",
      "source": [
        "from sklearn.metrics import classification_report\n",
        "\n",
        "report = classification_report(test_labels, test_set_preds)\n",
        "\n",
        "print(report)"
      ],
      "metadata": {
        "colab": {
          "base_uri": "https://localhost:8080/"
        },
        "id": "iyr3qlTkX_zx",
        "outputId": "0516cd9f-ead8-42a0-a640-8bfe4324f1d2"
      },
      "execution_count": null,
      "outputs": [
        {
          "output_type": "stream",
          "name": "stdout",
          "text": [
            "              precision    recall  f1-score   support\n",
            "\n",
            "           0       0.94      0.99      0.96       980\n",
            "           1       0.97      0.98      0.98      1135\n",
            "           2       0.95      0.92      0.93      1032\n",
            "           3       0.92      0.93      0.93      1010\n",
            "           4       0.95      0.86      0.90       982\n",
            "           5       0.97      0.85      0.91       892\n",
            "           6       0.97      0.94      0.95       958\n",
            "           7       0.95      0.91      0.93      1028\n",
            "           8       0.90      0.92      0.91       974\n",
            "           9       0.80      0.95      0.87      1009\n",
            "\n",
            "    accuracy                           0.93     10000\n",
            "   macro avg       0.93      0.93      0.93     10000\n",
            "weighted avg       0.93      0.93      0.93     10000\n",
            "\n"
          ]
        }
      ]
    },
    {
      "cell_type": "markdown",
      "source": [
        "# Mnist CNN"
      ],
      "metadata": {
        "id": "IvDd3aDe2FI7"
      }
    },
    {
      "cell_type": "markdown",
      "source": [
        "Mnist Dataset"
      ],
      "metadata": {
        "id": "tVsXTf7n2FJJ"
      }
    },
    {
      "cell_type": "code",
      "source": [
        "input_folder_path = \"/content/\"\n",
        "train_df = pd.read_csv(input_folder_path+\"mnist_train.csv\")\n",
        "test_df = pd.read_csv(input_folder_path+\"mnist_test.csv\")"
      ],
      "metadata": {
        "id": "O3p4emAd2FJK"
      },
      "execution_count": null,
      "outputs": []
    },
    {
      "cell_type": "code",
      "source": [
        "train_labels = train_df['label'].values\n",
        "train_images = (train_df.iloc[:,1:].values).astype('float32')\n",
        "test_labels =  test_df['label'].values\n",
        "test_images =  (test_df.iloc[:,1:].values).astype('float32')"
      ],
      "metadata": {
        "id": "nwDa_Ne-2FJK"
      },
      "execution_count": null,
      "outputs": []
    },
    {
      "cell_type": "code",
      "source": [
        "#Training and Validation Split\n",
        "train_images, val_images, train_labels, val_labels = train_test_split(train_images, train_labels,\n",
        "                                                                     stratify=train_labels, random_state=123,\n",
        "                                                                     test_size=0.20)"
      ],
      "metadata": {
        "id": "Pf-9hkhG2FJK"
      },
      "execution_count": null,
      "outputs": []
    },
    {
      "cell_type": "code",
      "source": [
        "train_images = train_images.reshape(train_images.shape[0], 28, 28)\n",
        "val_images = val_images.reshape(val_images.shape[0], 28, 28)\n",
        "test_images = test_images.reshape(test_images.shape[0], 28, 28)"
      ],
      "metadata": {
        "id": "VAIHNIMc2FJK"
      },
      "execution_count": null,
      "outputs": []
    },
    {
      "cell_type": "code",
      "source": [
        "print(train_images.shape,val_images.shape,test_images.shape)"
      ],
      "metadata": {
        "colab": {
          "base_uri": "https://localhost:8080/"
        },
        "outputId": "c2cb00d6-1c7f-433b-9abc-d7ca12158dea",
        "id": "_4tC4ibM2FJL"
      },
      "execution_count": null,
      "outputs": [
        {
          "output_type": "stream",
          "name": "stdout",
          "text": [
            "(48000, 28, 28) (12000, 28, 28) (10000, 28, 28)\n"
          ]
        }
      ]
    },
    {
      "cell_type": "code",
      "source": [
        "#train samples\n",
        "for i in range(6, 9):\n",
        "    plt.subplot(330 + (i+1))\n",
        "    plt.imshow(train_images[i].squeeze(), cmap=plt.get_cmap('gray'))\n",
        "    plt.title(train_labels[i])"
      ],
      "metadata": {
        "colab": {
          "base_uri": "https://localhost:8080/",
          "height": 96
        },
        "outputId": "6b57a95c-ee3b-48a0-8a40-f2d6fa4e6664",
        "id": "lqTT10i42FJL"
      },
      "execution_count": null,
      "outputs": [
        {
          "output_type": "display_data",
          "data": {
            "text/plain": [
              "<Figure size 720x144 with 3 Axes>"
            ],
            "image/png": "[encoded data removed]"
          },
          "metadata": {
            "needs_background": "light"
          }
        }
      ]
    },
    {
      "cell_type": "code",
      "source": [
        "#test samples\n",
        "for i in range(6, 9):\n",
        "    plt.subplot(330 + (i+1))\n",
        "    plt.imshow(test_images[i].squeeze(), cmap=plt.get_cmap('gray'))"
      ],
      "metadata": {
        "colab": {
          "base_uri": "https://localhost:8080/",
          "height": 83
        },
        "outputId": "1833e1dc-50c4-46f5-d4f9-daed424e99fe",
        "id": "ZJzCNigj2FJL"
      },
      "execution_count": null,
      "outputs": [
        {
          "output_type": "display_data",
          "data": {
            "text/plain": [
              "<Figure size 720x144 with 3 Axes>"
            ],
            "image/png": "[encoded data removed]"
          },
          "metadata": {
            "needs_background": "light"
          }
        }
      ]
    },
    {
      "cell_type": "code",
      "source": [
        "#train\n",
        "train_images_tensor = torch.tensor(train_images)/255.0\n",
        "train_labels_tensor = torch.tensor(train_labels)\n",
        "train_tensor = TensorDataset(train_images_tensor, train_labels_tensor)\n",
        "\n",
        "#val\n",
        "val_images_tensor = torch.tensor(val_images)/255.0\n",
        "val_labels_tensor = torch.tensor(val_labels)\n",
        "val_tensor = TensorDataset(val_images_tensor, val_labels_tensor)\n",
        "\n",
        "#test\n",
        "test_images_tensor = torch.tensor(test_images)/255.0"
      ],
      "metadata": {
        "id": "a3yORZzW2FJL"
      },
      "execution_count": null,
      "outputs": []
    },
    {
      "cell_type": "code",
      "source": [
        "train_loader = DataLoader(train_tensor, batch_size=16, num_workers=2, shuffle=True)\n",
        "val_loader =   DataLoader(val_tensor, batch_size=16, num_workers=2, shuffle=True)\n",
        "test_loader =  DataLoader(test_images_tensor, batch_size=16, num_workers=2, shuffle=False)"
      ],
      "metadata": {
        "id": "9TraNj3D2FJL"
      },
      "execution_count": null,
      "outputs": []
    },
    {
      "cell_type": "code",
      "source": [
        "for batch_idx, (data, target) in enumerate(train_loader):\n",
        "    img_grid = make_grid(data[0:8,].unsqueeze(1), nrow=8)\n",
        "    img_target_labels = target[0:8,].numpy()\n",
        "    break\n",
        "    \n",
        "plt.imshow(img_grid.numpy().transpose((1,2,0)))\n",
        "plt.rcParams['figure.figsize'] = (10, 2)\n",
        "plt.title(img_target_labels, size=16)\n",
        "plt.show()"
      ],
      "metadata": {
        "colab": {
          "base_uri": "https://localhost:8080/",
          "height": 140
        },
        "outputId": "3e1f4439-a357-4deb-fbec-3d6a09dc85eb",
        "id": "fwJrd0Z-2FJM"
      },
      "execution_count": null,
      "outputs": [
        {
          "output_type": "display_data",
          "data": {
            "text/plain": [
              "<Figure size 720x144 with 1 Axes>"
            ],
            "image/png": "[encoded data removed]"
          },
          "metadata": {
            "needs_background": "light"
          }
        }
      ]
    },
    {
      "cell_type": "code",
      "source": [
        "class DeepNeuaralNetwork(nn.Module):\n",
        "    def __init__(self,feature_size =28*28 ,output_size = 10,seed = 8):\n",
        "        #initalization\n",
        "        super(DeepNeuaralNetwork, self).__init__()\n",
        "\n",
        "        self.feature_size = feature_size\n",
        "        self.output_size = output_size\n",
        "        self.seed = seed\n",
        "        \n",
        "        self.conv_block = nn.Sequential(\n",
        "            nn.Conv2d(1, 32, kernel_size=3, stride=1, padding=1),\n",
        "            nn.BatchNorm2d(32),\n",
        "            nn.ReLU(inplace=True),\n",
        "            nn.Conv2d(32, 64, kernel_size=3, stride=1, padding=1),\n",
        "            nn.BatchNorm2d(64),\n",
        "            nn.ReLU(inplace=True),\n",
        "            nn.MaxPool2d(kernel_size=2, stride=2),\n",
        "            nn.Conv2d(64, 128, kernel_size=3, stride=1, padding=1),\n",
        "            nn.BatchNorm2d(128),\n",
        "            nn.ReLU(inplace=True),\n",
        "            nn.MaxPool2d(kernel_size=2, stride=2) \n",
        "        )\n",
        "        \n",
        "        self.linear_block = nn.Sequential(\n",
        "            nn.Dropout(p=0.5),\n",
        "            nn.Linear(128*7*7, 128),\n",
        "            nn.BatchNorm1d(128),\n",
        "            nn.ReLU(inplace=True),\n",
        "            nn.Dropout(0.5),\n",
        "            nn.Linear(128, 64),\n",
        "            nn.BatchNorm1d(64),\n",
        "            nn.ReLU(inplace=True),\n",
        "            nn.Dropout(0.5),\n",
        "            nn.Linear(64, self.output_size)\n",
        "        )\n",
        "        \n",
        "    def forward(self, state):\n",
        "        state = self.conv_block(state)\n",
        "        state = state.view(state.size(0), -1)\n",
        "        state = self.linear_block(state)\n",
        "        \n",
        "        return state"
      ],
      "metadata": {
        "id": "h4yE9RfL2FJM"
      },
      "execution_count": null,
      "outputs": []
    },
    {
      "cell_type": "code",
      "source": [
        "conv_model = DeepNeuaralNetwork(output_size = 10)\n",
        "if torch.cuda.is_available():\n",
        "    conv_model = conv_model.cuda()\n",
        "conv_model"
      ],
      "metadata": {
        "colab": {
          "base_uri": "https://localhost:8080/"
        },
        "id": "02dL1zpYEXHs",
        "outputId": "d9b175d2-7f8e-47a0-ab66-a838ca1d3f26"
      },
      "execution_count": null,
      "outputs": [
        {
          "output_type": "execute_result",
          "data": {
            "text/plain": [
              "DeepNeuaralNetwork(\n",
              "  (conv_block): Sequential(\n",
              "    (0): Conv2d(1, 32, kernel_size=(3, 3), stride=(1, 1), padding=(1, 1))\n",
              "    (1): BatchNorm2d(32, eps=1e-05, momentum=0.1, affine=True, track_running_stats=True)\n",
              "    (2): ReLU(inplace=True)\n",
              "    (3): Conv2d(32, 64, kernel_size=(3, 3), stride=(1, 1), padding=(1, 1))\n",
              "    (4): BatchNorm2d(64, eps=1e-05, momentum=0.1, affine=True, track_running_stats=True)\n",
              "    (5): ReLU(inplace=True)\n",
              "    (6): MaxPool2d(kernel_size=2, stride=2, padding=0, dilation=1, ceil_mode=False)\n",
              "    (7): Conv2d(64, 128, kernel_size=(3, 3), stride=(1, 1), padding=(1, 1))\n",
              "    (8): BatchNorm2d(128, eps=1e-05, momentum=0.1, affine=True, track_running_stats=True)\n",
              "    (9): ReLU(inplace=True)\n",
              "    (10): MaxPool2d(kernel_size=2, stride=2, padding=0, dilation=1, ceil_mode=False)\n",
              "  )\n",
              "  (linear_block): Sequential(\n",
              "    (0): Dropout(p=0.5, inplace=False)\n",
              "    (1): Linear(in_features=6272, out_features=128, bias=True)\n",
              "    (2): BatchNorm1d(128, eps=1e-05, momentum=0.1, affine=True, track_running_stats=True)\n",
              "    (3): ReLU(inplace=True)\n",
              "    (4): Dropout(p=0.5, inplace=False)\n",
              "    (5): Linear(in_features=128, out_features=64, bias=True)\n",
              "    (6): BatchNorm1d(64, eps=1e-05, momentum=0.1, affine=True, track_running_stats=True)\n",
              "    (7): ReLU(inplace=True)\n",
              "    (8): Dropout(p=0.5, inplace=False)\n",
              "    (9): Linear(in_features=64, out_features=10, bias=True)\n",
              "  )\n",
              ")"
            ]
          },
          "metadata": {},
          "execution_count": 165
        }
      ]
    },
    {
      "cell_type": "code",
      "source": [
        "optimizer = optim.Adam(params=conv_model.parameters(), lr=0.003)\n",
        "criterion = nn.CrossEntropyLoss()\n",
        "\n",
        "exp_lr_scheduler = optim.lr_scheduler.StepLR(optimizer, step_size=7, gamma=0.1)\n",
        "\n",
        "if torch.cuda.is_available():\n",
        "    conv_model = conv_model.cuda()\n",
        "    criterion = criterion.cuda()"
      ],
      "metadata": {
        "id": "tHHWSLWJGf_U"
      },
      "execution_count": null,
      "outputs": []
    },
    {
      "cell_type": "code",
      "source": [
        "def train_model(model,train_loader,num_epoch):\n",
        "    model.train()\n",
        "    exp_lr_scheduler.step()\n",
        "    \n",
        "    for batch_idx, (data, target) in enumerate(train_loader):\n",
        "        data = data.unsqueeze(1)\n",
        "        data, target = data, target\n",
        "        \n",
        "        if torch.cuda.is_available():\n",
        "            data = data.cuda()\n",
        "            target = target.cuda()\n",
        "            \n",
        "        optimizer.zero_grad()\n",
        "        output = model(data)\n",
        "        loss = criterion(output, target)\n",
        "        loss.backward()\n",
        "        optimizer.step()\n",
        "        \n",
        "        if (batch_idx + 1)% 100 == 0:\n",
        "            print('Train Epoch: {} [{}/{} ({:.0f}%)]\\tLoss: {:.6f}'.format(\n",
        "                num_epoch, (batch_idx + 1) * len(data), len(train_loader.dataset),\n",
        "                100. * (batch_idx + 1) / len(train_loader), loss.data))\n",
        "            \n",
        "def evaluate(model,data_loader):\n",
        "    model.eval()\n",
        "    loss = 0\n",
        "    correct = 0\n",
        "    \n",
        "    for data, target in data_loader:\n",
        "        data = data.unsqueeze(1)\n",
        "        data, target = data, target\n",
        "        \n",
        "        if torch.cuda.is_available():\n",
        "            data = data.cuda()\n",
        "            target = target.cuda()\n",
        "        \n",
        "        output = model(data)\n",
        "        \n",
        "        loss += F.cross_entropy(output, target, size_average=False).data\n",
        "\n",
        "        pred = output.data.max(1, keepdim=True)[1]\n",
        "        correct += pred.eq(target.data.view_as(pred)).cpu().sum()\n",
        "        \n",
        "    loss /= len(data_loader.dataset)\n",
        "        \n",
        "    print('\\nAverage Val Loss: {:.4f}, Val Accuracy: {}/{} ({:.3f}%)\\n'.format(\n",
        "        loss, correct, len(data_loader.dataset),\n",
        "        100. * correct / len(data_loader.dataset)))"
      ],
      "metadata": {
        "id": "uHd0NstLFO-r"
      },
      "execution_count": null,
      "outputs": []
    },
    {
      "cell_type": "code",
      "source": [
        "num_epochs = 3\n",
        "for n in range(num_epochs):\n",
        "    train_model(conv_model, train_loader, n)\n",
        "    evaluate(conv_model, val_loader)"
      ],
      "metadata": {
        "colab": {
          "base_uri": "https://localhost:8080/"
        },
        "outputId": "22993f43-ef4d-4f98-9614-a4da8eb19f94",
        "id": "NZnVfwyNFO-s"
      },
      "execution_count": null,
      "outputs": [
        {
          "output_type": "stream",
          "name": "stdout",
          "text": [
            "Train Epoch: 0 [1600/48000 (3%)]\tLoss: 0.148965\n",
            "Train Epoch: 0 [3200/48000 (7%)]\tLoss: 0.244898\n",
            "Train Epoch: 0 [4800/48000 (10%)]\tLoss: 0.703377\n",
            "Train Epoch: 0 [6400/48000 (13%)]\tLoss: 0.109259\n",
            "Train Epoch: 0 [8000/48000 (17%)]\tLoss: 0.177308\n",
            "Train Epoch: 0 [9600/48000 (20%)]\tLoss: 0.283325\n",
            "Train Epoch: 0 [11200/48000 (23%)]\tLoss: 0.046272\n",
            "Train Epoch: 0 [12800/48000 (27%)]\tLoss: 0.096530\n",
            "Train Epoch: 0 [14400/48000 (30%)]\tLoss: 0.159679\n",
            "Train Epoch: 0 [16000/48000 (33%)]\tLoss: 0.101141\n",
            "Train Epoch: 0 [17600/48000 (37%)]\tLoss: 0.295932\n",
            "Train Epoch: 0 [19200/48000 (40%)]\tLoss: 0.368280\n",
            "Train Epoch: 0 [20800/48000 (43%)]\tLoss: 0.074174\n",
            "Train Epoch: 0 [22400/48000 (47%)]\tLoss: 0.199598\n",
            "Train Epoch: 0 [24000/48000 (50%)]\tLoss: 0.078071\n",
            "Train Epoch: 0 [25600/48000 (53%)]\tLoss: 0.104235\n",
            "Train Epoch: 0 [27200/48000 (57%)]\tLoss: 0.133706\n",
            "Train Epoch: 0 [28800/48000 (60%)]\tLoss: 0.174390\n",
            "Train Epoch: 0 [30400/48000 (63%)]\tLoss: 0.242767\n",
            "Train Epoch: 0 [32000/48000 (67%)]\tLoss: 0.024419\n",
            "Train Epoch: 0 [33600/48000 (70%)]\tLoss: 0.031483\n",
            "Train Epoch: 0 [35200/48000 (73%)]\tLoss: 0.045922\n",
            "Train Epoch: 0 [36800/48000 (77%)]\tLoss: 0.232203\n",
            "Train Epoch: 0 [38400/48000 (80%)]\tLoss: 0.122832\n",
            "Train Epoch: 0 [40000/48000 (83%)]\tLoss: 0.122975\n",
            "Train Epoch: 0 [41600/48000 (87%)]\tLoss: 0.040522\n",
            "Train Epoch: 0 [43200/48000 (90%)]\tLoss: 0.022725\n",
            "Train Epoch: 0 [44800/48000 (93%)]\tLoss: 0.177728\n",
            "Train Epoch: 0 [46400/48000 (97%)]\tLoss: 0.428002\n",
            "Train Epoch: 0 [48000/48000 (100%)]\tLoss: 0.435352\n",
            "\n",
            "Average Val Loss: 0.0501, Val Accuracy: 11823/12000 (98.525%)\n",
            "\n",
            "Train Epoch: 1 [1600/48000 (3%)]\tLoss: 0.077759\n",
            "Train Epoch: 1 [3200/48000 (7%)]\tLoss: 0.182366\n",
            "Train Epoch: 1 [4800/48000 (10%)]\tLoss: 0.039673\n",
            "Train Epoch: 1 [6400/48000 (13%)]\tLoss: 0.224182\n",
            "Train Epoch: 1 [8000/48000 (17%)]\tLoss: 0.084074\n",
            "Train Epoch: 1 [9600/48000 (20%)]\tLoss: 0.147354\n",
            "Train Epoch: 1 [11200/48000 (23%)]\tLoss: 0.085723\n",
            "Train Epoch: 1 [12800/48000 (27%)]\tLoss: 0.088706\n",
            "Train Epoch: 1 [14400/48000 (30%)]\tLoss: 0.305323\n",
            "Train Epoch: 1 [16000/48000 (33%)]\tLoss: 0.093094\n",
            "Train Epoch: 1 [17600/48000 (37%)]\tLoss: 0.080651\n",
            "Train Epoch: 1 [19200/48000 (40%)]\tLoss: 0.033610\n",
            "Train Epoch: 1 [20800/48000 (43%)]\tLoss: 0.031563\n",
            "Train Epoch: 1 [22400/48000 (47%)]\tLoss: 0.069929\n",
            "Train Epoch: 1 [24000/48000 (50%)]\tLoss: 0.119661\n",
            "Train Epoch: 1 [25600/48000 (53%)]\tLoss: 0.179492\n",
            "Train Epoch: 1 [27200/48000 (57%)]\tLoss: 0.155713\n",
            "Train Epoch: 1 [28800/48000 (60%)]\tLoss: 0.043683\n",
            "Train Epoch: 1 [30400/48000 (63%)]\tLoss: 0.040088\n",
            "Train Epoch: 1 [32000/48000 (67%)]\tLoss: 0.226725\n",
            "Train Epoch: 1 [33600/48000 (70%)]\tLoss: 0.128621\n",
            "Train Epoch: 1 [35200/48000 (73%)]\tLoss: 0.614903\n",
            "Train Epoch: 1 [36800/48000 (77%)]\tLoss: 0.019995\n",
            "Train Epoch: 1 [38400/48000 (80%)]\tLoss: 0.131973\n",
            "Train Epoch: 1 [40000/48000 (83%)]\tLoss: 0.445501\n",
            "Train Epoch: 1 [41600/48000 (87%)]\tLoss: 0.056672\n",
            "Train Epoch: 1 [43200/48000 (90%)]\tLoss: 0.495299\n",
            "Train Epoch: 1 [44800/48000 (93%)]\tLoss: 0.048736\n",
            "Train Epoch: 1 [46400/48000 (97%)]\tLoss: 0.157377\n",
            "Train Epoch: 1 [48000/48000 (100%)]\tLoss: 0.019581\n",
            "\n",
            "Average Val Loss: 0.0357, Val Accuracy: 11885/12000 (99.042%)\n",
            "\n",
            "Train Epoch: 2 [1600/48000 (3%)]\tLoss: 0.436279\n",
            "Train Epoch: 2 [3200/48000 (7%)]\tLoss: 0.141293\n",
            "Train Epoch: 2 [4800/48000 (10%)]\tLoss: 0.040301\n",
            "Train Epoch: 2 [6400/48000 (13%)]\tLoss: 0.311530\n",
            "Train Epoch: 2 [8000/48000 (17%)]\tLoss: 0.481398\n",
            "Train Epoch: 2 [9600/48000 (20%)]\tLoss: 0.187981\n",
            "Train Epoch: 2 [11200/48000 (23%)]\tLoss: 0.048270\n",
            "Train Epoch: 2 [12800/48000 (27%)]\tLoss: 0.012121\n",
            "Train Epoch: 2 [14400/48000 (30%)]\tLoss: 0.786716\n",
            "Train Epoch: 2 [16000/48000 (33%)]\tLoss: 0.011638\n",
            "Train Epoch: 2 [17600/48000 (37%)]\tLoss: 0.497992\n",
            "Train Epoch: 2 [19200/48000 (40%)]\tLoss: 0.132060\n",
            "Train Epoch: 2 [20800/48000 (43%)]\tLoss: 0.011281\n",
            "Train Epoch: 2 [22400/48000 (47%)]\tLoss: 0.134795\n",
            "Train Epoch: 2 [24000/48000 (50%)]\tLoss: 0.070069\n",
            "Train Epoch: 2 [25600/48000 (53%)]\tLoss: 0.043341\n",
            "Train Epoch: 2 [27200/48000 (57%)]\tLoss: 0.051646\n",
            "Train Epoch: 2 [28800/48000 (60%)]\tLoss: 0.209024\n",
            "Train Epoch: 2 [30400/48000 (63%)]\tLoss: 0.084252\n",
            "Train Epoch: 2 [32000/48000 (67%)]\tLoss: 0.051042\n",
            "Train Epoch: 2 [33600/48000 (70%)]\tLoss: 0.063407\n",
            "Train Epoch: 2 [35200/48000 (73%)]\tLoss: 0.159144\n",
            "Train Epoch: 2 [36800/48000 (77%)]\tLoss: 0.417493\n",
            "Train Epoch: 2 [38400/48000 (80%)]\tLoss: 0.073374\n",
            "Train Epoch: 2 [40000/48000 (83%)]\tLoss: 0.008076\n",
            "Train Epoch: 2 [41600/48000 (87%)]\tLoss: 0.045563\n",
            "Train Epoch: 2 [43200/48000 (90%)]\tLoss: 0.407434\n",
            "Train Epoch: 2 [44800/48000 (93%)]\tLoss: 0.076224\n",
            "Train Epoch: 2 [46400/48000 (97%)]\tLoss: 0.238984\n",
            "Train Epoch: 2 [48000/48000 (100%)]\tLoss: 0.027433\n",
            "\n",
            "Average Val Loss: 0.0347, Val Accuracy: 11875/12000 (98.958%)\n",
            "\n"
          ]
        }
      ]
    },
    {
      "cell_type": "code",
      "source": [
        "def make_predictions(model,data_loader):\n",
        "    model.eval()\n",
        "    test_preds = torch.LongTensor()\n",
        "    \n",
        "    for i, data in enumerate(data_loader):\n",
        "        data = data.unsqueeze(1)\n",
        "        \n",
        "        if torch.cuda.is_available():\n",
        "            data = data.cuda()\n",
        "            \n",
        "        output = model(data)\n",
        "        \n",
        "        preds = output.cpu().data.max(1, keepdim=True)[1]\n",
        "        test_preds = torch.cat((test_preds, preds), dim=0)\n",
        "        \n",
        "    return test_preds"
      ],
      "metadata": {
        "id": "Z6M4Y67M2FJN"
      },
      "execution_count": null,
      "outputs": []
    },
    {
      "cell_type": "code",
      "source": [
        "test_set_preds = make_predictions(conv_model,test_loader)"
      ],
      "metadata": {
        "id": "gj1o0eNG2FJN"
      },
      "execution_count": null,
      "outputs": []
    },
    {
      "cell_type": "code",
      "source": [
        "# Make the confusion matrix\n",
        "cmt = torch.zeros(10, 10, dtype=torch.int32)\n",
        "for i in range(len(test_labels)):\n",
        "    cmt[test_labels[i], test_set_preds[i]] += 1\n",
        "cmt"
      ],
      "metadata": {
        "colab": {
          "base_uri": "https://localhost:8080/"
        },
        "outputId": "e675ebda-e278-42b1-afa9-005ed6cc2379",
        "id": "Zy_H5e9p2FJN"
      },
      "execution_count": null,
      "outputs": [
        {
          "output_type": "execute_result",
          "data": {
            "text/plain": [
              "tensor([[ 977,    0,    0,    0,    0,    0,    1,    1,    1,    0],\n",
              "        [   0, 1129,    3,    2,    0,    0,    0,    1,    0,    0],\n",
              "        [   0,    0, 1029,    0,    0,    0,    0,    1,    2,    0],\n",
              "        [   0,    0,    0, 1004,    0,    1,    0,    2,    3,    0],\n",
              "        [   0,    0,    2,    0,  966,    0,    5,    0,    4,    5],\n",
              "        [   0,    0,    0,    6,    0,  880,    2,    0,    1,    3],\n",
              "        [   4,    3,    0,    0,    1,    1,  948,    0,    1,    0],\n",
              "        [   0,    2,   17,    1,    1,    0,    0, 1005,    0,    2],\n",
              "        [   1,    0,    2,    2,    0,    0,    0,    0,  968,    1],\n",
              "        [   1,    0,    1,    0,    2,    2,    0,    2,   10,  991]],\n",
              "       dtype=torch.int32)"
            ]
          },
          "metadata": {},
          "execution_count": 179
        }
      ]
    },
    {
      "cell_type": "code",
      "source": [
        "from sklearn.metrics import classification_report\n",
        "\n",
        "report = classification_report(test_labels, test_set_preds)\n",
        "\n",
        "print(report)"
      ],
      "metadata": {
        "colab": {
          "base_uri": "https://localhost:8080/"
        },
        "outputId": "738d5cd3-2461-4594-81fb-006d662ae77a",
        "id": "usj1wN6P2FJN"
      },
      "execution_count": null,
      "outputs": [
        {
          "output_type": "stream",
          "name": "stdout",
          "text": [
            "              precision    recall  f1-score   support\n",
            "\n",
            "           0       0.99      1.00      1.00       980\n",
            "           1       1.00      0.99      1.00      1135\n",
            "           2       0.98      1.00      0.99      1032\n",
            "           3       0.99      0.99      0.99      1010\n",
            "           4       1.00      0.98      0.99       982\n",
            "           5       1.00      0.99      0.99       892\n",
            "           6       0.99      0.99      0.99       958\n",
            "           7       0.99      0.98      0.99      1028\n",
            "           8       0.98      0.99      0.99       974\n",
            "           9       0.99      0.98      0.99      1009\n",
            "\n",
            "    accuracy                           0.99     10000\n",
            "   macro avg       0.99      0.99      0.99     10000\n",
            "weighted avg       0.99      0.99      0.99     10000\n",
            "\n"
          ]
        }
      ]
    },
    {
      "cell_type": "markdown",
      "source": [
        "# Turkije Acoustic ANN"
      ],
      "metadata": {
        "id": "xL-jaRgQpBQ_"
      }
    },
    {
      "cell_type": "code",
      "source": [
        "data = pd.read_csv(\"/content/HW2_Acoustic Features.csv\")\n",
        "data"
      ],
      "metadata": {
        "id": "gQ8dC57ypIav",
        "colab": {
          "base_uri": "https://localhost:8080/",
          "height": 488
        },
        "outputId": "4baf55e3-1968-4b3b-836f-2854fe30b211"
      },
      "execution_count": null,
      "outputs": [
        {
          "output_type": "execute_result",
          "data": {
            "text/plain": [
              "     Class  _RMSenergy_Mean  _Lowenergy_Mean  _Fluctuation_Mean  _Tempo_Mean  \\\n",
              "0    relax            0.052            0.591              9.136      130.043   \n",
              "1    relax            0.125            0.439              6.680      142.240   \n",
              "2    relax            0.046            0.639             10.578      188.154   \n",
              "3    relax            0.135            0.603             10.442       65.991   \n",
              "4    relax            0.066            0.591              9.769       88.890   \n",
              "..     ...              ...              ...                ...          ...   \n",
              "395  angry            0.174            0.578              5.265      161.144   \n",
              "396  angry            0.176            0.498              5.042      179.787   \n",
              "397  angry            0.187            0.557              4.724      134.032   \n",
              "398  angry            0.140            0.573              4.470      113.600   \n",
              "399  angry            0.086            0.475              5.343      151.748   \n",
              "\n",
              "     _MFCC_Mean_1  _MFCC_Mean_2  _MFCC_Mean_3  _MFCC_Mean_4  _MFCC_Mean_5  \\\n",
              "0           3.997         0.363         0.887         0.078         0.221   \n",
              "1           4.058         0.516         0.785         0.397         0.556   \n",
              "2           2.775         0.903         0.502         0.329         0.287   \n",
              "3           2.841         1.552         0.612         0.351         0.011   \n",
              "4           3.217         0.228         0.814         0.096         0.434   \n",
              "..            ...           ...           ...           ...           ...   \n",
              "395         2.985         0.065         0.718         0.046         0.265   \n",
              "396         2.790        -0.148         0.342        -0.011         0.029   \n",
              "397         1.672         0.566         0.880        -0.113         0.244   \n",
              "398         1.997        -0.210         0.694         0.089         0.206   \n",
              "399         2.240        -0.014         0.834        -0.021         0.345   \n",
              "\n",
              "     ...  _Chromagram_Mean_9  _Chromagram_Mean_10  _Chromagram_Mean_11  \\\n",
              "0    ...               0.426                1.000                0.008   \n",
              "1    ...               0.002                1.000                0.000   \n",
              "2    ...               0.184                0.746                0.016   \n",
              "3    ...               0.038                1.000                0.161   \n",
              "4    ...               0.004                0.404                1.000   \n",
              "..   ...                 ...                  ...                  ...   \n",
              "395  ...               0.374                0.838                0.413   \n",
              "396  ...               0.020                1.000                0.640   \n",
              "397  ...               0.052                0.184                0.287   \n",
              "398  ...               0.137                1.000                0.304   \n",
              "399  ...               0.099                1.000                0.094   \n",
              "\n",
              "     _Chromagram_Mean_12  _HarmonicChangeDetectionFunction_Mean  \\\n",
              "0                  0.101                                  0.316   \n",
              "1                  0.984                                  0.285   \n",
              "2                  1.000                                  0.413   \n",
              "3                  0.757                                  0.422   \n",
              "4                  0.001                                  0.345   \n",
              "..                   ...                                    ...   \n",
              "395                0.125                                  0.323   \n",
              "396                0.010                                  0.233   \n",
              "397                0.101                                  0.269   \n",
              "398                0.140                                  0.277   \n",
              "399                0.033                                  0.195   \n",
              "\n",
              "     _HarmonicChangeDetectionFunction_Std  \\\n",
              "0                                   0.261   \n",
              "1                                   0.211   \n",
              "2                                   0.299   \n",
              "3                                   0.265   \n",
              "4                                   0.261   \n",
              "..                                    ...   \n",
              "395                                 0.140   \n",
              "396                                 0.127   \n",
              "397                                 0.157   \n",
              "398                                 0.144   \n",
              "399                                 0.110   \n",
              "\n",
              "     _HarmonicChangeDetectionFunction_Slope  \\\n",
              "0                                     0.018   \n",
              "1                                    -0.082   \n",
              "2                                     0.134   \n",
              "3                                     0.042   \n",
              "4                                     0.089   \n",
              "..                                      ...   \n",
              "395                                   0.120   \n",
              "396                                   0.145   \n",
              "397                                   0.111   \n",
              "398                                   0.061   \n",
              "399                                   0.007   \n",
              "\n",
              "     _HarmonicChangeDetectionFunction_PeriodFreq  \\\n",
              "0                                          1.035   \n",
              "1                                          3.364   \n",
              "2                                          1.682   \n",
              "3                                          0.354   \n",
              "4                                          0.748   \n",
              "..                                           ...   \n",
              "395                                        2.691   \n",
              "396                                        3.364   \n",
              "397                                        3.364   \n",
              "398                                        3.364   \n",
              "399                                        0.641   \n",
              "\n",
              "     _HarmonicChangeDetectionFunction_PeriodAmp  \\\n",
              "0                                         0.593   \n",
              "1                                         0.702   \n",
              "2                                         0.692   \n",
              "3                                         0.743   \n",
              "4                                         0.674   \n",
              "..                                          ...   \n",
              "395                                       0.867   \n",
              "396                                       0.879   \n",
              "397                                       0.819   \n",
              "398                                       0.811   \n",
              "399                                       0.848   \n",
              "\n",
              "     _HarmonicChangeDetectionFunction_PeriodEntropy  \n",
              "0                                             0.970  \n",
              "1                                             0.967  \n",
              "2                                             0.963  \n",
              "3                                             0.968  \n",
              "4                                             0.957  \n",
              "..                                              ...  \n",
              "395                                           0.969  \n",
              "396                                           0.967  \n",
              "397                                           0.962  \n",
              "398                                           0.969  \n",
              "399                                           0.965  \n",
              "\n",
              "[400 rows x 51 columns]"
            ],
            "text/html": [
              "\n",
              "  <div id=\"df-f37c3447-2d9d-4389-8a66-d46bab186e2e\">\n",
              "    <div class=\"colab-df-container\">\n",
              "      <div>\n",
              "<style scoped>\n",
              "    .dataframe tbody tr th:only-of-type {\n",
              "        vertical-align: middle;\n",
              "    }\n",
              "\n",
              "    .dataframe tbody tr th {\n",
              "        vertical-align: top;\n",
              "    }\n",
              "\n",
              "    .dataframe thead th {\n",
              "        text-align: right;\n",
              "    }\n",
              "</style>\n",
              "<table border=\"1\" class=\"dataframe\">\n",
              "  <thead>\n",
              "    <tr style=\"text-align: right;\">\n",
              "      <th></th>\n",
              "      <th>Class</th>\n",
              "      <th>_RMSenergy_Mean</th>\n",
              "      <th>_Lowenergy_Mean</th>\n",
              "      <th>_Fluctuation_Mean</th>\n",
              "      <th>_Tempo_Mean</th>\n",
              "      <th>_MFCC_Mean_1</th>\n",
              "      <th>_MFCC_Mean_2</th>\n",
              "      <th>_MFCC_Mean_3</th>\n",
              "      <th>_MFCC_Mean_4</th>\n",
              "      <th>_MFCC_Mean_5</th>\n",
              "      <th>...</th>\n",
              "      <th>_Chromagram_Mean_9</th>\n",
              "      <th>_Chromagram_Mean_10</th>\n",
              "      <th>_Chromagram_Mean_11</th>\n",
              "      <th>_Chromagram_Mean_12</th>\n",
              "      <th>_HarmonicChangeDetectionFunction_Mean</th>\n",
              "      <th>_HarmonicChangeDetectionFunction_Std</th>\n",
              "      <th>_HarmonicChangeDetectionFunction_Slope</th>\n",
              "      <th>_HarmonicChangeDetectionFunction_PeriodFreq</th>\n",
              "      <th>_HarmonicChangeDetectionFunction_PeriodAmp</th>\n",
              "      <th>_HarmonicChangeDetectionFunction_PeriodEntropy</th>\n",
              "    </tr>\n",
              "  </thead>\n",
              "  <tbody>\n",
              "    <tr>\n",
              "      <th>0</th>\n",
              "      <td>relax</td>\n",
              "      <td>0.052</td>\n",
              "      <td>0.591</td>\n",
              "      <td>9.136</td>\n",
              "      <td>130.043</td>\n",
              "      <td>3.997</td>\n",
              "      <td>0.363</td>\n",
              "      <td>0.887</td>\n",
              "      <td>0.078</td>\n",
              "      <td>0.221</td>\n",
              "      <td>...</td>\n",
              "      <td>0.426</td>\n",
              "      <td>1.000</td>\n",
              "      <td>0.008</td>\n",
              "      <td>0.101</td>\n",
              "      <td>0.316</td>\n",
              "      <td>0.261</td>\n",
              "      <td>0.018</td>\n",
              "      <td>1.035</td>\n",
              "      <td>0.593</td>\n",
              "      <td>0.970</td>\n",
              "    </tr>\n",
              "    <tr>\n",
              "      <th>1</th>\n",
              "      <td>relax</td>\n",
              "      <td>0.125</td>\n",
              "      <td>0.439</td>\n",
              "      <td>6.680</td>\n",
              "      <td>142.240</td>\n",
              "      <td>4.058</td>\n",
              "      <td>0.516</td>\n",
              "      <td>0.785</td>\n",
              "      <td>0.397</td>\n",
              "      <td>0.556</td>\n",
              "      <td>...</td>\n",
              "      <td>0.002</td>\n",
              "      <td>1.000</td>\n",
              "      <td>0.000</td>\n",
              "      <td>0.984</td>\n",
              "      <td>0.285</td>\n",
              "      <td>0.211</td>\n",
              "      <td>-0.082</td>\n",
              "      <td>3.364</td>\n",
              "      <td>0.702</td>\n",
              "      <td>0.967</td>\n",
              "    </tr>\n",
              "    <tr>\n",
              "      <th>2</th>\n",
              "      <td>relax</td>\n",
              "      <td>0.046</td>\n",
              "      <td>0.639</td>\n",
              "      <td>10.578</td>\n",
              "      <td>188.154</td>\n",
              "      <td>2.775</td>\n",
              "      <td>0.903</td>\n",
              "      <td>0.502</td>\n",
              "      <td>0.329</td>\n",
              "      <td>0.287</td>\n",
              "      <td>...</td>\n",
              "      <td>0.184</td>\n",
              "      <td>0.746</td>\n",
              "      <td>0.016</td>\n",
              "      <td>1.000</td>\n",
              "      <td>0.413</td>\n",
              "      <td>0.299</td>\n",
              "      <td>0.134</td>\n",
              "      <td>1.682</td>\n",
              "      <td>0.692</td>\n",
              "      <td>0.963</td>\n",
              "    </tr>\n",
              "    <tr>\n",
              "      <th>3</th>\n",
              "      <td>relax</td>\n",
              "      <td>0.135</td>\n",
              "      <td>0.603</td>\n",
              "      <td>10.442</td>\n",
              "      <td>65.991</td>\n",
              "      <td>2.841</td>\n",
              "      <td>1.552</td>\n",
              "      <td>0.612</td>\n",
              "      <td>0.351</td>\n",
              "      <td>0.011</td>\n",
              "      <td>...</td>\n",
              "      <td>0.038</td>\n",
              "      <td>1.000</td>\n",
              "      <td>0.161</td>\n",
              "      <td>0.757</td>\n",
              "      <td>0.422</td>\n",
              "      <td>0.265</td>\n",
              "      <td>0.042</td>\n",
              "      <td>0.354</td>\n",
              "      <td>0.743</td>\n",
              "      <td>0.968</td>\n",
              "    </tr>\n",
              "    <tr>\n",
              "      <th>4</th>\n",
              "      <td>relax</td>\n",
              "      <td>0.066</td>\n",
              "      <td>0.591</td>\n",
              "      <td>9.769</td>\n",
              "      <td>88.890</td>\n",
              "      <td>3.217</td>\n",
              "      <td>0.228</td>\n",
              "      <td>0.814</td>\n",
              "      <td>0.096</td>\n",
              "      <td>0.434</td>\n",
              "      <td>...</td>\n",
              "      <td>0.004</td>\n",
              "      <td>0.404</td>\n",
              "      <td>1.000</td>\n",
              "      <td>0.001</td>\n",
              "      <td>0.345</td>\n",
              "      <td>0.261</td>\n",
              "      <td>0.089</td>\n",
              "      <td>0.748</td>\n",
              "      <td>0.674</td>\n",
              "      <td>0.957</td>\n",
              "    </tr>\n",
              "    <tr>\n",
              "      <th>...</th>\n",
              "      <td>...</td>\n",
              "      <td>...</td>\n",
              "      <td>...</td>\n",
              "      <td>...</td>\n",
              "      <td>...</td>\n",
              "      <td>...</td>\n",
              "      <td>...</td>\n",
              "      <td>...</td>\n",
              "      <td>...</td>\n",
              "      <td>...</td>\n",
              "      <td>...</td>\n",
              "      <td>...</td>\n",
              "      <td>...</td>\n",
              "      <td>...</td>\n",
              "      <td>...</td>\n",
              "      <td>...</td>\n",
              "      <td>...</td>\n",
              "      <td>...</td>\n",
              "      <td>...</td>\n",
              "      <td>...</td>\n",
              "      <td>...</td>\n",
              "    </tr>\n",
              "    <tr>\n",
              "      <th>395</th>\n",
              "      <td>angry</td>\n",
              "      <td>0.174</td>\n",
              "      <td>0.578</td>\n",
              "      <td>5.265</td>\n",
              "      <td>161.144</td>\n",
              "      <td>2.985</td>\n",
              "      <td>0.065</td>\n",
              "      <td>0.718</td>\n",
              "      <td>0.046</td>\n",
              "      <td>0.265</td>\n",
              "      <td>...</td>\n",
              "      <td>0.374</td>\n",
              "      <td>0.838</td>\n",
              "      <td>0.413</td>\n",
              "      <td>0.125</td>\n",
              "      <td>0.323</td>\n",
              "      <td>0.140</td>\n",
              "      <td>0.120</td>\n",
              "      <td>2.691</td>\n",
              "      <td>0.867</td>\n",
              "      <td>0.969</td>\n",
              "    </tr>\n",
              "    <tr>\n",
              "      <th>396</th>\n",
              "      <td>angry</td>\n",
              "      <td>0.176</td>\n",
              "      <td>0.498</td>\n",
              "      <td>5.042</td>\n",
              "      <td>179.787</td>\n",
              "      <td>2.790</td>\n",
              "      <td>-0.148</td>\n",
              "      <td>0.342</td>\n",
              "      <td>-0.011</td>\n",
              "      <td>0.029</td>\n",
              "      <td>...</td>\n",
              "      <td>0.020</td>\n",
              "      <td>1.000</td>\n",
              "      <td>0.640</td>\n",
              "      <td>0.010</td>\n",
              "      <td>0.233</td>\n",
              "      <td>0.127</td>\n",
              "      <td>0.145</td>\n",
              "      <td>3.364</td>\n",
              "      <td>0.879</td>\n",
              "      <td>0.967</td>\n",
              "    </tr>\n",
              "    <tr>\n",
              "      <th>397</th>\n",
              "      <td>angry</td>\n",
              "      <td>0.187</td>\n",
              "      <td>0.557</td>\n",
              "      <td>4.724</td>\n",
              "      <td>134.032</td>\n",
              "      <td>1.672</td>\n",
              "      <td>0.566</td>\n",
              "      <td>0.880</td>\n",
              "      <td>-0.113</td>\n",
              "      <td>0.244</td>\n",
              "      <td>...</td>\n",
              "      <td>0.052</td>\n",
              "      <td>0.184</td>\n",
              "      <td>0.287</td>\n",
              "      <td>0.101</td>\n",
              "      <td>0.269</td>\n",
              "      <td>0.157</td>\n",
              "      <td>0.111</td>\n",
              "      <td>3.364</td>\n",
              "      <td>0.819</td>\n",
              "      <td>0.962</td>\n",
              "    </tr>\n",
              "    <tr>\n",
              "      <th>398</th>\n",
              "      <td>angry</td>\n",
              "      <td>0.140</td>\n",
              "      <td>0.573</td>\n",
              "      <td>4.470</td>\n",
              "      <td>113.600</td>\n",
              "      <td>1.997</td>\n",
              "      <td>-0.210</td>\n",
              "      <td>0.694</td>\n",
              "      <td>0.089</td>\n",
              "      <td>0.206</td>\n",
              "      <td>...</td>\n",
              "      <td>0.137</td>\n",
              "      <td>1.000</td>\n",
              "      <td>0.304</td>\n",
              "      <td>0.140</td>\n",
              "      <td>0.277</td>\n",
              "      <td>0.144</td>\n",
              "      <td>0.061</td>\n",
              "      <td>3.364</td>\n",
              "      <td>0.811</td>\n",
              "      <td>0.969</td>\n",
              "    </tr>\n",
              "    <tr>\n",
              "      <th>399</th>\n",
              "      <td>angry</td>\n",
              "      <td>0.086</td>\n",
              "      <td>0.475</td>\n",
              "      <td>5.343</td>\n",
              "      <td>151.748</td>\n",
              "      <td>2.240</td>\n",
              "      <td>-0.014</td>\n",
              "      <td>0.834</td>\n",
              "      <td>-0.021</td>\n",
              "      <td>0.345</td>\n",
              "      <td>...</td>\n",
              "      <td>0.099</td>\n",
              "      <td>1.000</td>\n",
              "      <td>0.094</td>\n",
              "      <td>0.033</td>\n",
              "      <td>0.195</td>\n",
              "      <td>0.110</td>\n",
              "      <td>0.007</td>\n",
              "      <td>0.641</td>\n",
              "      <td>0.848</td>\n",
              "      <td>0.965</td>\n",
              "    </tr>\n",
              "  </tbody>\n",
              "</table>\n",
              "<p>400 rows × 51 columns</p>\n",
              "</div>\n",
              "      <button class=\"colab-df-convert\" onclick=\"convertToInteractive('df-f37c3447-2d9d-4389-8a66-d46bab186e2e')\"\n",
              "              title=\"Convert this dataframe to an interactive table.\"\n",
              "              style=\"display:none;\">\n",
              "        \n",
              "  <svg xmlns=\"http://www.w3.org/2000/svg\" height=\"24px\"viewBox=\"0 0 24 24\"\n",
              "       width=\"24px\">\n",
              "    <path d=\"M0 0h24v24H0V0z\" fill=\"none\"/>\n",
              "    <path d=\"M18.56 5.44l.94 2.06.94-2.06 2.06-.94-2.06-.94-.94-2.06-.94 2.06-2.06.94zm-11 1L8.5 8.5l.94-2.06 2.06-.94-2.06-.94L8.5 2.5l-.94 2.06-2.06.94zm10 10l.94 2.06.94-2.06 2.06-.94-2.06-.94-.94-2.06-.94 2.06-2.06.94z\"/><path d=\"M17.41 7.96l-1.37-1.37c-.4-.4-.92-.59-1.43-.59-.52 0-1.04.2-1.43.59L10.3 9.45l-7.72 7.72c-.78.78-.78 2.05 0 2.83L4 21.41c.39.39.9.59 1.41.59.51 0 1.02-.2 1.41-.59l7.78-7.78 2.81-2.81c.8-.78.8-2.07 0-2.86zM5.41 20L4 18.59l7.72-7.72 1.47 1.35L5.41 20z\"/>\n",
              "  </svg>\n",
              "      </button>\n",
              "      \n",
              "  <style>\n",
              "    .colab-df-container {\n",
              "      display:flex;\n",
              "      flex-wrap:wrap;\n",
              "      gap: 12px;\n",
              "    }\n",
              "\n",
              "    .colab-df-convert {\n",
              "      background-color: #E8F0FE;\n",
              "      border: none;\n",
              "      border-radius: 50%;\n",
              "      cursor: pointer;\n",
              "      display: none;\n",
              "      fill: #1967D2;\n",
              "      height: 32px;\n",
              "      padding: 0 0 0 0;\n",
              "      width: 32px;\n",
              "    }\n",
              "\n",
              "    .colab-df-convert:hover {\n",
              "      background-color: #E2EBFA;\n",
              "      box-shadow: 0px 1px 2px rgba(60, 64, 67, 0.3), 0px 1px 3px 1px rgba(60, 64, 67, 0.15);\n",
              "      fill: #174EA6;\n",
              "    }\n",
              "\n",
              "    [theme=dark] .colab-df-convert {\n",
              "      background-color: #3B4455;\n",
              "      fill: #D2E3FC;\n",
              "    }\n",
              "\n",
              "    [theme=dark] .colab-df-convert:hover {\n",
              "      background-color: #434B5C;\n",
              "      box-shadow: 0px 1px 3px 1px rgba(0, 0, 0, 0.15);\n",
              "      filter: drop-shadow(0px 1px 2px rgba(0, 0, 0, 0.3));\n",
              "      fill: #FFFFFF;\n",
              "    }\n",
              "  </style>\n",
              "\n",
              "      <script>\n",
              "        const buttonEl =\n",
              "          document.querySelector('#df-f37c3447-2d9d-4389-8a66-d46bab186e2e button.colab-df-convert');\n",
              "        buttonEl.style.display =\n",
              "          google.colab.kernel.accessAllowed ? 'block' : 'none';\n",
              "\n",
              "        async function convertToInteractive(key) {\n",
              "          const element = document.querySelector('#df-f37c3447-2d9d-4389-8a66-d46bab186e2e');\n",
              "          const dataTable =\n",
              "            await google.colab.kernel.invokeFunction('convertToInteractive',\n",
              "                                                     [key], {});\n",
              "          if (!dataTable) return;\n",
              "\n",
              "          const docLinkHtml = 'Like what you see? Visit the ' +\n",
              "            '<a target=\"_blank\" href=https://colab.research.google.com/notebooks/data_table.ipynb>data table notebook</a>'\n",
              "            + ' to learn more about interactive tables.';\n",
              "          element.innerHTML = '';\n",
              "          dataTable['output_type'] = 'display_data';\n",
              "          await google.colab.output.renderOutput(dataTable, element);\n",
              "          const docLink = document.createElement('div');\n",
              "          docLink.innerHTML = docLinkHtml;\n",
              "          element.appendChild(docLink);\n",
              "        }\n",
              "      </script>\n",
              "    </div>\n",
              "  </div>\n",
              "  "
            ]
          },
          "metadata": {},
          "execution_count": 182
        }
      ]
    },
    {
      "cell_type": "code",
      "source": [
        "# split data & label\n",
        "X_train = data.iloc[:, 1:].values.astype(np.float32)\n",
        "Y_train = data.iloc[:, 0].values\n",
        "\n",
        "data_classes = ['relax', 'happy', 'sad', 'angry']\n",
        "d = dict(zip(data_classes, range(0,4)))\n",
        "Y_train = data.iloc[:, 0].map(d, na_action='ignore').values\n",
        "# Y_train = preprocessing.scale(Y_train)\n",
        "\n",
        "# make Train & validation set\n",
        "train_set, test_set, train_labels, test_labels = train_test_split(X_train, Y_train, stratify=Y_train,\n",
        "                                                                      random_state= 231,test_size=0.20)\n",
        "train_set, val_set, train_labels, val_labels = train_test_split(train_set, train_labels, stratify=train_labels,\n",
        "                                                                      random_state= 312,test_size=0.10)"
      ],
      "metadata": {
        "id": "9TF3igtSkXuj"
      },
      "execution_count": null,
      "outputs": []
    },
    {
      "cell_type": "code",
      "source": [
        "print(train_set.shape,val_set.shape,test_set.shape)\n",
        "print(train_labels.shape,val_labels.shape,test_labels.shape)"
      ],
      "metadata": {
        "colab": {
          "base_uri": "https://localhost:8080/"
        },
        "id": "WcRdj1lJqBjH",
        "outputId": "41c1c0a8-704e-4216-d3de-55d22d80e153"
      },
      "execution_count": null,
      "outputs": [
        {
          "output_type": "stream",
          "name": "stdout",
          "text": [
            "(288, 50) (32, 50) (80, 50)\n",
            "(288,) (32,) (80,)\n"
          ]
        }
      ]
    },
    {
      "cell_type": "code",
      "source": [
        "# preproccess data\n",
        "train_set = preprocessing.scale(train_set)\n",
        "val_set = preprocessing.scale(val_set)\n",
        "test_set = preprocessing.scale(test_set)"
      ],
      "metadata": {
        "colab": {
          "base_uri": "https://localhost:8080/"
        },
        "id": "k2y1rXBElGlJ",
        "outputId": "f6c47a27-0c32-4b03-e4c4-82640ad50941"
      },
      "execution_count": null,
      "outputs": [
        {
          "output_type": "stream",
          "name": "stderr",
          "text": [
            "/usr/local/lib/python3.8/dist-packages/sklearn/preprocessing/_data.py:235: UserWarning: Numerical issues were encountered when centering the data and might not be solved. Dataset may contain too large values. You may need to prescale your features.\n",
            "  warnings.warn(\n",
            "/usr/local/lib/python3.8/dist-packages/sklearn/preprocessing/_data.py:254: UserWarning: Numerical issues were encountered when scaling the data and might not be solved. The standard deviation of the data is probably very close to 0. \n",
            "  warnings.warn(\n",
            "/usr/local/lib/python3.8/dist-packages/sklearn/preprocessing/_data.py:235: UserWarning: Numerical issues were encountered when centering the data and might not be solved. Dataset may contain too large values. You may need to prescale your features.\n",
            "  warnings.warn(\n",
            "/usr/local/lib/python3.8/dist-packages/sklearn/preprocessing/_data.py:254: UserWarning: Numerical issues were encountered when scaling the data and might not be solved. The standard deviation of the data is probably very close to 0. \n",
            "  warnings.warn(\n",
            "/usr/local/lib/python3.8/dist-packages/sklearn/preprocessing/_data.py:235: UserWarning: Numerical issues were encountered when centering the data and might not be solved. Dataset may contain too large values. You may need to prescale your features.\n",
            "  warnings.warn(\n",
            "/usr/local/lib/python3.8/dist-packages/sklearn/preprocessing/_data.py:254: UserWarning: Numerical issues were encountered when scaling the data and might not be solved. The standard deviation of the data is probably very close to 0. \n",
            "  warnings.warn(\n"
          ]
        }
      ]
    },
    {
      "cell_type": "code",
      "source": [
        "#train\n",
        "train_data_tensor = torch.tensor(train_set)\n",
        "train_labels_tensor = torch.tensor(train_labels)\n",
        "train_tensor = TensorDataset(train_data_tensor, train_labels_tensor)\n",
        "print(train_data_tensor.shape)\n",
        "#val\n",
        "val_data_tensor = torch.tensor(val_set)\n",
        "val_labels_tensor = torch.tensor(val_labels)\n",
        "val_tensor = TensorDataset(val_data_tensor, val_labels_tensor)\n",
        "#test\n",
        "test_data_tensor = torch.tensor(test_set)"
      ],
      "metadata": {
        "colab": {
          "base_uri": "https://localhost:8080/"
        },
        "outputId": "54f6c5ab-c2b4-4f83-a216-04838fd13778",
        "id": "-I60ImAspkfD"
      },
      "execution_count": null,
      "outputs": [
        {
          "output_type": "stream",
          "name": "stdout",
          "text": [
            "torch.Size([288, 50])\n"
          ]
        }
      ]
    },
    {
      "cell_type": "code",
      "source": [
        "# prepare dataset for torch\n",
        "train_set_tensor = torch.tensor(train_set)\n",
        "train_labels_tensor = torch.tensor(train_labels)\n",
        "train_tensor = TensorDataset(train_set_tensor, train_labels_tensor)\n",
        "train_loader = DataLoader(train_tensor, batch_size=16, num_workers=2, shuffle=True)\n",
        "\n",
        "val_set_tensor = torch.tensor(val_set)\n",
        "val_labels_tensor = torch.tensor(val_labels)\n",
        "val_tensor = TensorDataset(val_set_tensor, val_labels_tensor)\n",
        "val_loader =   DataLoader(val_tensor, batch_size=16, num_workers=2, shuffle=True)\n",
        "\n",
        "test_set_tensor = torch.tensor(test_set)\n",
        "test_labels_tensor = torch.tensor(test_labels)\n",
        "test_tensor = TensorDataset(test_set_tensor, test_labels_tensor)\n",
        "test_loader = DataLoader(test_tensor, batch_size=16, num_workers=2, shuffle=False)"
      ],
      "metadata": {
        "id": "l6kmdzrkpvmg"
      },
      "execution_count": null,
      "outputs": []
    },
    {
      "cell_type": "code",
      "source": [
        "class DeepNeuralNetwork(nn.Module):\n",
        "    def __init__(self,num_feature = 50,output_size = 4,seed = 8):\n",
        "        super(DeepNeuralNetwork, self).__init__()\n",
        "\n",
        "        self.num_feature = num_feature\n",
        "        self.output_size = output_size\n",
        "        self.seed = seed\n",
        "\n",
        "        \n",
        "        self.linear_block = nn.Sequential(\n",
        "            nn.Dropout(0.2),\n",
        "            nn.Linear(self.num_feature, 128),\n",
        "            nn.BatchNorm1d(128),\n",
        "            nn.ReLU(),\n",
        "\n",
        "            nn.Dropout(0.2),\n",
        "            nn.Linear(128, 256),\n",
        "            nn.BatchNorm1d(256),\n",
        "            nn.ReLU(),\n",
        "\n",
        "            nn.Dropout(0.2),\n",
        "            nn.Linear(256, 512),\n",
        "            nn.BatchNorm1d(512),\n",
        "            nn.ReLU(),\n",
        "\n",
        "            nn.Dropout(0.2),\n",
        "            nn.Linear(512, 256),\n",
        "            nn.BatchNorm1d(256),\n",
        "            nn.ReLU(),\n",
        "\n",
        "            nn.Dropout(0.2),\n",
        "            nn.Linear(256, 128),\n",
        "            nn.BatchNorm1d(128),\n",
        "            nn.ReLU(),\n",
        "\n",
        "            nn.Dropout(0.2),\n",
        "            nn.Linear(128, 32),\n",
        "            nn.BatchNorm1d(32),\n",
        "            nn.ReLU(),\n",
        "\n",
        "            nn.Dropout(0.2),\n",
        "            nn.Linear(32, self.output_size)\n",
        "        )\n",
        "        \n",
        "    def forward(self, x):\n",
        "        x = x.view(x.size(0), -1)\n",
        "        x = self.linear_block(x)\n",
        "        \n",
        "        return x"
      ],
      "metadata": {
        "id": "b77SAiykqXJ4"
      },
      "execution_count": null,
      "outputs": []
    },
    {
      "cell_type": "code",
      "source": [
        "ann_model = DeepNeuralNetwork(num_feature = 50,output_size = 4,seed = 8)\n",
        "if torch.cuda.is_available():\n",
        "    ann_model = ann_model.cuda()\n",
        "ann_model"
      ],
      "metadata": {
        "colab": {
          "base_uri": "https://localhost:8080/"
        },
        "id": "aT9cXf7Qle2y",
        "outputId": "bb0244a6-a1a0-49d0-fd57-8cffbee50780"
      },
      "execution_count": null,
      "outputs": [
        {
          "output_type": "execute_result",
          "data": {
            "text/plain": [
              "DeepNeuralNetwork(\n",
              "  (linear_block): Sequential(\n",
              "    (0): Dropout(p=0.2, inplace=False)\n",
              "    (1): Linear(in_features=50, out_features=128, bias=True)\n",
              "    (2): BatchNorm1d(128, eps=1e-05, momentum=0.1, affine=True, track_running_stats=True)\n",
              "    (3): ReLU()\n",
              "    (4): Dropout(p=0.2, inplace=False)\n",
              "    (5): Linear(in_features=128, out_features=256, bias=True)\n",
              "    (6): BatchNorm1d(256, eps=1e-05, momentum=0.1, affine=True, track_running_stats=True)\n",
              "    (7): ReLU()\n",
              "    (8): Dropout(p=0.2, inplace=False)\n",
              "    (9): Linear(in_features=256, out_features=512, bias=True)\n",
              "    (10): BatchNorm1d(512, eps=1e-05, momentum=0.1, affine=True, track_running_stats=True)\n",
              "    (11): ReLU()\n",
              "    (12): Dropout(p=0.2, inplace=False)\n",
              "    (13): Linear(in_features=512, out_features=256, bias=True)\n",
              "    (14): BatchNorm1d(256, eps=1e-05, momentum=0.1, affine=True, track_running_stats=True)\n",
              "    (15): ReLU()\n",
              "    (16): Dropout(p=0.2, inplace=False)\n",
              "    (17): Linear(in_features=256, out_features=128, bias=True)\n",
              "    (18): BatchNorm1d(128, eps=1e-05, momentum=0.1, affine=True, track_running_stats=True)\n",
              "    (19): ReLU()\n",
              "    (20): Dropout(p=0.2, inplace=False)\n",
              "    (21): Linear(in_features=128, out_features=32, bias=True)\n",
              "    (22): BatchNorm1d(32, eps=1e-05, momentum=0.1, affine=True, track_running_stats=True)\n",
              "    (23): ReLU()\n",
              "    (24): Dropout(p=0.2, inplace=False)\n",
              "    (25): Linear(in_features=32, out_features=4, bias=True)\n",
              "  )\n",
              ")"
            ]
          },
          "metadata": {},
          "execution_count": 224
        }
      ]
    },
    {
      "cell_type": "code",
      "source": [
        "optimizer = optim.Adam(params=ann_model.parameters(), lr=0.01)\n",
        "criterion = nn.CrossEntropyLoss()\n",
        "\n",
        "exp_lr_scheduler = optim.lr_scheduler.StepLR(optimizer, step_size=7, gamma=0.1)\n",
        "\n",
        "if torch.cuda.is_available():\n",
        "    criterion = criterion.cuda()"
      ],
      "metadata": {
        "id": "UKt8E_f6lqjy"
      },
      "execution_count": null,
      "outputs": []
    },
    {
      "cell_type": "code",
      "source": [
        "def train_model(model,train_loader,num_epoch):\n",
        "    model.train()\n",
        "    exp_lr_scheduler.step()\n",
        "    \n",
        "    for batch_idx, (data, target) in enumerate(train_loader):\n",
        "        data = data.unsqueeze(1)\n",
        "        data, target = data, target\n",
        "        \n",
        "        if torch.cuda.is_available():\n",
        "            data = data.cuda()\n",
        "            target = target.cuda()\n",
        "            \n",
        "        optimizer.zero_grad()\n",
        "        output = model(data)\n",
        "        loss = criterion(output, target)\n",
        "        loss.backward()\n",
        "        optimizer.step()\n",
        "        \n",
        "        if (batch_idx + 1)% 100 == 0:\n",
        "            print('Train Epoch: {} [{}/{} ({:.0f}%)]\\tLoss: {:.6f}'.format(\n",
        "                num_epoch, (batch_idx + 1) * len(data), len(train_loader.dataset),\n",
        "                100. * (batch_idx + 1) / len(train_loader), loss.data))\n",
        "            \n",
        "def evaluate(model,data_loader):\n",
        "    model.eval()\n",
        "    loss = 0\n",
        "    correct = 0\n",
        "    \n",
        "    for data, target in data_loader:\n",
        "        data = data.unsqueeze(1)\n",
        "        data, target = data, target\n",
        "        \n",
        "        if torch.cuda.is_available():\n",
        "            data = data.cuda()\n",
        "            target = target.cuda()\n",
        "        \n",
        "        output = model(data)\n",
        "        \n",
        "        loss += F.cross_entropy(output, target, size_average=False).data\n",
        "\n",
        "        pred = output.data.max(1, keepdim=True)[1]\n",
        "        correct += pred.eq(target.data.view_as(pred)).cpu().sum()\n",
        "        \n",
        "    loss /= len(data_loader.dataset)\n",
        "        \n",
        "    print('\\nAverage Val Loss: {:.4f}, Val Accuracy: {}/{} ({:.3f}%)\\n'.format(\n",
        "        loss, correct, len(data_loader.dataset),\n",
        "        100. * correct / len(data_loader.dataset)))"
      ],
      "metadata": {
        "id": "lu30_hYmltTC"
      },
      "execution_count": null,
      "outputs": []
    },
    {
      "cell_type": "code",
      "source": [
        "num_epochs = 10\n",
        "\n",
        "for n in range(num_epochs):\n",
        "    train_model(ann_model, train_loader, n)\n",
        "    evaluate(ann_model, val_loader)"
      ],
      "metadata": {
        "colab": {
          "base_uri": "https://localhost:8080/"
        },
        "id": "gRER3v4Bl3YC",
        "outputId": "ab52b18e-7a12-4d8b-9da7-50595ff51389"
      },
      "execution_count": null,
      "outputs": [
        {
          "output_type": "stream",
          "name": "stdout",
          "text": [
            "\n",
            "Average Val Loss: 0.8624, Val Accuracy: 21/32 (65.625%)\n",
            "\n",
            "\n",
            "Average Val Loss: 0.6956, Val Accuracy: 23/32 (71.875%)\n",
            "\n",
            "\n",
            "Average Val Loss: 0.4741, Val Accuracy: 27/32 (84.375%)\n",
            "\n",
            "\n",
            "Average Val Loss: 0.6355, Val Accuracy: 26/32 (81.250%)\n",
            "\n",
            "\n",
            "Average Val Loss: 0.6029, Val Accuracy: 25/32 (78.125%)\n",
            "\n",
            "\n",
            "Average Val Loss: 0.4470, Val Accuracy: 28/32 (87.500%)\n",
            "\n",
            "\n",
            "Average Val Loss: 0.4437, Val Accuracy: 27/32 (84.375%)\n",
            "\n",
            "\n",
            "Average Val Loss: 0.4320, Val Accuracy: 28/32 (87.500%)\n",
            "\n",
            "\n",
            "Average Val Loss: 0.4054, Val Accuracy: 29/32 (90.625%)\n",
            "\n",
            "\n",
            "Average Val Loss: 0.4380, Val Accuracy: 29/32 (90.625%)\n",
            "\n"
          ]
        }
      ]
    },
    {
      "cell_type": "code",
      "source": [
        "def make_predictions(model,data_loader):\n",
        "    model.eval()\n",
        "    test_preds = torch.LongTensor()\n",
        "    \n",
        "    for i, (data, target) in enumerate(data_loader):\n",
        "      \n",
        "        data = data.unsqueeze(1)\n",
        "        \n",
        "        if torch.cuda.is_available():\n",
        "            data = data.cuda()\n",
        "            \n",
        "        output = model(data)\n",
        "        \n",
        "        preds = output.cpu().data.max(1, keepdim=True)[1]\n",
        "        test_preds = torch.cat((test_preds, preds), dim=0)\n",
        "        \n",
        "    return test_preds"
      ],
      "metadata": {
        "id": "3pYM0kbEpOwm"
      },
      "execution_count": null,
      "outputs": []
    },
    {
      "cell_type": "code",
      "source": [
        "test_set_preds = make_predictions(ann_model,test_loader)"
      ],
      "metadata": {
        "id": "SGfSIp2-ogth"
      },
      "execution_count": null,
      "outputs": []
    },
    {
      "cell_type": "code",
      "source": [
        "# Make the confusion matrix\n",
        "cmt = torch.zeros(4, 4, dtype=torch.int32)\n",
        "for i in range(len(test_labels)):\n",
        "    cmt[test_labels[i], test_set_preds[i]] += 1\n",
        "cmt"
      ],
      "metadata": {
        "colab": {
          "base_uri": "https://localhost:8080/"
        },
        "id": "oe6k2s6Nrzjp",
        "outputId": "353b3a6c-0be5-426f-c92e-c867063a04a6"
      },
      "execution_count": null,
      "outputs": [
        {
          "output_type": "execute_result",
          "data": {
            "text/plain": [
              "tensor([[16,  0,  4,  0],\n",
              "        [ 0, 20,  0,  0],\n",
              "        [ 1,  5, 13,  1],\n",
              "        [ 0,  0,  5, 15]], dtype=torch.int32)"
            ]
          },
          "metadata": {},
          "execution_count": 230
        }
      ]
    },
    {
      "cell_type": "code",
      "source": [
        "from sklearn.metrics import accuracy_score, confusion_matrix, roc_auc_score, roc_curve, classification_report, auc\n",
        "\n",
        "report = classification_report(test_labels, test_set_preds)\n",
        "\n",
        "print(report)"
      ],
      "metadata": {
        "colab": {
          "base_uri": "https://localhost:8080/"
        },
        "id": "Cg9d7b2Ir7dv",
        "outputId": "d86736ad-1607-4dc2-d3dd-c3ff1c357ec7"
      },
      "execution_count": null,
      "outputs": [
        {
          "output_type": "stream",
          "name": "stdout",
          "text": [
            "              precision    recall  f1-score   support\n",
            "\n",
            "           0       0.94      0.80      0.86        20\n",
            "           1       0.80      1.00      0.89        20\n",
            "           2       0.59      0.65      0.62        20\n",
            "           3       0.94      0.75      0.83        20\n",
            "\n",
            "    accuracy                           0.80        80\n",
            "   macro avg       0.82      0.80      0.80        80\n",
            "weighted avg       0.82      0.80      0.80        80\n",
            "\n"
          ]
        }
      ]
    }
  ]
}